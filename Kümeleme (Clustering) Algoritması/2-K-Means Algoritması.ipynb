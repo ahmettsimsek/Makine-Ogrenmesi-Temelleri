{
 "cells": [
  {
   "cell_type": "markdown",
   "metadata": {},
   "source": [
    "# 2. K-Means Algoritması"
   ]
  },
  {
   "cell_type": "markdown",
   "metadata": {},
   "source": [
    "##### K-means algoritmasında kullanılan örnekler, k adet kümeye bölünür(k değerini kaç belirledin sorusu akla gelir). Algoritmanın özü birbirlerine benzerlik gösteren verilerin aynı küme içerisine alınmasına dayanır. Algoritmadaki benzerlik terimi, veriler arasıdaki uzaklığa göre belirlenmektedir. Uzaklığın az olması benzerliğin yüksek, çok olması ise düşük olduğu anlamına gelmektedir(veriler arası uzaklığa bakarız!).\n"
   ]
  },
  {
   "cell_type": "markdown",
   "metadata": {},
   "source": [
    "##### K-means algoritmasının yapısı aşağıdaki gibidir;\n",
    "1) K adet rastgele küme oluştur\n",
    "\n",
    "2) Kare hata oranını hesapla\n",
    "\n",
    "3) Verilerin kümelerin orta noktalarına olan uzaklıklarını bul\n",
    "\n",
    "4) Her veri için en yakın kümeyi, o verinin kümesi olarak belirle\n",
    "\n",
    "5) Yeni yerleşim düzenine göre hata oranını hesapla\n",
    "\n",
    "6) Eğer önceki hata oranı ile şimdiki hata oranı eşit değilse 2,3,4,5 ve 6. adımları tekrarla\n",
    "\n",
    "7) Eğer önceki hata oranı ile şimdiki hata oranı eşitse kümeleme işlemini sonlandır(en son veri kümeleri değişmeyene kadar devam eder, en son sonlanır.)\n"
   ]
  },
  {
   "cell_type": "markdown",
   "metadata": {},
   "source": [
    "![Ekran görüntüsü 2024-05-17 064638](https://github.com/ahmettsimsek/Makine-Ogrenmesi-Temelleri/assets/124433579/dd9f0c9a-ecf8-4c85-ad97-ce11844f2bf1)\n"
   ]
  },
  {
   "cell_type": "markdown",
   "metadata": {},
   "source": [
    "-------------"
   ]
  },
  {
   "cell_type": "markdown",
   "metadata": {},
   "source": [
    "K-ortalamasının nasıl çalıştığını anlamak için basit bir örnek. Bu örnekte, önce 4 farklı blob içeren 2D veri kümesi oluşturacağız ve ardından sonucu görmek için k-ortalamalar algoritması uygulayacağız.\n",
    "\n",
    "\n"
   ]
  },
  {
   "cell_type": "markdown",
   "metadata": {},
   "source": [
    "##### İlk olarak, gerekli paketleri içe aktararak başlayacağız -"
   ]
  },
  {
   "cell_type": "code",
   "execution_count": null,
   "metadata": {},
   "outputs": [],
   "source": [
    "%matplotlib inline\n",
    "import matplotlib.pyplot as plt\n",
    "import seaborn as sns; sns.set()\n",
    "import numpy as np\n",
    "from sklearn.cluster import KMeans"
   ]
  },
  {
   "cell_type": "markdown",
   "metadata": {},
   "source": [
    "##### Aşağıdaki kod, dört blob içeren 2D'yi oluşturacaktır -"
   ]
  },
  {
   "cell_type": "code",
   "execution_count": null,
   "metadata": {},
   "outputs": [],
   "source": [
    "from sklearn.datasets.samples_generator import make_blobs\n",
    "X, y_true = make_blobs(n_samples=400, centers=4, cluster_std=0.60, random_state=0)"
   ]
  },
  {
   "cell_type": "markdown",
   "metadata": {},
   "source": [
    "##### Ardından, aşağıdaki kod, veri kümesini görselleştirmemize yardımcı olacaktır -"
   ]
  },
  {
   "cell_type": "code",
   "execution_count": null,
   "metadata": {},
   "outputs": [],
   "source": [
    "plt.scatter(X[:, 0], X[:, 1], s=20);\n",
    "plt.show()"
   ]
  },
  {
   "cell_type": "markdown",
   "metadata": {},
   "source": [
    "![Ekran görüntüsü 2024-05-17 064843](https://github.com/ahmettsimsek/Makine-Ogrenmesi-Temelleri/assets/124433579/b52710cf-8520-4eb6-83a3-3abe82270ec5)\n"
   ]
  },
  {
   "cell_type": "markdown",
   "metadata": {},
   "source": [
    "#####Daha sonra, küme sayısının yanı sıra KMeans nesnesi yapın, modeli eğitin ve aşağıdaki gibi tahmini yapın -"
   ]
  },
  {
   "cell_type": "code",
   "execution_count": null,
   "metadata": {},
   "outputs": [],
   "source": [
    "kmeans = KMeans(n_clusters=4)\n",
    "kmeans.fit(X)\n",
    "y_kmeans = kmeans.predict(X)"
   ]
  },
  {
   "cell_type": "markdown",
   "metadata": {},
   "source": [
    "##### Şimdi, aşağıdaki kodun yardımıyla, k-yolu Python tahmincisi tarafından seçilen kümenin merkezlerini çizebilir ve görselleştirebiliriz -"
   ]
  },
  {
   "cell_type": "code",
   "execution_count": null,
   "metadata": {},
   "outputs": [],
   "source": [
    "plt.scatter(X[:, 0], X[:, 1], c=y_kmeans, s=20, cmap='summer')\n",
    "centers = kmeans.cluster_centers_\n",
    "plt.scatter(centers[:, 0], centers[:, 1], c='blue', s=100, alpha=0.9);\n",
    "plt.show()\n"
   ]
  },
  {
   "cell_type": "markdown",
   "metadata": {},
   "source": [
    "![Ekran görüntüsü 2024-05-17 065002](https://github.com/ahmettsimsek/Makine-Ogrenmesi-Temelleri/assets/124433579/599af2bc-e8a5-41d4-95f1-96fcbab5fee9)\n"
   ]
  },
  {
   "cell_type": "markdown",
   "metadata": {},
   "source": [
    "-------------"
   ]
  },
  {
   "cell_type": "markdown",
   "metadata": {},
   "source": [
    "K-Means Algoritması konusunda daha fazla detaya ulaşmak için, benim de örnek için Yararlandığım \"TRPOST\" sayfasına aşağıdaki linkten ulaşabilirsiniz:"
   ]
  },
  {
   "cell_type": "markdown",
   "metadata": {},
   "source": [
    "https://post.nghiatu.com/tr/tutorial/machine-learning-with-python/clustering-algorithms-k-means-algorithm/kumeleme-algoritmalari-k-ortalama-algoritmasi"
   ]
  }
 ],
 "metadata": {
  "kernelspec": {
   "display_name": "Python 3",
   "language": "python",
   "name": "python3"
  },
  "language_info": {
   "codemirror_mode": {
    "name": "ipython",
    "version": 3
   },
   "file_extension": ".py",
   "mimetype": "text/x-python",
   "name": "python",
   "nbconvert_exporter": "python",
   "pygments_lexer": "ipython3",
   "version": "3.11.2"
  }
 },
 "nbformat": 4,
 "nbformat_minor": 2
}
