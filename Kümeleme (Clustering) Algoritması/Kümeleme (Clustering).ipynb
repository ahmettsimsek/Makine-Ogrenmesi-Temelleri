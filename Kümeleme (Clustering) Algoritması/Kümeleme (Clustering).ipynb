{
 "cells": [
  {
   "cell_type": "markdown",
   "metadata": {},
   "source": [
    "# Kümeleme (Clustering)"
   ]
  },
  {
   "cell_type": "markdown",
   "metadata": {},
   "source": [
    "##### Kümeleme, denetimsiz öğrenmenin bir yöntemidir ve birçok alanda kullanılan istatistiksel veri analizi için yaygın bir tekniktir. Denetimsiz öğrenme, veri kümesi ile çıktıların olmadığı bir öğrenme metodudur. Veri kümesindeki verileri yorumlayarak ortak noktaları bulmak ve bunları kümeleştirme işlemi yapılarak anlamlı bir veri elde edebilmektir. Sistem, öğreten olmadan öğrenmeye çalışır. Ham verileri organize verilere dönüştüren bir makine öğrenimi türüdür.\n"
   ]
  },
  {
   "cell_type": "markdown",
   "metadata": {},
   "source": [
    "##### Denetimsiz öğrenmede sadece veriler vardır onlar hakkında bilgi verilmez. Bu verilerden sonuçlar çıkarılmaya çalışılır. En baştan veriler hakkında herhangi bir bilgi verilmediği için çıkartılan sonuçların kesinlikle doğru olduğu söylenemez. Veriyi değişkenler arasındaki ilişkilere dayalı olarak kümeleyerek çeşitli modeller, yapılar oluşturabiliriz. Örneğin, bir alışveriş sitesinde alınan bir ürünün yanında kullanıcıların alabileceği diğer ürünlerin tavsiye olarak belirlenmesi. "
   ]
  },
  {
   "cell_type": "markdown",
   "metadata": {},
   "source": [
    "![Ekran görüntüsü 2024-05-17 054734](https://github.com/ahmettsimsek/Makine-Ogrenmesi-Temelleri/assets/124433579/b8507ed9-a632-4bac-9acf-0e893f16a30e)"
   ]
  },
  {
   "cell_type": "markdown",
   "metadata": {},
   "source": [
    "Görselden şu yorumu çıkarmamız doğru olacaktır;\n",
    " Bir veri var elimizde, feauterlarına bakarak kümelendirme işlemi yaptırıyoruz, ayrı sınıflara ayırırız."
   ]
  },
  {
   "cell_type": "markdown",
   "metadata": {},
   "source": [
    "##### Denetimsiz öğrenmede kümeleme söz konusudur. Kümeleme algoritmaları basitçe, veri kümesindeki elemanları kendi aralarında gruplamaya çalışır. Burada kaç grup olacağı veya en uygun küme sayısını algoritmanın kendisi belirler. Verilerin yakınlık, uzaklık, benzerlik gibi ölçütlere göre analiz edilerek sınıflara ayrılmasına kümeleme denir"
   ]
  },
  {
   "cell_type": "markdown",
   "metadata": {},
   "source": [
    "----------------"
   ]
  },
  {
   "cell_type": "markdown",
   "metadata": {},
   "source": [
    "#### Kümelemenin uygulama alanları:\n",
    "Tıp’da elde edilen görüntülemeler üzerindeki farklıları analiz edilerek değişik nitelikler\n",
    "çıkartılabilir.\n",
    "\n",
    "Suç Yerlerinin Belirlenmesi: Bir şehirdeki belirli bölgelerde mevcut olan suçlarla ilgili veriler,\n",
    "suç kategorisi, suç alanı ve ikisi arasındaki ilişki, bir şehirdeki ya da bölgedeki suça eğilimli\n",
    "alanlara ilişkin kaliteli bilgiler verebilir.\n",
    "\n",
    "Oyuncu istatistiklerini analiz etmek: Oyuncu istatistiklerini analiz etmek, spor dünyasının her\n",
    "zaman kritik bir unsuru olmuştur ve artan rekabetle birlikte, makine öğrenmenin burada\n",
    "oynayacağı kritik bir rol vardır.\n",
    "\n",
    "Çağrı Kaydı Detay Analizi: Bir çağrı detay kaydı (CDR), telekom şirketleri tarafından bir\n",
    "müşterinin araması, SMS ve internet etkinliği sırasında elde edilen bilgilerdir. Bu bilgiler,\n",
    "müşteri demografisiyle birlikte kullanıldığında, müşterinin ihtiyaçları hakkında daha fazla\n",
    "bilgi sağlar.\n"
   ]
  },
  {
   "cell_type": "markdown",
   "metadata": {},
   "source": [
    "----------"
   ]
  },
  {
   "cell_type": "markdown",
   "metadata": {},
   "source": [
    "#### Müşteri Segmentasyonu:\n",
    "##### Collaborative Filtering: \n",
    "Davranışları birbirine benzeyen insanların yaptıklarına bakılarak kümedeki birinin ne yapacağını kestirmek.\n",
    "\n",
    "##### Tehdit ve Sahtekarlık Yakalama: \n",
    "Sınıflandırmada tehditlerin özellikleri makineye öğretilir. Kümelemede ise kümelerin dışında kalan , herhangi bir kümeye girmeyen örnek bir tehdit unsuru olarak tanımlanabilir.\n",
    "\n",
    "##### Eksik Verilerin Tanımlanması:\n",
    " Örneğin birinin maaş bilgisi eksikse segmentte benzer kişilerin maaş ortalamasına göre bir maaş hesaplanabilir.\n",
    "\n",
    "#### Pazar Segmentasyonu:\n",
    "##### Davranışsal Segmentasyon: \n",
    "Örneğin ücretsiz uygulamaları yükleyenler neyi seçiyiorlar?\n",
    "\n",
    "##### Demografik Segmentasyon: \n",
    "Müşterilerin yaşı, cinsiyeti, eğitim düzeyi ile davranışlarının entegre edilmesi.\n",
    "\n",
    "##### Psikolojik Segmentasyon: \n",
    "Müşterilerin hayal-beklentilerine göre farklı ürünler sunulabilir.\n",
    "\n",
    "##### Coğrafi Segmentasyon:\n",
    " Ülkelere şehirlere göre vs."
   ]
  },
  {
   "cell_type": "markdown",
   "metadata": {},
   "source": [
    "---------"
   ]
  },
  {
   "cell_type": "markdown",
   "metadata": {},
   "source": [
    "#### Kümeleme Çeşitleri:\n",
    "1- Hiyerarşik Kümeleme\n",
    "\n",
    "2- Gürültülü Uygulamaların Yoğunluğa Dayalı Konumsal Kümelenmesi (DBSCAN)\n",
    "\n",
    "3- K-means Kümeleme\n",
    "\n",
    "4- Ağırlık Ortalama Kaydırma Kümelemesi\n",
    "\n",
    "5- Gauss Karışım Modelleri (GMM) kullanarak Beklenti-Maksimizasyon (EM) Kümeleme"
   ]
  },
  {
   "cell_type": "markdown",
   "metadata": {},
   "source": [
    "----------------------------"
   ]
  }
 ],
 "metadata": {
  "kernelspec": {
   "display_name": "Python 3",
   "language": "python",
   "name": "python3"
  },
  "language_info": {
   "codemirror_mode": {
    "name": "ipython",
    "version": 3
   },
   "file_extension": ".py",
   "mimetype": "text/x-python",
   "name": "python",
   "nbconvert_exporter": "python",
   "pygments_lexer": "ipython3",
   "version": "3.11.2"
  }
 },
 "nbformat": 4,
 "nbformat_minor": 2
}
