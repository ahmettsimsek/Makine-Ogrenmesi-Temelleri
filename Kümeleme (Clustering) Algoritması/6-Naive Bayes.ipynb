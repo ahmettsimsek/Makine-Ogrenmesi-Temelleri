{
 "cells": [
  {
   "cell_type": "markdown",
   "metadata": {},
   "source": [
    "# Naive Bayes\n"
   ]
  },
  {
   "cell_type": "markdown",
   "metadata": {},
   "source": [
    "##### Bayes Ağı, bir dizi değişken arasındaki ilişkilerin olasılıklarını öğrenerek çıkarım yapan bir makine öğrenmesi algoritmasıdır. Düşünce ya da oluşan kanı veya yönlendirilmiş olasılıklı bir modeldir. Örneğin, bir Bayes ağı, hastalıklar ve semptomlar arasındaki olasılık ilişkilerini temsil edebilir. Belirtiler verildiğinde, ağ çeşitli hastalıkların varlığının olasılıklarını hesaplamak için kullanılabilir.\n",
    "\n",
    "##### Konuşma sinyalleri veya protein dizileri gibi değişken dizilerini modelleyen Bayes ağlarına dinamik Bayes şebekeleri denir. Belirsizlik altında karar problemlerini temsil edebilen ve çözebilen Bayes ağlarının genellemelerine etki diyagramları denir. Naïve Bayes'te sınıflandırıcı, lojistik regresyon gibi ayırt edici modellere göre daha hızlı birleşir, bu nedenle daha az eğitim verisine ihtiyacınız vardır. Ana avantajı, özellikler arasındaki etkileşimleri öğrenememesidir.\n",
    "\n",
    "##### Bayesci mantık programı iki bileşenden oluşur. İlk bileşen mantıklı bir bileşendir; alanın niteliksel yapısını yakalayan bir dizi Bayes Cümlelerinden oluşur. İkinci bileşen nicelikseldir, alanla ilgili nicel bilgileri kodlar. Yağmur, yağmurlama sisteminin etkinleştirilip etkinleştirilmeyeceğini etkiler ve hem yağmur hem de yağmurlama sistemi çimlerin ıslak olup olmadığını etkiler. Çim ıslak ise yağmu mu yağdı yoksa yağmurlama sistemi mi çalıştı.\n",
    "\n",
    "Örneğin, Cebrail pikniğie gitmiş olsun, bu durumda Cebrail’in olduğu yer de yağmur\n",
    "yağmuyor."
   ]
  },
  {
   "cell_type": "markdown",
   "metadata": {},
   "source": [
    "![image](https://github.com/ahmettsimsek/Makine-Ogrenmesi-Temelleri/assets/124433579/7a50b11c-89d1-44d3-9f33-b59639e289fb)"
   ]
  },
  {
   "cell_type": "markdown",
   "metadata": {},
   "source": [
    "-----"
   ]
  },
  {
   "cell_type": "markdown",
   "metadata": {},
   "source": [
    "### Artılar ve eksiler\n",
    "\n",
    "#### Artıları\n",
    "\n",
    "\n",
    "Naïve Bayes sınıflandırmasının uygulanması kolay ve hızlıdır.\n",
    "\n",
    "Lojistik regresyon gibi ayırt edici modellerden daha hızlı birleşecektir.\n",
    "\n",
    "Daha az eğitim verisi gerektirir.\n",
    "\n",
    "Doğası gereği yüksek oranda ölçeklenebilir veya tahmin edicilerin ve veri noktalarının sayısı ile doğrusal olarak ölçeklenirler.\n",
    "\n",
    "Olasılıklı tahminler yapabilir ve hem sürekli hem de kesikli verileri işleyebilir.\n",
    "\n",
    "Naïve Bayes sınıflandırma algoritması hem ikili hem de çok sınıflı sınıflandırma problemleri için kullanılabilir.\n",
    "\n",
    "#### Eksileri\n",
    "Aşağıdakiler, Naïve Bayes sınıflandırıcılarını kullanmanın bazı dezavantajlarıdır -\n",
    "\n",
    "Naïve Bayes sınıflandırmasının en önemli dezavantajlarından biri güçlü özellik bağımsızlığıdır çünkü gerçek hayatta birbirinden tamamen bağımsız bir dizi özelliğe sahip olmak neredeyse imkansızdır.\n",
    "\n",
    "Naïve Bayes sınıflandırmasıyla ilgili bir diğer sorun da 'sıfır frekansı'dır, bu da şu anlama gelir: eğer bir kategori değişkeni bir kategoriye sahipse, ancak eğitim veri setinde gözlemlenmiyorsa, Naif Bayes modeli ona sıfır olasılık atayacaktır ve bir tahmin."
   ]
  },
  {
   "cell_type": "markdown",
   "metadata": {},
   "source": [
    "------------"
   ]
  },
  {
   "cell_type": "markdown",
   "metadata": {},
   "source": [
    "### Python'da Naive Bayes kullanarak model oluşturma"
   ]
  },
  {
   "cell_type": "markdown",
   "metadata": {},
   "source": [
    "##### Veri setimize bağlı olarak, yukarıda açıklanan Naif Bayes modellerinden herhangi birini seçebiliriz. Burada, Python'da Gauss Naïve Bayes modelini uyguluyoruz. Gerekli ithalatla şu şekilde başlayacağız -"
   ]
  },
  {
   "cell_type": "code",
   "execution_count": null,
   "metadata": {},
   "outputs": [],
   "source": [
    "import numpy as np\n",
    "import matplotlib.pyplot as plt\n",
    "import seaborn as sns; sns.set()"
   ]
  },
  {
   "cell_type": "markdown",
   "metadata": {},
   "source": [
    "##### Şimdi, Scikit learn'ün make_blobs () işlevini kullanarak, aşağıdaki gibi Gauss dağılımı ile nokta blobları oluşturabiliriz -"
   ]
  },
  {
   "cell_type": "code",
   "execution_count": null,
   "metadata": {},
   "outputs": [],
   "source": [
    "from sklearn.datasets import make_blobs\n",
    "X, y = make_blobs(300, 2, centers=2, random_state=2, cluster_std=1.5)\n",
    "plt.scatter(X[:, 0], X[:, 1], c=y, s=50, cmap='summer');"
   ]
  },
  {
   "cell_type": "markdown",
   "metadata": {},
   "source": [
    "##### Sonra, GaussianNB modelini kullanmak için, nesnesini aşağıdaki gibi içe aktarmalı ve yapmalıyız -"
   ]
  },
  {
   "cell_type": "code",
   "execution_count": null,
   "metadata": {},
   "outputs": [],
   "source": [
    "from sklearn.naive_bayes import GaussianNB\n",
    "model_GBN = GaussianNB()\n",
    "model_GNB.fit(X, y);"
   ]
  },
  {
   "cell_type": "markdown",
   "metadata": {},
   "source": [
    "##### Şimdi tahmin yapmalıyız. Aşağıdaki gibi bazı yeni veriler oluşturulduktan sonra yapılabilir -"
   ]
  },
  {
   "cell_type": "code",
   "execution_count": null,
   "metadata": {},
   "outputs": [],
   "source": [
    "rng = np.random.RandomState(0)\n",
    "Xnew = [-6, -14] + [14, 18] * rng.rand(2000, 2)\n",
    "ynew = model_GNB.predict(Xnew)"
   ]
  },
  {
   "cell_type": "markdown",
   "metadata": {},
   "source": [
    "##### Ardından, sınırlarını bulmak için yeni verileri çiziyoruz -"
   ]
  },
  {
   "cell_type": "code",
   "execution_count": null,
   "metadata": {},
   "outputs": [],
   "source": [
    "plt.scatter(X[:, 0], X[:, 1], c=y, s=50, cmap='summer')\n",
    "lim = plt.axis()\n",
    "plt.scatter(Xnew[:, 0], Xnew[:, 1], c=ynew, s=20, cmap='summer', alpha=0.1)\n",
    "plt.axis(lim);"
   ]
  },
  {
   "cell_type": "markdown",
   "metadata": {},
   "source": [
    "##### Şimdi, aşağıdaki kod satırlarının yardımıyla, birinci ve ikinci etiketin son olasılıklarını bulabiliriz -"
   ]
  },
  {
   "cell_type": "code",
   "execution_count": null,
   "metadata": {},
   "outputs": [],
   "source": [
    "yprob = model_GNB.predict_proba(Xnew)\n",
    "yprob[-10:].round(3)"
   ]
  },
  {
   "cell_type": "markdown",
   "metadata": {},
   "source": [
    "#### Çıktı"
   ]
  },
  {
   "cell_type": "code",
   "execution_count": null,
   "metadata": {},
   "outputs": [],
   "source": [
    "array([[0.998, 0.002],\n",
    "   [1.   , 0.   ],\n",
    "   [0.987, 0.013],\n",
    "   [1.   , 0.   ],\n",
    "   [1.   , 0.   ],\n",
    "   [1.   , 0.   ],\n",
    "   [1.   , 0.   ],\n",
    "   [1.   , 0.   ],\n",
    "   [0.   , 1.   ],\n",
    "   [0.986, 0.014]]\n",
    ")"
   ]
  }
 ],
 "metadata": {
  "kernelspec": {
   "display_name": "Python 3",
   "language": "python",
   "name": "python3"
  },
  "language_info": {
   "codemirror_mode": {
    "name": "ipython",
    "version": 3
   },
   "file_extension": ".py",
   "mimetype": "text/x-python",
   "name": "python",
   "nbconvert_exporter": "python",
   "pygments_lexer": "ipython3",
   "version": "3.11.2"
  }
 },
 "nbformat": 4,
 "nbformat_minor": 2
}
