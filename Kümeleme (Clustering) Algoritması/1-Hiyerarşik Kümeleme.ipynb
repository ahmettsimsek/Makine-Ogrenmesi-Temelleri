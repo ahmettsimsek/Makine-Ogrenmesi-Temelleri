{
 "cells": [
  {
   "cell_type": "markdown",
   "metadata": {},
   "source": [
    "# 1- Hiyerarşik Kümeleme"
   ]
  },
  {
   "cell_type": "markdown",
   "metadata": {},
   "source": [
    "Hiyerarşik kümeleme algoritmaları 2 kategoriye ayrılır: yukarıdan aşağıya veya aşağıdan\n",
    "yukarıya. Aşağıdan yukarıya algoritmalar, her veri noktasını başlangıçta tek bir küme olarak\n",
    "ele alır ve ardından tüm kümeler tüm veri noktalarını içeren tek bir kümede birleştirilene\n",
    "kadar küme çiftlerini art arda birleştirir (veya toplar). Bu nedenle aşağıdan yukarıya\n",
    "hiyerarşik kümeleme, hiyerarşik kümelemeli kümeleme (hierarchical agglomerative\n",
    "clustering) veya HAC olarak adlandırılır. "
   ]
  },
  {
   "cell_type": "markdown",
   "metadata": {},
   "source": [
    "Algoritma adımlarına geçmeden önce bir örnek için\n",
    "aşağıdaki grafiğe bakın;"
   ]
  },
  {
   "cell_type": "markdown",
   "metadata": {},
   "source": [
    "![Ekran görüntüsü 2024-05-17 062255](https://github.com/ahmettsimsek/Makine-Ogrenmesi-Temelleri/assets/124433579/f9d397c5-6e4c-49ba-9b15-7435428ef329)"
   ]
  },
  {
   "cell_type": "markdown",
   "metadata": {},
   "source": [
    "Her veri noktasını tek bir küme olarak ele alarak başlıyoruz, yani veri kümemizde X\n",
    "veri noktası varsa, o zaman X kümemiz var. Daha sonra iki küme arasındaki mesafeyi\n",
    "ölçen bir mesafe ölçüsü seçiyoruz. "
   ]
  },
  {
   "cell_type": "markdown",
   "metadata": {},
   "source": [
    "Her yinelemede, iki kümeyi tek bir kümede birleştiriyoruz. Birleştirilecek iki küme, en\n",
    "küçük ortalama bağlantıya sahip olanlar olarak seçilir. Yani, seçtiğimiz uzaklık\n",
    "ölçütümüze göre, bu iki küme birbirleri arasındaki en küçük mesafeye sahiptir ve bu\n",
    "nedenle en benzer olanlardır ve birleştirilmeleri gerekir. "
   ]
  },
  {
   "cell_type": "markdown",
   "metadata": {},
   "source": [
    "Adım 2, ağacın köküne ulaşana kadar tekrar edilir, yani tüm veri noktalarını içeren\n",
    "tek bir kümeye sahibiz. Bu şekilde sonunda kaç tane küme istediğimizi seçebiliriz,\n",
    "sadece kümeleri birleştirmeyi ne zaman durduracağımızı seçerek, yani ağacı\n",
    "oluşturmayı bıraktığımızda! "
   ]
  },
  {
   "cell_type": "markdown",
   "metadata": {},
   "source": [
    "Hiyerarşik kümeleme, küme sayısını belirlememizi gerektirmez ve hatta bir ağaç\n",
    "oluşturduğumuz için hangi küme sayısının en iyi görüneceğini seçebiliriz. Ek olarak, algoritma\n",
    "mesafe ölçüsü seçimine duyarlı değildir; hepsi eşit derecede iyi çalışma eğilimindeyken,\n",
    "diğer kümeleme algoritmalarında uzaklık ölçüsü seçimi kritiktir."
   ]
  },
  {
   "cell_type": "markdown",
   "metadata": {},
   "source": [
    "-------------"
   ]
  },
  {
   "cell_type": "markdown",
   "metadata": {},
   "source": [
    "### Örnek vermemiz gerekirse;"
   ]
  },
  {
   "cell_type": "markdown",
   "metadata": {},
   "source": [
    "##### 1-ilk olarak gerekli kitaplıkları aşağıdaki gibi içe aktararak başlayalım;"
   ]
  },
  {
   "cell_type": "code",
   "execution_count": null,
   "metadata": {},
   "outputs": [],
   "source": [
    "%matplotlib inline\n",
    "import matplotlib.pyplot as plt\n",
    "import numpy as np"
   ]
  },
  {
   "cell_type": "markdown",
   "metadata": {},
   "source": [
    "##### 2-Sonra, bu örnek için aldığımız veri noktalarını çizeceğiz "
   ]
  },
  {
   "cell_type": "code",
   "execution_count": null,
   "metadata": {},
   "outputs": [],
   "source": [
    "X = np.array([[7,8],[12,20],[17,19],[26,15],[32,37],[87,75],[73,85], [62,80],[73,60],[87,96],])\n",
    "labels = range(1, 11)\n",
    "plt.figure(figsize=(10, 7))\n",
    "plt.subplots_adjust(bottom=0.1)\n",
    "plt.scatter(X[:,0],X[:,1], label='True Position')\n",
    "for label, x, y in zip(labels, X[:, 0], X[:, 1]):\n",
    "   plt.annotate(label,xy=(x, y), xytext=(-3, 3),textcoords='offset points', ha='right', va='bottom')\n",
    "plt.show()\n"
   ]
  },
  {
   "cell_type": "markdown",
   "metadata": {},
   "source": [
    "![Ekran görüntüsü 2024-05-17 063344](https://github.com/ahmettsimsek/Makine-Ogrenmesi-Temelleri/assets/124433579/e0efb2cd-0628-496b-a902-2f1c234d892a)"
   ]
  },
  {
   "cell_type": "markdown",
   "metadata": {},
   "source": [
    "##### 3-Yukarıdaki diyagramdan, veri noktalarında iki kümemiz olduğunu görmek çok kolaydır, ancak gerçek dünya verilerinde binlerce küme olabilir. Sonra, Scipy kitaplığını kullanarak veri noktalarımızın dendrogramlarını çizeceğiz "
   ]
  },
  {
   "cell_type": "code",
   "execution_count": null,
   "metadata": {},
   "outputs": [],
   "source": [
    "from scipy.cluster.hierarchy import dendrogram, linkage\n",
    "from matplotlib import pyplot as plt\n",
    "linked = linkage(X, 'single')\n",
    "labelList = range(1, 11)\n",
    "plt.figure(figsize=(10, 7))\n",
    "dendrogram(linked, orientation='top',labels=labelList, distance_sort='descending',show_leaf_counts=True)\n",
    "plt.show()"
   ]
  },
  {
   "cell_type": "markdown",
   "metadata": {},
   "source": [
    "![Ekran görüntüsü 2024-05-17 063453](https://github.com/ahmettsimsek/Makine-Ogrenmesi-Temelleri/assets/124433579/27d07d90-99bc-41de-a48e-dd58751c1479)"
   ]
  },
  {
   "cell_type": "markdown",
   "metadata": {},
   "source": [
    "##### 4-Şimdi, büyük küme oluşturulduktan sonra, en uzun dikey mesafe seçilir. Ardından aşağıdaki diyagramda gösterildiği gibi dikey bir çizgi çizilir. Yatay çizgi mavi çizgiyi iki noktada geçtiği için küme sayısı iki olacaktır."
   ]
  },
  {
   "cell_type": "markdown",
   "metadata": {},
   "source": [
    "![Ekran görüntüsü 2024-05-17 063600](https://github.com/ahmettsimsek/Makine-Ogrenmesi-Temelleri/assets/124433579/ce1a8ee3-6a98-40e1-b32c-5903ffbcb148)\n"
   ]
  },
  {
   "cell_type": "markdown",
   "metadata": {},
   "source": [
    "##### 5-Daha sonra, kümeleme için sınıfı içe aktarmamız ve kümeyi tahmin etmek için fit_predict yöntemini çağırmamız gerekir. Sklearn.cluster kitaplığının AgglomerativeClustering sınıfını içe aktarıyoruz -"
   ]
  },
  {
   "cell_type": "code",
   "execution_count": null,
   "metadata": {},
   "outputs": [],
   "source": [
    "from sklearn.cluster import AgglomerativeClustering\n",
    "cluster = AgglomerativeClustering(n_clusters=2, affinity='euclidean', linkage='ward')\n",
    "cluster.fit_predict(X)"
   ]
  },
  {
   "cell_type": "markdown",
   "metadata": {},
   "source": [
    "##### 6-Ardından, aşağıdaki kodun yardımıyla kümeyi çizin -"
   ]
  },
  {
   "cell_type": "markdown",
   "metadata": {},
   "source": [
    "![Ekran görüntüsü 2024-05-17 063736](https://github.com/ahmettsimsek/Makine-Ogrenmesi-Temelleri/assets/124433579/0a964fa4-aac5-4c9c-bb42-fce578ff0a75)\n"
   ]
  },
  {
   "cell_type": "markdown",
   "metadata": {},
   "source": [
    "##### Yukarıdaki diyagram, veri noktalarımızdaki iki kümeyi göstermektedir."
   ]
  },
  {
   "cell_type": "markdown",
   "metadata": {},
   "source": [
    "----------------------"
   ]
  },
  {
   "cell_type": "markdown",
   "metadata": {},
   "source": [
    "Hiyerarşik Kümeleme konusunda daha fazla detaya ulaşmak için, benim de örnek için Yararlandığım \"TRPOST\" sayfasına aşağıdaki linkten ulaşabilirsiniz:"
   ]
  },
  {
   "cell_type": "markdown",
   "metadata": {},
   "source": [
    "https://post.nghiatu.com/tr/tutorial/machine-learning-with-python/clustering-algorithms-hierarchical-clustering/kumeleme-algoritmalari-hiyerarsik-kumeleme"
   ]
  }
 ],
 "metadata": {
  "kernelspec": {
   "display_name": "Python 3",
   "language": "python",
   "name": "python3"
  },
  "language_info": {
   "codemirror_mode": {
    "name": "ipython",
    "version": 3
   },
   "file_extension": ".py",
   "mimetype": "text/x-python",
   "name": "python",
   "nbconvert_exporter": "python",
   "pygments_lexer": "ipython3",
   "version": "3.11.2"
  }
 },
 "nbformat": 4,
 "nbformat_minor": 2
}
