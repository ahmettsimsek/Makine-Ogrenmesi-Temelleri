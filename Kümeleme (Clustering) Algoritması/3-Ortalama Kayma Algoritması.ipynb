{
 "cells": [
  {
   "cell_type": "markdown",
   "metadata": {},
   "source": [
    "# 3- Ağırlık Ortalama Kaydırma Kümelemesi:"
   ]
  },
  {
   "cell_type": "markdown",
   "metadata": {},
   "source": [
    "##### Ortalama kaydırma kümeleme, veri noktalarının yoğun alanlarını bulmaya çalışan kayan pencere tabanlı bir algoritmadır. Centroid tabanlı bir algoritmadır, yani amacın her bir grubun / sınıfın merkez noktalarını bulmaktır, bu da kayan pencere içindeki noktaların ortalaması olacak merkez noktaları için adayları güncelleyerek çalışır. Bu aday pencereler daha sonra, neredeyse kopyaları ortadan kaldırmak için bir işlem sonrası aşamasında filtrelenir ve nihai merkez noktaları ve bunlara karşılık gelen grupları oluşturur."
   ]
  },
  {
   "cell_type": "markdown",
   "metadata": {},
   "source": [
    "##### Sürgülü pencerelerin tümü ile uçtan uca tüm sürecin bir örneği aşağıda gösterilmiştir. Her siyah nokta, kayan bir pencerenin merkezini temsil eder ve her gri nokta bir veri noktasıdır."
   ]
  },
  {
   "cell_type": "markdown",
   "metadata": {},
   "source": [
    "![Ekran görüntüsü 2024-05-17 070257](https://github.com/ahmettsimsek/Makine-Ogrenmesi-Temelleri/assets/124433579/6bab6809-aac5-409d-ab0d-424ca998b13f)\n"
   ]
  },
  {
   "cell_type": "markdown",
   "metadata": {},
   "source": [
    "1) Ortalama-kaymayı açıklamak için, yukarıdaki resimde olduğu gibi iki boyutlu uzayda\n",
    "bir dizi noktayı ele alacağız. Bir C noktasında ortalanmış (rastgele seçilmiş) ve\n",
    "çekirdek olarak r yarıçapına sahip dairesel bir kayan pencere ile başlıyoruz."
   ]
  },
  {
   "cell_type": "markdown",
   "metadata": {},
   "source": [
    "2) Her yinelemede, kayan pencere, merkez noktası pencere içindeki noktaların\n",
    "ortalamasına kaydırılarak (dolayısıyla adı) daha yüksek yoğunluklu bölgelere\n",
    "kaydırılır. Sürgülü pencere içindeki yoğunluk, içindeki noktaların sayısı ile orantılıdır.\n"
   ]
  },
  {
   "cell_type": "markdown",
   "metadata": {},
   "source": [
    "3) Bir kaymanın çekirdek içinde daha fazla noktayı barındırabileceği bir yön olmayana\n",
    "kadar ortalamaya göre kayan pencereyi kaydırmaya devam ediyoruz. Yukarıdaki\n",
    "grafiğe bakın; Artık yoğunluğu artırmayana kadar (yani penceredeki nokta sayısı)\n",
    "daireyi hareket ettirmeye devam ediyoruz."
   ]
  },
  {
   "cell_type": "markdown",
   "metadata": {},
   "source": [
    "4) 1'den 3'e kadar olan bu adım süreci, tüm noktalar bir pencerenin içinde kalana kadar\n",
    "birçok sürgülü pencerede yapılır. Birden çok sürgülü pencere örtüştüğünde, en çok\n",
    "noktayı içeren pencere korunur. Veri noktaları daha sonra bulundukları kayan\n",
    "pencereye göre kümelenir."
   ]
  },
  {
   "cell_type": "markdown",
   "metadata": {},
   "source": [
    "---------"
   ]
  },
  {
   "cell_type": "markdown",
   "metadata": {},
   "source": [
    "Mean-Shift algoritmasının nasıl çalıştığını anlamak için basit bir örnek. Bu örnekte, önce 4 farklı blob içeren 2D veri seti oluşturacağız ve ardından sonucu görmek için Mean-Shift algoritmasını uygulayacağız."
   ]
  },
  {
   "cell_type": "code",
   "execution_count": null,
   "metadata": {},
   "outputs": [],
   "source": [
    "%matplotlib inline\n",
    "import numpy as np\n",
    "from sklearn.cluster import MeanShift\n",
    "import matplotlib.pyplot as plt\n",
    "from matplotlib import style\n",
    "style.use(\"ggplot\")\n",
    "from sklearn.datasets.samples_generator import make_blobs\n",
    "centers = [[3,3,3],[4,5,5],[3,10,10]]\n",
    "X, _ = make_blobs(n_samples = 700, centers = centers, cluster_std = 0.5)\n",
    "plt.scatter(X[:,0],X[:,1])\n",
    "plt.show()"
   ]
  },
  {
   "cell_type": "markdown",
   "metadata": {},
   "source": [
    "![Ekran görüntüsü 2024-05-17 070550](https://github.com/ahmettsimsek/Makine-Ogrenmesi-Temelleri/assets/124433579/ca7360a0-805f-4ff5-9a48-26b646d120e5)\n"
   ]
  },
  {
   "cell_type": "code",
   "execution_count": null,
   "metadata": {},
   "outputs": [],
   "source": [
    "ms = MeanShift()\n",
    "ms.fit(X)\n",
    "labels = ms.labels_\n",
    "cluster_centers = ms.cluster_centers_\n",
    "print(cluster_centers)\n",
    "n_clusters_ = len(np.unique(labels))\n",
    "print(\"Estimated clusters:\", n_clusters_)\n",
    "colors = 10*['r.','g.','b.','c.','k.','y.','m.']\n",
    "for i in range(len(X)):\n",
    "    plt.plot(X[i][0], X[i][1], colors[labels[i]], markersize = 3)\n",
    "plt.scatter(cluster_centers[:,0],cluster_centers[:,1],\n",
    "    marker=\".\",color='k', s=20, linewidths = 5, zorder=10)\n",
    "plt.show()"
   ]
  },
  {
   "cell_type": "markdown",
   "metadata": {},
   "source": [
    "#### Çıktı"
   ]
  },
  {
   "cell_type": "code",
   "execution_count": null,
   "metadata": {},
   "outputs": [],
   "source": [
    "[[ 2.98462798 9.9733794 10.02629344]\n",
    "[ 3.94758484 4.99122771 4.99349433]\n",
    "[ 3.00788996 3.03851268 2.99183033]]\n",
    "Estimated clusters: 3"
   ]
  },
  {
   "cell_type": "markdown",
   "metadata": {},
   "source": [
    "![Ekran görüntüsü 2024-05-17 070648](https://github.com/ahmettsimsek/Makine-Ogrenmesi-Temelleri/assets/124433579/22c5c757-26dd-4c39-9ba9-e8ba7c3f5bdd)\n"
   ]
  },
  {
   "cell_type": "markdown",
   "metadata": {},
   "source": [
    "-------"
   ]
  },
  {
   "cell_type": "markdown",
   "metadata": {},
   "source": [
    "Ağırlık Ortalama Kaydırma Kümelemes  konusunda daha fazla detaya ulaşmak için, benim de örnek için Yararlandığım \"TRPOST\" sayfasına aşağıdaki linkten ulaşabilirsiniz:"
   ]
  },
  {
   "cell_type": "markdown",
   "metadata": {},
   "source": [
    "https://post.nghiatu.com/tr/tutorial/machine-learning-with-python/clustering-algorithms-mean-shift-algorithm/kumeleme-algoritmalari-ortalama-kayma-algoritmasi"
   ]
  }
 ],
 "metadata": {
  "kernelspec": {
   "display_name": "Python 3",
   "language": "python",
   "name": "python3"
  },
  "language_info": {
   "codemirror_mode": {
    "name": "ipython",
    "version": 3
   },
   "file_extension": ".py",
   "mimetype": "text/x-python",
   "name": "python",
   "nbconvert_exporter": "python",
   "pygments_lexer": "ipython3",
   "version": "3.11.2"
  }
 },
 "nbformat": 4,
 "nbformat_minor": 2
}
