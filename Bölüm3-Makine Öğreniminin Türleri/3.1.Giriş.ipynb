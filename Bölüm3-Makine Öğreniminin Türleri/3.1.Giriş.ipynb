{
 "cells": [
  {
   "cell_type": "markdown",
   "metadata": {},
   "source": [
    "# Makine Öğreniminin Türleri"
   ]
  },
  {
   "cell_type": "markdown",
   "metadata": {},
   "source": [
    "Makine öğrenmesi yaklaşımları, öğrenme sistemi için mevcut olan \"sinyal\" veya \"geri\n",
    "bildirim\" in doğasına bağlı olarak geleneksel olarak üç geniş kategoriye ayrılır:\n"
   ]
  },
  {
   "cell_type": "markdown",
   "metadata": {},
   "source": [
    "##### Makine öğrenmesi, bir öğrenme algoritmasının, veri yığını içinde öğrenme veri setini deneyimledikten sonra görevler üzerinde doğru bir şekilde performans gösterebilmesidir.\n",
    "\n",
    "Öğrenme örnekleri, genel olarak bilinmeyen bazı olasılık dağılımından (olayların alanını\n",
    "temsil eden kabul edilir) gelir ve makine öğrenmesi, bu alan hakkında yeni durumlarda\n",
    "yeterince doğru tahminler üretmesini sağlayan genel bir model oluşturmalıdır.\n",
    "\n",
    "##### Makine öğrenmesi algoritmalarının hesaplamalı analizi ve performansları, hesaplamalı öğrenme teorisi olarak bilinen teorik bilgisayar biliminin bir dalıdır.\n",
    "Genelleme bağlamında en iyi performans için, hipotezin karmaşıklığı, verilerin altında yatan\n",
    "fonksiyonun karmaşıklığıyla eşleşmelidir. Hipotez işlevden daha az karmaşıksa, model\n",
    "verileri altına yerleştirmiştir. Yanıt olarak modelin karmaşıklığı artarsa, öğrenme hatası\n",
    "azalır. Ancak hipotez çok karmaşıksa, model aşırı uyuma tabidir ve genelleme daha zayıf\n",
    "olacaktır. \n"
   ]
  },
  {
   "cell_type": "markdown",
   "metadata": {},
   "source": [
    "----------------------------------------------------------------------------------------------------------------------------------------"
   ]
  },
  {
   "cell_type": "markdown",
   "metadata": {},
   "source": [
    "### Makine öğreniminde \"Aşırı Uyum\""
   ]
  },
  {
   "cell_type": "markdown",
   "metadata": {},
   "source": [
    "Makine öğreniminde, istatistiksel bir model, temelde yatan ilişki yerine rastgele hata veya\n",
    "gürültüyü tanımladığında \"aşırı uyum\" ortaya çıkar. Bir model aşırı derecede karmaşık\n",
    "olduğunda, eğitim veri türlerinin sayısına göre çok fazla parametrenin olması nedeniyle\n",
    "normal olarak aşırı uyum gözlemlenir. Model, aşırı uyumlu olan zayıf performans sergiliyor.\n",
    "\n",
    "Modeli eğitmek için kullanılan kriterler, bir modelin etkinliğini değerlendirmek için kullanılan\n",
    "kriterlerle aynı olmadığından, aşırı uyum olasılığı oluşur. Çok fazla veri kullanarak aşırı uydurma önlenebilir, küçük bir veri kümeniz olduğundan ve siz\n",
    "ondan öğrenmeye çalıştığınız için aşırı uydurma nispeten gerçekleşir. Ancak küçük bir\n",
    "veritabanınız varsa ve buna dayalı bir modelle gelmek zorunda kalırsanız. Böyle bir durumda\n",
    "çapraz doğrulama olarak bilinen bir teknik kullanabilirsiniz. \n",
    "\n",
    "Bu teknikte, bir modele genellikle eğitimin (eğitim veri seti) çalıştırıldığı bilinen bir veri\n",
    "kümesi ve modelin test edildiği bilinmeyen verilerden oluşan bir veri kümesi verilir."
   ]
  },
  {
   "cell_type": "markdown",
   "metadata": {},
   "source": [
    "---------------------------------------------------------------------------------------------------------------------------------------"
   ]
  },
  {
   "cell_type": "markdown",
   "metadata": {},
   "source": [
    "### 1-Makine öğrenmesinin yapay zeka ile ilişkisi:"
   ]
  },
  {
   "cell_type": "markdown",
   "metadata": {},
   "source": [
    "Bilimsel bir çaba olarak, makine öğrenmesi yapay zeka arayışından doğdu. \n",
    "\n",
    "##### Yapay öğrenme ile makine öğrenimi arasındaki fark nedir?\n",
    "Deneysel verilere dayalı davranışlara göre algoritma tasarlama ve geliştirme, Makine\n",
    "Öğrenimi olarak bilinir. Yapay zeka, makine öğrenimine ek olarak bilgi sunumu, doğal dil\n",
    "işleme, planlama, robotik gibi diğer konuları da kapsar.\n",
    "\n",
    "Mantıksal, bilgiye dayalı yaklaşıma artan vurgu, yapay zeka ve makine öğrenmesi arasında\n",
    "bir kaymaya neden oldu. Olasılıksal sistemler, veri toplama ve temsil etme ile ilgili teorik ve\n",
    "pratik problemlerle boğulmuştu. "
   ]
  },
  {
   "cell_type": "markdown",
   "metadata": {},
   "source": [
    "------------------------------------------------------------"
   ]
  },
  {
   "cell_type": "markdown",
   "metadata": {},
   "source": [
    "### 3- Makine öğrenmesinin veri madenciliği ile ilişkisi:\n"
   ]
  },
  {
   "cell_type": "markdown",
   "metadata": {},
   "source": [
    "##### Makine öğrenmesi ve veri madenciliği genellikle aynı yöntemleri kullanır ve önemli ölçüde örtüşür, ancak makine öğrenmesi öğrenme verilerinden öğrenilen öngörüye odaklanırken, veri madenciliği verilerde (önceden) bilinmeyen özelliklerin keşfine odaklanır"
   ]
  },
  {
   "cell_type": "markdown",
   "metadata": {},
   "source": [
    "------------------------------------------"
   ]
  },
  {
   "cell_type": "markdown",
   "metadata": {},
   "source": [
    "### 4-Makine öğrenmesinin optimizasyon ile ilişkisi:"
   ]
  },
  {
   "cell_type": "markdown",
   "metadata": {},
   "source": [
    "##### optimizasyon algoritmaları bir öğrenme setindeki kaybı en aza indirirken, makine öğrenmesi görünmeyen numunelerdeki kaybı en aza indirmekle ilgilidir. Paremetrelerin hassasiyetinin belirlenmeside optimizasyon algoritmaları, makine öğrenmesinde kritik rol oynakamtadır."
   ]
  },
  {
   "cell_type": "markdown",
   "metadata": {},
   "source": [
    "--------------------------------------------"
   ]
  },
  {
   "cell_type": "markdown",
   "metadata": {},
   "source": [
    "### 5-Makine öğrenmesinin istatistiklerle ilişkisi:"
   ]
  },
  {
   "cell_type": "markdown",
   "metadata": {},
   "source": [
    "Makine öğrenmesi ve istatistikler, yöntemler açısından yakından ilişkili alanlardır, ancak\n",
    "temel amaçlarında farklıdır:\n",
    "\n",
    "##### İstatistik, bir örneklemden analiz etmeye ya da yorumlamaya yönelik çıkarımlar elde ederken, makine öğrenmesi genelleştirilebilir tahmin modelleri bulur.\n",
    "Metodolojik prensiplerden teorik araçlara kadar makine öğrenmesi fikirleri istatistiklerde\n",
    "uzun bir geçmişe sahiptir. "
   ]
  },
  {
   "cell_type": "markdown",
   "metadata": {},
   "source": [
    "-----------------------------------------"
   ]
  },
  {
   "cell_type": "markdown",
   "metadata": {},
   "source": [
    "### 5-Makine öğrenmesi ve matematik ilişkisi:\n"
   ]
  },
  {
   "cell_type": "markdown",
   "metadata": {},
   "source": [
    "- Faydalı sonuçlar elde etmek için, belirli genel makine öğrenimi ilkeleri ve bireysel\n",
    "algoritmaların iç işleyişi hakkında iyi matematiksel sezgilere ihtiyaç var. İyi bir matematik alt\n",
    "yapısı ile,\n",
    "\n",
    "• Problem için doğru algoritmalar seçilir.\n",
    "\n",
    "• Parametre ayarları, doğrulama stratejileri hakkında iyi seçimler yapılır.\n",
    "\n",
    "• Fazla veya yetersiz uyum tanınır.\n",
    "\n",
    "• Yetersiz ya da belirsiz sonuçlar giderilir.\n",
    "\n",
    "• Sonuçlara uygun güven ya da belirsizlik sınırları konulur.\n",
    "\n",
    "• Kodlama algoritmalarında daha  iyi bir iş yapılır veya onlar daha karmaşık hale\n",
    "getirilir."
   ]
  },
  {
   "cell_type": "markdown",
   "metadata": {},
   "source": [
    "--------------------------------------------------------"
   ]
  },
  {
   "cell_type": "markdown",
   "metadata": {},
   "source": [
    "### Makine Öğrenimindeki farklı teknik türleri:\n"
   ]
  },
  {
   "cell_type": "markdown",
   "metadata": {},
   "source": [
    "Makine öğrenmesi algoritmalarının türleri, yaklaşımlarına, girdikleri ve çıktıkları veri\n",
    "türlerine ve çözmeleri amaçlanan görev veya sorun türlerine göre farklılık gösterirler.\n",
    "\n",
    "##### 1-Denetimli Öğrenme (Supervised Learning Algorithms)\n",
    "\n",
    "##### 2-Denetimsiz Öğrenme (Unsupervised Learning Algorithms)\n",
    "\n",
    "##### 3-Yarı denetimli Öğrenme\n",
    "\n",
    "##### 4-Takviye Öğrenme\n",
    "\n",
    "##### 5-Transdüksiyon\n",
    "\n",
    "##### 6-Öğrenmeyi öğrenmek"
   ]
  },
  {
   "cell_type": "markdown",
   "metadata": {},
   "source": [
    "Şimdi buradaki tenkiklere bakıcak olursak;"
   ]
  }
 ],
 "metadata": {
  "kernelspec": {
   "display_name": "Python 3",
   "language": "python",
   "name": "python3"
  },
  "language_info": {
   "codemirror_mode": {
    "name": "ipython",
    "version": 3
   },
   "file_extension": ".py",
   "mimetype": "text/x-python",
   "name": "python",
   "nbconvert_exporter": "python",
   "pygments_lexer": "ipython3",
   "version": "3.11.2"
  }
 },
 "nbformat": 4,
 "nbformat_minor": 2
}
