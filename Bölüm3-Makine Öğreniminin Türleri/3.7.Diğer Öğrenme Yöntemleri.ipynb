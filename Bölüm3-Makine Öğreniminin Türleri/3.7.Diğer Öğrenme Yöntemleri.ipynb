{
 "cells": [
  {
   "cell_type": "markdown",
   "metadata": {},
   "source": [
    "# Diğer Öğrenme Yöntemleri\n"
   ]
  },
  {
   "cell_type": "markdown",
   "metadata": {},
   "source": [
    "----------------------------------------------------------------------------------------------------------------------------------------"
   ]
  },
  {
   "cell_type": "markdown",
   "metadata": {},
   "source": [
    "### 1-Kendi kendine öğrenme:\n",
    "Dış ödüller ve dış öğretmen tavsiyeleri olmayan bir öğrenmedir.  Kendi kendine öğrenme algoritması W = || w (a, s) || bellek matrisini günceller böylece her yinelemede aşağıdaki makine öğrenme rutini yürütülür."
   ]
  },
  {
   "cell_type": "markdown",
   "metadata": {},
   "source": [
    "---------------------------------------------------------------------------------------------------------------------------------------"
   ]
  },
  {
   "cell_type": "markdown",
   "metadata": {},
   "source": [
    "### 2- Seyrek sözlük öğrenme:"
   ]
  },
  {
   "cell_type": "markdown",
   "metadata": {},
   "source": [
    "bir eğitim örneğinin temel işlevlerin doğrusal bir kombinasyonu olarak temsil edildiği ve seyrek bir matris olduğu varsayılan bir özellik öğrenme yöntemidir. "
   ]
  },
  {
   "cell_type": "markdown",
   "metadata": {},
   "source": [
    "--------------------------------"
   ]
  },
  {
   "cell_type": "markdown",
   "metadata": {},
   "source": [
    "### 3- Robot öğrenme:"
   ]
  },
  {
   "cell_type": "markdown",
   "metadata": {},
   "source": [
    "Gelişimsel robot biliminde, robot öğrenme algoritmaları, öz rehberli keşif ve insanlarla\n",
    "sosyal etkileşim yoluyla kümülatif olarak yeni beceriler kazanmak için müfredat olarak da\n",
    "bilinen kendi öğrenme deneyimleri dizilerini oluşturur. Bu robotlar aktif öğrenme,\n",
    "olgunlaşma, motor sinerjileri ve taklit gibi rehberlik mekanizmalarını kullanır."
   ]
  },
  {
   "cell_type": "markdown",
   "metadata": {},
   "source": [
    "----------------------------"
   ]
  },
  {
   "cell_type": "markdown",
   "metadata": {},
   "source": [
    "### 4-Birleşik öğrenme:"
   ]
  },
  {
   "cell_type": "markdown",
   "metadata": {},
   "source": [
    "Birleşik öğrenme, eğitim sürecini ademi merkeziyetçi hale getiren ve verilerini merkezi bir\n",
    "sunucuya göndermeye gerek kalmadan kullanıcıların gizliliğinin korunmasına izin veren\n",
    "eğitim makinesi öğrenme modellerine uyarlanmış bir Dağıtılmış Yapay Zeka biçimidir. Örneğin, Gboard, bireysel aramaları Google'a geri göndermek zorunda kalmadan kullanıcıların cep telefonlarında arama sorgusu tahmin modellerini eğitmek için birleşik makine öğrenmesi kullanır. "
   ]
  },
  {
   "cell_type": "markdown",
   "metadata": {},
   "source": [
    "----------------------------"
   ]
  },
  {
   "cell_type": "markdown",
   "metadata": {},
   "source": [
    "### 5-Sıralı öğrenme:"
   ]
  },
  {
   "cell_type": "markdown",
   "metadata": {},
   "source": [
    "Sıralı öğrenme, mantıklı bir şekilde öğretme ve öğrenme yöntemidir. Sıralı öğrenme sürecini kategorize edebileceğiniz farklı kategoriler:\n",
    " Sıra tahmini\n",
    "\n",
    " Sıra oluşturma\n",
    "\n",
    " Sıra tanıma\n",
    "\n",
    " Sıralı karar"
   ]
  },
  {
   "cell_type": "markdown",
   "metadata": {},
   "source": [
    "----------------------------"
   ]
  },
  {
   "cell_type": "markdown",
   "metadata": {},
   "source": [
    "### 6-Toplu istatistiksel öğrenme:"
   ]
  },
  {
   "cell_type": "markdown",
   "metadata": {},
   "source": [
    "İstatistiksel öğrenme teknikleri, görünmeyen veya gelecekteki veriler hakkında tahminlerde\n",
    "bulunabilen bir dizi gözlemlenen veriden bir işlevi veya öngörücüyü öğrenmeye izin verir."
   ]
  },
  {
   "cell_type": "markdown",
   "metadata": {},
   "source": [
    "-----------------------"
   ]
  },
  {
   "cell_type": "markdown",
   "metadata": {},
   "source": [
    "### 7-PAC öğrenimi:"
   ]
  },
  {
   "cell_type": "markdown",
   "metadata": {},
   "source": [
    "\n",
    "PAC (Probably Approximately Correct) öğrenme, öğrenme algoritmalarını ve bunların\n",
    "istatistiksel verimliliklerini analiz etmek için tanıtılan bir öğrenme çerçevesidir."
   ]
  },
  {
   "cell_type": "markdown",
   "metadata": {},
   "source": [
    "-----------------------"
   ]
  },
  {
   "cell_type": "markdown",
   "metadata": {},
   "source": [
    "### 8-Endüktif (Tümevarım) makine öğrenimi:"
   ]
  },
  {
   "cell_type": "markdown",
   "metadata": {},
   "source": [
    "Tümevarımlı makine öğrenimi, bir sistemin gözlemlenen bir dizi örnekten genel bir kural\n",
    "oluşturmaya çalıştığı örneklerle öğrenme sürecini içerir.\n",
    "\n",
    "Endüktif Mantık Programlama (ILP), arka plan bilgisini ve örnekleri temsil eden mantıksal\n",
    "programlamayı kullanan bir makine öğrenimi alt alanıdır.\n",
    "\n",
    "Endüktif mantık programlama (ILP), giriş örnekleri, arka plan bilgisi ve hipotezler için tekdüze\n",
    "bir sunum olarak mantık programlamayı kullanarak kural öğrenmeye bir yaklaşımdır."
   ]
  },
  {
   "cell_type": "markdown",
   "metadata": {},
   "source": [
    "-----------------------"
   ]
  },
  {
   "cell_type": "markdown",
   "metadata": {},
   "source": [
    "### 9-Tembel öğrenme algoritması:"
   ]
  },
  {
   "cell_type": "markdown",
   "metadata": {},
   "source": [
    "Örnek tabanlı öğrenme algoritması, sınıflandırma gerçekleştirilinceye kadar indüksiyon veya\n",
    "genelleme sürecini geciktirdiği için Tembel öğrenme algoritması olarak da adlandırılır."
   ]
  },
  {
   "cell_type": "markdown",
   "metadata": {},
   "source": [
    "-----------------------"
   ]
  },
  {
   "cell_type": "markdown",
   "metadata": {},
   "source": [
    "![Ekran görüntüsü 2024-05-17 044150](https://github.com/ahmettsimsek/Makine-Ogrenmesi-Temelleri/assets/124433579/0b78e76c-2e84-4dc1-99f1-711ffccf34e9)"
   ]
  }
 ],
 "metadata": {
  "kernelspec": {
   "display_name": "Python 3",
   "language": "python",
   "name": "python3"
  },
  "language_info": {
   "codemirror_mode": {
    "name": "ipython",
    "version": 3
   },
   "file_extension": ".py",
   "mimetype": "text/x-python",
   "name": "python",
   "nbconvert_exporter": "python",
   "pygments_lexer": "ipython3",
   "version": "3.11.2"
  }
 },
 "nbformat": 4,
 "nbformat_minor": 2
}
