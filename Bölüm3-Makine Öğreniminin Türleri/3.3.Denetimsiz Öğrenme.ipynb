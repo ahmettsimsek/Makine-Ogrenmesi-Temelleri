{
 "cells": [
  {
   "cell_type": "markdown",
   "metadata": {},
   "source": [
    "# Denetimsiz Öğrenme\n"
   ]
  },
  {
   "cell_type": "markdown",
   "metadata": {},
   "source": [
    "##### Öğrenme algoritmasına hiçbir etiket verilmez ve girdisinde yapı bulmak için tek başına bırakılır. Denetimsiz öğrenme kendi içinde bir hedef (verilerdeki gizli kalıpları keşfetme) veya bir sona doğru bir araç (özellik öğrenme) olabilir.\n",
    " k-means clustering\n",
    "\n",
    " t-SNE (t-Distributed Stochastic Neighbor Embedding)\n",
    "\n",
    " PCA (Principal Component Analysis)\n",
    "\n",
    " Association rul"
   ]
  },
  {
   "cell_type": "markdown",
   "metadata": {},
   "source": [
    "Denetimsiz öğrenme algoritmaları, yalnızca girdileri içeren bir veri yığınını alır ve verileri\n",
    "yapısal olarak gruplar veya kümeler. Bu nedenle algoritmalar, etiketlenmemiş,\n",
    "sınıflandırılmamış veya kategorize edilmemiş test verilerinden öğrenilir. Geri bildirime yanıt\n",
    "vermek yerine, denetimsiz öğrenme algoritmaları verilerdeki ortaklıkları tanımlar ve her yeni\n",
    "veri parçasında bu tür ortak özelliklerin varlığına veya yokluğuna bağlı olarak tepki verir.\n",
    "Denetimsiz öğrenmenin merkezi bir uygulaması, olasılık yoğunluk işlevini bulmak gibi\n",
    "istatistiklerde yoğunluk tahmini alanındadır. Denetimsiz öğrenme, veri özelliklerini özetleme\n",
    "ve açıklamayı içeren diğer alanları kapsar."
   ]
  },
  {
   "cell_type": "markdown",
   "metadata": {},
   "source": [
    "----------------------------------------------------------------------------------------------------------------------------------------"
   ]
  },
  {
   "cell_type": "markdown",
   "metadata": {},
   "source": [
    "![Ekran görüntüsü 2024-05-17 041654](https://github.com/ahmettsimsek/Makine-Ogrenmesi-Temelleri/assets/124433579/e4c31191-782b-4a28-a5dd-9545225d1338)\n"
   ]
  },
  {
   "cell_type": "markdown",
   "metadata": {},
   "source": [
    "-----------------------"
   ]
  },
  {
   "cell_type": "markdown",
   "metadata": {},
   "source": [
    "##### Denetimsiz Öğrenmenin işlevleri:\n",
    " Veri kümeleri bulunur,\n",
    "\n",
    " Verilerin düşük boyutlu temsilleri bulunur,\n",
    "\n",
    " Verilerde ilginç yönler bulunur,\n",
    "\n",
    " İlginç koordinatlar ve korelasyonlar elde edilir,\n",
    "\n",
    " Yeni gözlemler ya da veritabanı elde edilir.\n"
   ]
  },
  {
   "cell_type": "markdown",
   "metadata": {},
   "source": [
    "---------------------------------------------------------------------------------------------------------------------------------------"
   ]
  },
  {
   "cell_type": "markdown",
   "metadata": {},
   "source": [
    "Denetimsiz öğrenme göründüğü gibi çalışır. Bu tür algoritmalarda, etiketlenmiş verilere\n",
    "sahip değiliz. Bu yüzden makinenin giriş verilerini işlemesi ve çıktı hakkında sonuçlara\n",
    "varmaya çalışması gerekir. Örneğin, şekil oyuncağı verdiğimiz çocuğu hatırlıyor musunuz? Bu\n",
    "durumda, farklı şekiller için mükemmel şekil deliğini bulmayı kendi hatalarından öğrenecekti.\n",
    "\n",
    "Ancak asıl mesele, çocuğu şekillere uyacak yöntemleri öğreterek beslemiyor olmamızdır\n",
    "(etiketli veriler olarak adlandırılan makine öğrenimi amaçları için). Ancak çocuk oyuncağın\n",
    "farklı özelliklerinden öğrenir ve onlar hakkında bir sonuca varmaya çalışır. Kısacası, tahminler\n",
    "etiketlenmemiş verilere dayanmaktadır.\n",
    "\n",
    "##### Denetimsiz öğrenme algoritmalarına örnekler:\n",
    "• Boyut Küçültme\n",
    "\n",
    "• Yoğunluk Tahmini\n",
    "\n",
    "• Pazar Sepeti Analizi\n",
    "\n",
    "• Üretken düşmanlık ağları (GAN'lar)\n",
    "\n",
    "• Kümeleme"
   ]
  },
  {
   "cell_type": "markdown",
   "metadata": {},
   "source": [
    "![Ekran görüntüsü 2024-05-17 042101](https://github.com/ahmettsimsek/Makine-Ogrenmesi-Temelleri/assets/124433579/7f96bafb-6754-4700-b9c8-4607433da148)\n"
   ]
  }
 ],
 "metadata": {
  "kernelspec": {
   "display_name": "Python 3",
   "language": "python",
   "name": "python3"
  },
  "language_info": {
   "codemirror_mode": {
    "name": "ipython",
    "version": 3
   },
   "file_extension": ".py",
   "mimetype": "text/x-python",
   "name": "python",
   "nbconvert_exporter": "python",
   "pygments_lexer": "ipython3",
   "version": "3.11.2"
  }
 },
 "nbformat": 4,
 "nbformat_minor": 2
}
