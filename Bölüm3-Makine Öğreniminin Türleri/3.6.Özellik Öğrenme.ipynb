{
 "cells": [
  {
   "cell_type": "markdown",
   "metadata": {},
   "source": [
    "# 5-Özellik Öğrenme"
   ]
  },
  {
   "cell_type": "markdown",
   "metadata": {},
   "source": [
    "##### Öğrenme algoritmaları, genellikle eğitim sırasında sağlanan girdilerin daha iyi temsilini keşfetmeyi amaçlamaktadır."
   ]
  },
  {
   "cell_type": "markdown",
   "metadata": {},
   "source": [
    "Özellik öğrenmesi denetimli veya denetimsiz olabilir. Denetimli özellik öğrenmede, özellikler\n",
    "etiketli giriş verileri kullanılarak öğrenilir. Örnekler arasında yapay sinir ağları, çok katmanlı\n",
    "algılayıcılar ve denetimli sözlük öğrenmesi sayılabilir. Denetimsiz özellik öğrenmede,\n",
    "özellikler etiketlenmemiş girdi verileriyle öğrenilir. Örnekler arasında sözlük öğrenmesi,\n",
    "bağımsız bileşen analizi, otomatik kodlayıcılar, matris çarpanlarına ayırma ve çeşitli\n",
    "kümeleme biçimleri bulunmaktadır. "
   ]
  },
  {
   "cell_type": "markdown",
   "metadata": {},
   "source": [
    "Özellik öğrenme, sınıflandırma gibi makine öğrenmesi görevlerinin genellikle matematiksel\n",
    "ve hesaplamaya uygun olarak işlenmesi için girdi gerektirmesi gerçeğiyle motive edilir.\n",
    "Bununla birlikte, görüntüler, video ve duyusal veriler gibi gerçek dünya verileri, belirli\n",
    "özellikleri algoritmik olarak tanımlama girişimlerine yol açmamıştır. "
   ]
  }
 ],
 "metadata": {
  "kernelspec": {
   "display_name": "Python 3",
   "language": "python",
   "name": "python3"
  },
  "language_info": {
   "codemirror_mode": {
    "name": "ipython",
    "version": 3
   },
   "file_extension": ".py",
   "mimetype": "text/x-python",
   "name": "python",
   "nbconvert_exporter": "python",
   "pygments_lexer": "ipython3",
   "version": "3.11.2"
  }
 },
 "nbformat": 4,
 "nbformat_minor": 2
}
