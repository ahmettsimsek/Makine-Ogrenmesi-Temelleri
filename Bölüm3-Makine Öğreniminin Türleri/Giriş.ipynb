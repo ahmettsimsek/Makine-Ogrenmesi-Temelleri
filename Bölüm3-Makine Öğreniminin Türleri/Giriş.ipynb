{
 "cells": [
  {
   "cell_type": "markdown",
   "metadata": {},
   "source": [
    "# Makine Öğreniminin Türleri"
   ]
  },
  {
   "cell_type": "markdown",
   "metadata": {},
   "source": [
    "Makine öğrenmesi yaklaşımları, öğrenme sistemi için mevcut olan \"sinyal\" veya \"geri\n",
    "bildirim\" in doğasına bağlı olarak geleneksel olarak üç geniş kategoriye ayrılır:\n"
   ]
  },
  {
   "cell_type": "markdown",
   "metadata": {},
   "source": [
    "#### Makine öğrenmesi, bir öğrenme algoritmasının, veri yığını içinde öğrenme veri setini deneyimledikten sonra görevler üzerinde doğru bir şekilde performans gösterebilmesidir.\n",
    "\n",
    "Öğrenme örnekleri, genel olarak bilinmeyen bazı olasılık dağılımından (olayların alanını\n",
    "temsil eden kabul edilir) gelir ve makine öğrenmesi, bu alan hakkında yeni durumlarda\n",
    "yeterince doğru tahminler üretmesini sağlayan genel bir model oluşturmalıdır.\n",
    "\n",
    "#### Makine öğrenmesi algoritmalarının hesaplamalı analizi ve performansları, hesaplamalı öğrenme teorisi olarak bilinen teorik bilgisayar biliminin bir dalıdır.\n",
    "Genelleme bağlamında en iyi performans için, hipotezin karmaşıklığı, verilerin altında yatan\n",
    "fonksiyonun karmaşıklığıyla eşleşmelidir. Hipotez işlevden daha az karmaşıksa, model\n",
    "verileri altına yerleştirmiştir. Yanıt olarak modelin karmaşıklığı artarsa, öğrenme hatası\n",
    "azalır. Ancak hipotez çok karmaşıksa, model aşırı uyuma tabidir ve genelleme daha zayıf\n",
    "olacaktır. \n"
   ]
  },
  {
   "cell_type": "markdown",
   "metadata": {},
   "source": [
    "----------------------------------------------------------------------------------------------------------------------------------------"
   ]
  },
  {
   "cell_type": "markdown",
   "metadata": {},
   "source": [
    "### Makine öğreniminde \"Aşırı Uyum\""
   ]
  },
  {
   "cell_type": "markdown",
   "metadata": {},
   "source": [
    "Makine öğreniminde, istatistiksel bir model, temelde yatan ilişki yerine rastgele hata veya\n",
    "gürültüyü tanımladığında \"aşırı uyum\" ortaya çıkar. Bir model aşırı derecede karmaşık\n",
    "olduğunda, eğitim veri türlerinin sayısına göre çok fazla parametrenin olması nedeniyle\n",
    "normal olarak aşırı uyum gözlemlenir. Model, aşırı uyumlu olan zayıf performans sergiliyor.\n",
    "\n",
    "Modeli eğitmek için kullanılan kriterler, bir modelin etkinliğini değerlendirmek için kullanılan\n",
    "kriterlerle aynı olmadığından, aşırı uyum olasılığı oluşur.\n",
    "\n",
    "Çok fazla veri kullanarak aşırı uydurma önlenebilir, küçük bir veri kümeniz olduğundan ve siz\n",
    "ondan öğrenmeye çalıştığınız için aşırı uydurma nispeten gerçekleşir. Ancak küçük bir\n",
    "veritabanınız varsa ve buna dayalı bir modelle gelmek zorunda kalırsanız. Böyle bir durumda\n",
    "çapraz doğrulama olarak bilinen bir teknik kullanabilirsiniz. \n",
    "\n",
    "Bu teknikte, bir modele genellikle eğitimin (eğitim veri seti) çalıştırıldığı bilinen bir veri\n",
    "kümesi ve modelin test edildiği bilinmeyen verilerden oluşan bir veri kümesi verilir."
   ]
  },
  {
   "cell_type": "markdown",
   "metadata": {},
   "source": []
  },
  {
   "cell_type": "markdown",
   "metadata": {},
   "source": [
    "---------------------------------------------------------------------------------------------------------------------------------------"
   ]
  }
 ],
 "metadata": {
  "kernelspec": {
   "display_name": "Python 3",
   "language": "python",
   "name": "python3"
  },
  "language_info": {
   "codemirror_mode": {
    "name": "ipython",
    "version": 3
   },
   "file_extension": ".py",
   "mimetype": "text/x-python",
   "name": "python",
   "nbconvert_exporter": "python",
   "pygments_lexer": "ipython3",
   "version": "3.11.2"
  }
 },
 "nbformat": 4,
 "nbformat_minor": 2
}
