{
 "cells": [
  {
   "cell_type": "markdown",
   "metadata": {},
   "source": [
    "# Makine Öğreniminin Türleri"
   ]
  },
  {
   "cell_type": "markdown",
   "metadata": {},
   "source": [
    "Makine öğrenmesi yaklaşımları, öğrenme sistemi için mevcut olan \"sinyal\" veya \"geri\n",
    "bildirim\" in doğasına bağlı olarak geleneksel olarak üç geniş kategoriye ayrılır:\n"
   ]
  },
  {
   "cell_type": "markdown",
   "metadata": {},
   "source": [
    "#### Makine öğrenmesi, bir öğrenme algoritmasının, veri yığını içinde öğrenme veri setini\n",
    "deneyimledikten sonra görevler üzerinde doğru bir şekilde performans gösterebilmesidir.\n",
    "\n",
    "Öğrenme örnekleri, genel olarak bilinmeyen bazı olasılık dağılımından (olayların alanını\n",
    "temsil eden kabul edilir) gelir ve makine öğrenmesi, bu alan hakkında yeni durumlarda\n",
    "yeterince doğru tahminler üretmesini sağlayan genel bir model oluşturmalıdır."
   ]
  },
  {
   "cell_type": "markdown",
   "metadata": {},
   "source": [
    "----------------------------------------------------------------------------------------------------------------------------------------"
   ]
  },
  {
   "cell_type": "markdown",
   "metadata": {},
   "source": [
    "---------------------------------------------------------------------------------------------------------------------------------------"
   ]
  }
 ],
 "metadata": {
  "kernelspec": {
   "display_name": "Python 3",
   "language": "python",
   "name": "python3"
  },
  "language_info": {
   "codemirror_mode": {
    "name": "ipython",
    "version": 3
   },
   "file_extension": ".py",
   "mimetype": "text/x-python",
   "name": "python",
   "nbconvert_exporter": "python",
   "pygments_lexer": "ipython3",
   "version": "3.11.2"
  }
 },
 "nbformat": 4,
 "nbformat_minor": 2
}
