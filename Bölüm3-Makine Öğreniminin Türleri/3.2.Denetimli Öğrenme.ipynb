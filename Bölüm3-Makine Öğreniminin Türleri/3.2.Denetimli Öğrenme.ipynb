{
 "cells": [
  {
   "cell_type": "markdown",
   "metadata": {},
   "source": [
    "# Denetimli Öğrenme"
   ]
  },
  {
   "cell_type": "markdown",
   "metadata": {},
   "source": [
    "Denetimli öğrenme, etiketli eğitim verilerinden bir fonksiyon oluşturulması ile ilgili makine\n",
    "öğreniminin bir dalıdır."
   ]
  },
  {
   "cell_type": "markdown",
   "metadata": {},
   "source": [
    "##### Denetimli öğrenmede, eğitim verileri bir dizi giriş ve hedef çiftinden oluşur;\n",
    "burada giriş, özelliklerin bir vektörü (Öznitelik Vektörü) olabilir ve hedef, işlevin çıktı vermesi için ne istediğimizi belirtir. Hedef, sınıfın veya değer etiketinin tahmin edilmesidir."
   ]
  },
  {
   "cell_type": "markdown",
   "metadata": {},
   "source": [
    "##### Hedefin türüne bağlı olarak, denetimli öğrenimi kabaca iki kategoriye ayrılır: Sınıflandırma ve regresyon. (Kategori: Aralarında herhangi yönden benzerlik, bağ ya da ilgi bulunması) \n",
    "##### 1– Sınıflandırma, aralarında herhangi yönden benzerlik, bağ ya da ilgi bulunan hedefleri içerir; Görüntü sınıflandırması gibi bazı basit durumlardan makine çevirileri ve resim yazısı gibi bazı gelişmiş konulara kadar değişen örnekler.\n",
    "##### 2– Regresyon, nicel (sayısal) değişkenler arasındaki ilişkilerin belirlendiği hedefleri içerir. Uygulamaların tümü bu kategoriye girer. Örneğin, stok tahmini, görüntü maskeleme ve diğerlerini içerir. Birnevi neyle-ne ilişkili dememiz doğrudur."
   ]
  },
  {
   "cell_type": "markdown",
   "metadata": {},
   "source": [
    "----------------------------------------------------------------------------------------------------------------------------------------"
   ]
  },
  {
   "cell_type": "markdown",
   "metadata": {},
   "source": [
    "![Ekran görüntüsü 2024-05-17 041950](https://github.com/ahmettsimsek/Makine-Ogrenmesi-Temelleri/assets/124433579/fedc2794-c19d-435e-9108-fc09a8e91ec4)\n"
   ]
  },
  {
   "cell_type": "markdown",
   "metadata": {},
   "source": [
    "-----------------------------------"
   ]
  },
  {
   "cell_type": "markdown",
   "metadata": {},
   "source": [
    "##### Denetimli Öğrenmenin işlevleri:\n",
    " Sınıflandırmalar\n",
    "\n",
    " Konuşma tanıma\n",
    "\n",
    " Regresyon\n",
    "\n",
    " Zaman serileri tahmin edilir\n",
    "\n",
    " Dizelere açıklama (etiket) eklenir."
   ]
  },
  {
   "cell_type": "markdown",
   "metadata": {},
   "source": [
    "---------------------------------------------------------------------------------------------------------------------------------------"
   ]
  },
  {
   "cell_type": "markdown",
   "metadata": {},
   "source": [
    "Denetimli öğrenmeye yönelik standart yaklaşım, örnek setini eğitim seti ve teste bölmektir.\n",
    "Makine öğrenimi gibi bilgi biliminin çeşitli alanlarında, \"Eğitim Seti\" olarak bilinen potansiyel\n",
    "olarak öngörücü ilişkiyi keşfetmek için bir dizi veri kullanılır. Eğitim seti öğrenen algoritmaya\n",
    "verilen bir örnektir, Test seti ise öğrenci tarafından oluşturulan hipotezlerin doğruluğunu\n",
    "test etmek için kullanılır ve öğrenen algoritmalardan saklanan bir örnek setidir. Eğitim seti,\n",
    "test setinden farklıdır.\n"
   ]
  },
  {
   "cell_type": "markdown",
   "metadata": {},
   "source": [
    "Denetimli öğrenmenin ne olduğunu anlamak için bir örnek kullanacağız. Örneğin, bir çocuğa\n",
    "içinde on aslan, on maymun, on fil ve diğerleri gibi her türden on hayvanın bulunduğu 100\n",
    "oyuncak hayvan veriyoruz. Daha sonra, çocuğa bir hayvanın farklı özelliklerine (özelliklerine)\n",
    "dayalı olarak farklı hayvan türlerini tanımayı öğretiyoruz. Rengi turuncuysa, o zaman bir\n",
    "aslan olabilir. Gövdesi büyük bir hayvansa, fil olabilir"
   ]
  },
  {
   "cell_type": "markdown",
   "metadata": {},
   "source": [
    "Aynısı bilgisayarlar için de geçerlidir. Onlara gerçek etiketli değerleri ile binlerce veri noktası\n",
    "sağlıyoruz (Etiketli veriler, özellik değerleriyle birlikte farklı gruplara sınıflandırılır). Daha\n",
    "sonra eğitim döneminde farklı özelliklerinden ders çıkarır. Eğitim dönemi bittikten sonra\n",
    "eğitimli modelimizi tahmin yapmak için kullanabiliriz. Kısaca aşağıdaki bu örnekteki tahminlerin etiketli verilere dayandığını söyleyebiliriz.\n"
   ]
  },
  {
   "cell_type": "markdown",
   "metadata": {},
   "source": [
    "![Ekran görüntüsü 2024-05-17 035318](https://github.com/ahmettsimsek/Makine-Ogrenmesi-Temelleri/assets/124433579/b7621844-2343-481c-b467-7c708ac3461e)\n"
   ]
  },
  {
   "cell_type": "markdown",
   "metadata": {},
   "source": [
    "-----------------------------------------------------------------------"
   ]
  },
  {
   "cell_type": "markdown",
   "metadata": {},
   "source": [
    "##### Denetimli öğrenme algoritmaları:\n",
    "• K-En Yakın Komşular\n",
    "\n",
    "• Doğrusal Regresyon\n",
    "\n",
    "• Lojistik regresyon\n",
    "\n",
    "• Rastgele Orman\n",
    "\n",
    "• Gradyan Güçlendirilmiş Ağaçlar\n",
    "\n",
    "• Destek Vektör Makineleri (SVM)\n",
    "\n",
    "• Naive Bayes\n",
    "\n",
    "• Nöral ağlar\n",
    "\n",
    "• Karar ağaçları\n"
   ]
  },
  {
   "cell_type": "markdown",
   "metadata": {},
   "source": [
    "İleriki kısımlarda bu algoritmaları araştırıp teorik ve kod şeklinde içerik oluşturacağız."
   ]
  },
  {
   "cell_type": "markdown",
   "metadata": {},
   "source": [
    "![Ekran görüntüsü 2024-05-17 042115](https://github.com/ahmettsimsek/Makine-Ogrenmesi-Temelleri/assets/124433579/6d880753-c0f8-4feb-808b-cc0e632a8fe5)\n"
   ]
  }
 ],
 "metadata": {
  "kernelspec": {
   "display_name": "Python 3",
   "language": "python",
   "name": "python3"
  },
  "language_info": {
   "codemirror_mode": {
    "name": "ipython",
    "version": 3
   },
   "file_extension": ".py",
   "mimetype": "text/x-python",
   "name": "python",
   "nbconvert_exporter": "python",
   "pygments_lexer": "ipython3",
   "version": "3.11.2"
  }
 },
 "nbformat": 4,
 "nbformat_minor": 2
}
