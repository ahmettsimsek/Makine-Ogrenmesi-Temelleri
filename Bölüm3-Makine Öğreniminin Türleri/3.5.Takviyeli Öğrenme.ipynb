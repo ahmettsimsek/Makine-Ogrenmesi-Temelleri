{
 "cells": [
  {
   "cell_type": "markdown",
   "metadata": {},
   "source": [
    "# 4-Takviyeli Öğrenme"
   ]
  },
  {
   "cell_type": "markdown",
   "metadata": {},
   "source": [
    "Bir bilgisayar programı, belirli bir hedefi (araç kullanmak veya rakibe karşı oyun oynamak\n",
    "gibi) gerçekleştirmesi gereken DİNAMİK BİR ORTAMLA ETKİLEŞİME GİRER. Sorun alanı içinde\n",
    "ilerledikçe, program ödüllendirmeye benzeyen ve performansı en üst düzeye çıkarmaya\n",
    "çalışan geri bildirim sağlar.\n",
    "\n",
    "Takviye öğrenmesi, yazılım temsilcilerinin kümülatif ödül kavramını en üst düzeye çıkarmak\n",
    "için bir ortamda nasıl işlem yapmaları gerektiğiyle ilgili bir makine öğrenmesi alanıdır.\n",
    "##### Genelliği nedeniyle, oyun teorisi, kontrol teorisi, yöneylem araştırması, bilgi teorisi, simülasyon tabanlı optimizasyon, çok etmenli sistemler, sürü zekası, istatistikler ve genetik algoritmalar gibi birçok disiplinde çalışılmaktadır. "
   ]
  },
  {
   "cell_type": "markdown",
   "metadata": {},
   "source": [
    "----------------------------------------------------------------------------------------------------------------------------------------"
   ]
  },
  {
   "cell_type": "markdown",
   "metadata": {},
   "source": [
    "##### Takviye öğrenme algoritmaları otonom araçlarda veya bir insan rakibe karşı bir oyun oynamayı öğrenmek için kullanılır.\n",
    " Q-Learning\n",
    "\n",
    " Temporal Difference (TD)\n",
    "\n",
    " Monte-Carlo Tree Search (MCTS)\n",
    "\n",
    " Asynchronous Actor-Critic Agents (A3C)"
   ]
  },
  {
   "cell_type": "markdown",
   "metadata": {},
   "source": [
    "---------------------------------------------------------------------------------------------------------------------------------------"
   ]
  },
  {
   "cell_type": "markdown",
   "metadata": {},
   "source": [
    "![Ekran görüntüsü 2024-05-17 042852](https://github.com/ahmettsimsek/Makine-Ogrenmesi-Temelleri/assets/124433579/019e9489-55ba-4436-960b-4b8c623160f5)\n"
   ]
  }
 ],
 "metadata": {
  "kernelspec": {
   "display_name": "Python 3",
   "language": "python",
   "name": "python3"
  },
  "language_info": {
   "codemirror_mode": {
    "name": "ipython",
    "version": 3
   },
   "file_extension": ".py",
   "mimetype": "text/x-python",
   "name": "python",
   "nbconvert_exporter": "python",
   "pygments_lexer": "ipython3",
   "version": "3.11.2"
  }
 },
 "nbformat": 4,
 "nbformat_minor": 2
}
