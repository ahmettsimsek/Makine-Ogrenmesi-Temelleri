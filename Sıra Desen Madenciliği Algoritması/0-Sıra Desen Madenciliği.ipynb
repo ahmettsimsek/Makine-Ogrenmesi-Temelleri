{
 "cells": [
  {
   "cell_type": "markdown",
   "metadata": {},
   "source": [
    "# Sıra Desen Madenciliği"
   ]
  },
  {
   "cell_type": "markdown",
   "metadata": {},
   "source": [
    "##### Sıra desen madenciliği, belirli bir sırayla gelen istatiksel olarak veri örnekleri arasındaki ilgili örüntüleri bulmaya çalışır. Müşterilerin teknoloji market alışverişi verilerine göre son 3 ayda sırasıyla önce bilgisayar sonra CD-ROM son olarak dijital kamera satın almaları, tıbbi tedaviler, doğal felaketler(deprem), DNA dizilişi ve gen yapısı sıralı örüntü madenciliği ile ilgilidir. Mesela Internet şubesinde yapılan işlemler bir sıraya göre yapıldığı için sıralı örüntü madenciliği içerisinde yer almaktadır. sıralı örüntü madenciliğinde arka arkaya yapılan işlemler göz önüne alınır."
   ]
  },
  {
   "cell_type": "markdown",
   "metadata": {},
   "source": [
    "#### PrefixSpan:\n",
    "\n",
    "##### PrefixSpan (Prefix-projed Sequential pattern mining) algoritması, sıralı veri madenciliği için çok iyi bilinen bir algoritmadır. Ardışık desenleri, desen büyütme yöntemi ile çıkarır. Algoritma, küçük veri kümeleri için çok iyi performans gösteriyor. PrefixSpan sık tekrarlanan işleri tekrar eder. Örnek vererek anlatmak gerekirse bir sürecin belirli zaman dilimlerinde nasıl tekrarlandığını inceler. Bu tekrarın hangi işlemler öncesi veya sonrası olduğuda dikkate alınmaktadır Algoritmaya yönelik manipilasyon bulmada kretik öneme sahiptir. Süreç analizinde gelecekte oluşacak krizlerin izlerini aramada önem katmakta."
   ]
  },
  {
   "cell_type": "markdown",
   "metadata": {},
   "source": [
    "#### Örnek:\n",
    "\n",
    "##### Aşağıdaki tabloda belli eylemler ve bu eylemlerin zaman dilimlerine göre gerçekleşme akışları verilmektedir. Veri madenciliğinin önemli adımlarından biri olan veri etiketleme süreci bu algoritmanında akışında röl oynamaktadır. Burada A – B – C eylemlerini bir internet bankacılığı süreçlerindeki havale(A), ödeme(B), giriş işlemleri(C) gibi etiketleme yaptıktan sonra süreci bir ID tanımlayarak sayısallaştırmaktadırlar. Bu sayıda algoritmanın temelinde yatan örüntü yakalama amacınıda hızlandırmış olmaktayız. Burada genel yaklaşımı anladıktan sonra, gerçek bir örnek üzerinde ilerleyebiliriz. "
   ]
  },
  {
   "cell_type": "markdown",
   "metadata": {},
   "source": [
    "![image](https://github.com/ahmettsimsek/Makine-Ogrenmesi-Temelleri/assets/124433579/cea121b1-77c1-49b8-980f-7032d38fb00a)"
   ]
  },
  {
   "cell_type": "markdown",
   "metadata": {},
   "source": [
    "##### Aşağıdaki şekil de görüldüğü gibi sıralı örüntü madenciliği yöntemine göre müşterilerin herhangi bir t anında sırayla yaptığı işlemleri, satın aldığı ürünleri, ziyaret ettiği web sayfalarını analiz ederek müşterinin davranışına uygun çıkarımlar yapılabilir. Bir sıralı veri analizi uygulamasının başarılı olması için destek (support) değerinin en küçük destek değerinden (minsupport) başka ifade ile eşik değerinden daha büyük olması gerekir."
   ]
  },
  {
   "cell_type": "markdown",
   "metadata": {},
   "source": [
    "![image](https://github.com/ahmettsimsek/Makine-Ogrenmesi-Temelleri/assets/124433579/3ec13383-c346-4164-8411-e8b224a3172b)"
   ]
  }
 ],
 "metadata": {
  "kernelspec": {
   "display_name": "Python 3",
   "language": "python",
   "name": "python3"
  },
  "language_info": {
   "codemirror_mode": {
    "name": "ipython",
    "version": 3
   },
   "file_extension": ".py",
   "mimetype": "text/x-python",
   "name": "python",
   "nbconvert_exporter": "python",
   "pygments_lexer": "ipython3",
   "version": "3.11.2"
  }
 },
 "nbformat": 4,
 "nbformat_minor": 2
}
