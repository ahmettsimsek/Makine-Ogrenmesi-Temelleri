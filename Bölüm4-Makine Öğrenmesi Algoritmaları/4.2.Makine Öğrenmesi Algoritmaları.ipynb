{
 "cells": [
  {
   "cell_type": "markdown",
   "metadata": {},
   "source": [
    "# Makine Öğrenmesi Algoritmaları"
   ]
  },
  {
   "cell_type": "markdown",
   "metadata": {},
   "source": [
    "### 1- Regresyon (Tahmin)\n"
   ]
  },
  {
   "cell_type": "markdown",
   "metadata": {},
   "source": [
    "Sürekli değerleri tahmin etmek için regresyon algoritmaları kullanılır.\n",
    "\n",
    "##### Regresyon algoritmaları:\n",
    "• Doğrusal Regresyon\n",
    "\n",
    "• Polinom Regresyon\n",
    "\n",
    "• Üstel Regresyon\n",
    "\n",
    "• Lojistik regresyon\n",
    "\n",
    "• Logaritmik Regresyon"
   ]
  },
  {
   "cell_type": "markdown",
   "metadata": {},
   "source": [
    "----------------------------------------------------------------------------------------------------------------------------------------"
   ]
  },
  {
   "cell_type": "markdown",
   "metadata": {},
   "source": [
    "### 2-Sınıflandırma\n"
   ]
  },
  {
   "cell_type": "markdown",
   "metadata": {},
   "source": [
    "Bir dizi öğenin sınıfını veya kategorisini tahmin etmek için sınıflandırma algoritmaları kullanılır.\n",
    "\n",
    "##### Sınıflandırma algoritmaları:\n",
    "• K-En Yakın Komşular\n",
    "\n",
    "• Karar ağaçları\n",
    "\n",
    "• Rastgele Orman\n",
    "\n",
    "• Destek Vektör Makinesi\n",
    "\n",
    "• Naive Bayes\n"
   ]
  },
  {
   "cell_type": "markdown",
   "metadata": {},
   "source": [
    "---------------------------------------------------------------------------------------------------------------------------------------"
   ]
  },
  {
   "cell_type": "markdown",
   "metadata": {},
   "source": [
    "### 3- Kümeleme"
   ]
  },
  {
   "cell_type": "markdown",
   "metadata": {},
   "source": [
    "Özetlemek veya verileri yapılandırmak için kümeleme algoritmaları kullanılır.\n",
    "\n",
    "##### Kümeleme algoritmaları:\n",
    " K-means\n",
    "\n",
    " DBSCAN\n",
    "\n",
    " Mean Shift\n",
    "\n",
    " Hierarchical"
   ]
  },
  {
   "cell_type": "markdown",
   "metadata": {},
   "source": [
    "------------"
   ]
  },
  {
   "cell_type": "markdown",
   "metadata": {},
   "source": [
    "### 4- İlişkilendirme"
   ]
  },
  {
   "cell_type": "markdown",
   "metadata": {},
   "source": [
    "Birlikte meydana gelen öğeleri veya olayları ilişkilendirmek için ilişkilendirme algoritmaları kullanıyoruz. Bu algoritma veri madenciliğinde de kullanılır. Örneğin marketçilik mesela şunu alan şunu da alabilir gibi.\n",
    "\n",
    "##### İlişkilendirme algoritmaları:\n",
    " Apriori"
   ]
  },
  {
   "cell_type": "markdown",
   "metadata": {},
   "source": [
    "--------------"
   ]
  },
  {
   "cell_type": "markdown",
   "metadata": {},
   "source": [
    "### 5-Anomali (Sapma) Algılama:"
   ]
  },
  {
   "cell_type": "markdown",
   "metadata": {},
   "source": [
    "Anormal etkinlikleri ve dolandırıcılık tespiti gibi olağandışı durumları keşfetmek için\n",
    "anormallik algılama kullanılır."
   ]
  },
  {
   "cell_type": "markdown",
   "metadata": {},
   "source": [
    "Veri madenciliğinde, aykırı tespit olarak da bilinen anomali tespiti, verilerin çoğundan önemli\n",
    "ölçüde farklılık göstererek şüphe uyandıran nadir maddelerin, olayların veya gözlemlerin\n",
    "tanımlanmasıdır. Tipik olarak, anormal kalemler banka sahtekarlığı, yapısal bir kusur, tıbbi\n",
    "sorunlar veya bir metindeki hatalar gibi bir konuyu temsil eder. Anomalilere aykırı değerler,\n",
    "yenilikler, gürültü, sapmalar ve istisnalar denir. "
   ]
  },
  {
   "cell_type": "markdown",
   "metadata": {},
   "source": [
    "--------------"
   ]
  },
  {
   "cell_type": "markdown",
   "metadata": {},
   "source": [
    "### 6- Sıra Desen Madenciliği"
   ]
  },
  {
   "cell_type": "markdown",
   "metadata": {},
   "source": [
    "Örüntü - Pattern: Bir nesnenin ya da olayın iki veya üç boyutlu, uzaysal ve geometriksel\n",
    "davranışının matematiksel ifadesdir. Diğer bir ifadeyle , nesnenin davranışı ile ilgili uzayda\n",
    "gözlenebilir veya ölçülebilir geometrik bilgilerdir."
   ]
  },
  {
   "cell_type": "markdown",
   "metadata": {},
   "source": [
    "##### Örüntü Tanımanın kullanıldığı alanlar:\n",
    " Örüntü Tanıma şu alanlarda kullanılabilir:\n",
    "\n",
    " Bilgisayar görüşü\n",
    "\n",
    " Konuşma tanıma\n",
    "\n",
    " Veri madenciliği\n",
    "\n",
    " İstatistik\n",
    "\n",
    " Gayri Resmi Erişim\n",
    "\n",
    " Biyo-Bilişim\n"
   ]
  },
  {
   "cell_type": "markdown",
   "metadata": {},
   "source": [
    "--------------"
   ]
  },
  {
   "cell_type": "markdown",
   "metadata": {},
   "source": [
    "### 7- Boyut Küçültme (Dimensionality reduction)"
   ]
  },
  {
   "cell_type": "markdown",
   "metadata": {},
   "source": [
    "##### Veri biliminde, boyut indirgeme, bir verinin yüksek boyutlu bir uzaydan, düşük boyutlu bir uzaya, anlamını kaybetmeyecek şekilde dönüştürülmesidir. "
   ]
  },
  {
   "cell_type": "markdown",
   "metadata": {},
   "source": [
    "Önemli paremetreler kalıcak, önemli şeyleri boyuttan çıkarmamamız gerekmektedir. Boyut indirgemesi gürültü filtreleme, veri görselleştirme ya da kümeleme analizi\n",
    "amacıyla kullanılabileceği gibi, diğer makine öğrenimi yöntemlerinin ön adımı olarak\n",
    "uygulanabilir."
   ]
  },
  {
   "cell_type": "markdown",
   "metadata": {},
   "source": [
    "--------------"
   ]
  },
  {
   "cell_type": "markdown",
   "metadata": {},
   "source": [
    "### 8- Önerilerden eğilim ya da yön bulma"
   ]
  },
  {
   "cell_type": "markdown",
   "metadata": {},
   "source": [
    "Öneri motorları oluşturmak için öneri algoritmalarını kullanılır.\n",
    "\n",
    "##### Örnekler:\n",
    "• Netflix öneri sistemi.\n",
    "\n",
    "• Bir kitap tavsiye sistemi.\n",
    "\n",
    "• Amazon'da bir ürün öneri sistemi.\n"
   ]
  }
 ],
 "metadata": {
  "kernelspec": {
   "display_name": "Python 3",
   "language": "python",
   "name": "python3"
  },
  "language_info": {
   "codemirror_mode": {
    "name": "ipython",
    "version": 3
   },
   "file_extension": ".py",
   "mimetype": "text/x-python",
   "name": "python",
   "nbconvert_exporter": "python",
   "pygments_lexer": "ipython3",
   "version": "3.11.2"
  }
 },
 "nbformat": 4,
 "nbformat_minor": 2
}
