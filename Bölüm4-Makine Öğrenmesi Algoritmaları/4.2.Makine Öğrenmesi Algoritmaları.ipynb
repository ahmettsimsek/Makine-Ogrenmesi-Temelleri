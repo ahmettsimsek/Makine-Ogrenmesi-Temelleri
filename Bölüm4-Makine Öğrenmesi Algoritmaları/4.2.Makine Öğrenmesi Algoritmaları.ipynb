{
 "cells": [
  {
   "cell_type": "markdown",
   "metadata": {},
   "source": [
    "# Makine Öğrenmesi Algoritmaları"
   ]
  },
  {
   "cell_type": "markdown",
   "metadata": {},
   "source": [
    "### 1- Regresyon (Tahmin)\n"
   ]
  },
  {
   "cell_type": "markdown",
   "metadata": {},
   "source": [
    "Sürekli değerleri tahmin etmek için regresyon algoritmaları kullanılır.\n",
    "\n",
    "##### Regresyon algoritmaları:\n",
    "• Doğrusal Regresyon\n",
    "\n",
    "• Polinom Regresyon\n",
    "\n",
    "• Üstel Regresyon\n",
    "\n",
    "• Lojistik regresyon\n",
    "\n",
    "• Logaritmik Regresyon"
   ]
  },
  {
   "cell_type": "markdown",
   "metadata": {},
   "source": [
    "----------------------------------------------------------------------------------------------------------------------------------------"
   ]
  },
  {
   "cell_type": "markdown",
   "metadata": {},
   "source": [
    "### 2-Sınıflandırma\n"
   ]
  },
  {
   "cell_type": "markdown",
   "metadata": {},
   "source": [
    "Bir dizi öğenin sınıfını veya kategorisini tahmin etmek için sınıflandırma algoritmaları kullanılır.\n",
    "\n",
    "##### Sınıflandırma algoritmaları:\n",
    "• K-En Yakın Komşular\n",
    "\n",
    "• Karar ağaçları\n",
    "\n",
    "• Rastgele Orman\n",
    "\n",
    "• Destek Vektör Makinesi\n",
    "\n",
    "• Naive Bayes\n"
   ]
  },
  {
   "cell_type": "markdown",
   "metadata": {},
   "source": [
    "---------------------------------------------------------------------------------------------------------------------------------------"
   ]
  }
 ],
 "metadata": {
  "kernelspec": {
   "display_name": "Python 3",
   "language": "python",
   "name": "python3"
  },
  "language_info": {
   "codemirror_mode": {
    "name": "ipython",
    "version": 3
   },
   "file_extension": ".py",
   "mimetype": "text/x-python",
   "name": "python",
   "nbconvert_exporter": "python",
   "pygments_lexer": "ipython3",
   "version": "3.11.2"
  }
 },
 "nbformat": 4,
 "nbformat_minor": 2
}
