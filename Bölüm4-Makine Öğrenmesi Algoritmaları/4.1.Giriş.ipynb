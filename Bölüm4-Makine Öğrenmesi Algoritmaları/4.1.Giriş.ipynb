{
 "cells": [
  {
   "cell_type": "markdown",
   "metadata": {},
   "source": [
    "# Makine Öğrenmesi Algoritmaları"
   ]
  },
  {
   "cell_type": "markdown",
   "metadata": {},
   "source": [
    "Makine Öğrenimi, kurala dayalı çıkarımlar yapar. İlişkilendirme kuralı öğrenme, büyük\n",
    "veritabanlarındaki değişkenler arasındaki ilişkileri keşfetmek için kural tabanlı bir makine\n",
    "öğrenme yöntemidir. Makine öğrenmede veritabanlarında keşfedilen güçlü kuralların bir\n",
    "miktar \"ilginçlik\" ölçüsü kullanılarak belirlenmesi amaçlanmıştır. "
   ]
  },
  {
   "cell_type": "markdown",
   "metadata": {},
   "source": [
    "### Makine öğrenmesi algoritmalarının temel bileşenleri:\n",
    " Hesaplamalar için çeşitli kütüphaneler kullanıldığından gerekli kütüphaneler aktarılır.\n",
    "\n",
    " Veritabanı dosyaları okunur.\n",
    "\n",
    " Etiketli verilerin ağırlıklı ortalama, standart sapma gibi istatistiksel analiz özellikleri\n",
    "\n",
    "belirlenir ve yorumlanır.\n",
    "\n",
    " Verilerin grafiği çizilir.\n",
    "\n",
    " Değerler tahmin edilirken dikkate almak istenilen özellikler ve katsayılar seçilir.\n",
    "\n",
    " Bir modelin doğruluğunu kontrol etmek için, veriler eğitim ve test veri setlerine ayrılır.\n",
    "\n",
    " Model eğitilir\n",
    "\n",
    " Test veri seti için bir tahmin fonksiyonu bulunur.\n",
    "\n",
    " Test verilerinin doğruluğu kontrol edilir: Gerçek değerleri veri setindeki tahmin edilen değerlerle karşılaştırılarak bir modelin doğruluğu kontrol edilebilir.\n"
   ]
  },
  {
   "cell_type": "markdown",
   "metadata": {},
   "source": [
    "----------------------------------------------------------------------------------------------------------------------------------------"
   ]
  },
  {
   "cell_type": "markdown",
   "metadata": {},
   "source": [
    "### Makine Öğreniminin beş popüler algoritması:\n",
    " Karar ağaçları\n",
    "\n",
    " Sinir Ağları (geri yayılım)\n",
    "\n",
    " Olasılık ağları\n",
    "\n",
    " En yakın komşu\n",
    "\n",
    " Vektör makineleri desteklemek"
   ]
  },
  {
   "cell_type": "markdown",
   "metadata": {},
   "source": [
    "---------------------------------------------------------------------------------------------------------------------------------------"
   ]
  },
  {
   "cell_type": "markdown",
   "metadata": {},
   "source": [
    "### İlişkisel değerlendirme tekniklerinin önemli bileşenleri şunlardır:\n",
    " Veri toplama\n",
    "\n",
    " Ground Truth Edinimi\n",
    "\n",
    " Çapraz Doğrulama Tekniği\n",
    "\n",
    " Sorgu Türü\n",
    "\n",
    " Puanlama Metriği\n",
    "\n",
    " Önem Testi"
   ]
  },
  {
   "cell_type": "markdown",
   "metadata": {},
   "source": [
    "----------"
   ]
  },
  {
   "cell_type": "markdown",
   "metadata": {},
   "source": [
    "# Makine öğrenimi algoritmalarını uygulamak için neden Python?"
   ]
  },
  {
   "cell_type": "markdown",
   "metadata": {},
   "source": [
    "##### Python'un hayatımızı daha rahat hale getiren çok çeşitli modül ve kütüphanelerin halihazırda uygulanmış olmasıdır.\n",
    "\n",
    "##### Bazı heyecan verici Python kütüphalerine kısaca bir göz atalım:\n",
    "1. Numpy: Python'da n boyutlu dizilerle çalışmak için bir matematik kitaplığıdır.\n",
    "Hesaplamaları etkili ve verimli bir şekilde yapmamızı sağlar.\n",
    "\n",
    "2. Scipy: Sinyal işleme, optimizasyon, istatistik ve çok daha fazlasını içeren sayısal\n",
    "algoritmalar ve alana özgü araç kutusudur. Scipy, bilimsel ve yüksek performanslı\n",
    "hesaplamalar için işlevsel bir kitaplıktır.\n",
    "\n",
    "3. Matplotlib: 2D çizimin yanı sıra 3D çizim de sağlayan modaya uygun bir çizim\n",
    "paketidir.\n",
    "\n",
    "4. Scikit-learn: Python programlama dili için ücretsiz bir makine öğrenimi kitaplığıdır.\n",
    "Sınıflandırma, regresyon ve kümeleme algoritmalarının çoğuna sahiptir ve Numpy,\n",
    "Scipy gibi Python sayısal kütüphaneleri ile çalışır."
   ]
  }
 ],
 "metadata": {
  "kernelspec": {
   "display_name": "Python 3",
   "language": "python",
   "name": "python3"
  },
  "language_info": {
   "codemirror_mode": {
    "name": "ipython",
    "version": 3
   },
   "file_extension": ".py",
   "mimetype": "text/x-python",
   "name": "python",
   "nbconvert_exporter": "python",
   "pygments_lexer": "ipython3",
   "version": "3.11.2"
  }
 },
 "nbformat": 4,
 "nbformat_minor": 2
}
