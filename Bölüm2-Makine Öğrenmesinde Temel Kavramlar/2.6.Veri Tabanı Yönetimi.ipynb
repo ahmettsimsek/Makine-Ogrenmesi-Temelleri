{
 "cells": [
  {
   "cell_type": "markdown",
   "metadata": {},
   "source": [
    "# VERİ TABANI YÖNETİMİ\n"
   ]
  },
  {
   "cell_type": "markdown",
   "metadata": {},
   "source": [
    "Veri tabanları: Elde edilen verilerin tutulduğu alanlardır. Bir veri tabanı sistemi, birbiri ile\n",
    "ilişkili verilerin birikimini içeren, veriye erişimi sağlayarak veriyi yönetmeye yardımcı olan\n",
    "yazılım programları kümesidir."
   ]
  },
  {
   "cell_type": "markdown",
   "metadata": {},
   "source": [
    "### Veri tabanları kullanım amaçlarına göre farklı isimler alır:"
   ]
  },
  {
   "cell_type": "markdown",
   "metadata": {},
   "source": [
    "- İlişkisel veritabanları; \n",
    "\n",
    "her biri farklı isimler alan tablolardan oluşur. Her tabloda her bir\n",
    "kaydın özelliklerinin değerlerini tutan alanlar ve her kayda ait bir tekil anahtar bulunur. \n"
   ]
  },
  {
   "cell_type": "markdown",
   "metadata": {},
   "source": [
    "\n",
    "- İşlemsel veritabanında;\n",
    "\n",
    "her bir kaydın bir işlem olduğu varsayılır. Bir marketin veri tabanını\n",
    "düşünecek olursak, her an bir satış yapıldığını ve her bir satışın işlemsel veri tabanında bir\n",
    "kayıt olarak göründüğü varsayılabilir. Bu veritabanından, bugün, ilgilenilen üründen kaç tane\n",
    "satıldığı sorusunun cevabına ulaşılabilir.\n",
    "\n"
   ]
  },
  {
   "cell_type": "markdown",
   "metadata": {},
   "source": [
    "- Zaman serisi veritabanında,\n",
    "\n",
    " düzenli zaman aralıkları ile elde edilmiş (yıllık, haftalık, günlük)\n",
    "verilerin tutulduğu alanlardır. Örnek olarak borsa verilerinin, stok kontrolleri sonucu alınan\n",
    "verilerin, sıcaklık ölçümlerinden elde edilen verilerin depolanması gösterilebilir.\n",
    "\n"
   ]
  },
  {
   "cell_type": "markdown",
   "metadata": {},
   "source": [
    "- Veri Ambarları:\n",
    "\n",
    " “Veri ambarları, tüm operasyonel işlemlerin en alt düzeydeki verilerine kadar\n",
    "inebilen, etkili analiz yapılabilmesi için özel olarak modellenen ve tarihsel derinliği olan veri\n",
    "depolama sistematiği olarak tanımlanabilir.” Günlük işlemler sonucu, farklı kaynaklardan\n",
    "toplanan veriler, temizleme dönüştürme, birleştirme gibi işlemlerden geçirilerek, daha önce\n",
    "inşa edilmiş veri ambarının yapısına uygun hale getirilerek veri ambarına aktarılır. "
   ]
  },
  {
   "cell_type": "markdown",
   "metadata": {},
   "source": [
    "### Veri madenciliğinde kullanılan modeller:"
   ]
  },
  {
   "cell_type": "markdown",
   "metadata": {},
   "source": [
    "Tahmin Edici Modeller : Tahmin edici modellerde, sonuçları bilinen verilerden hareket\n",
    "edilerek bir model geliştirilmesi ve kurulan bu modelden yararlanılarak sonuçları bilinmeyen\n",
    "veri kümeleri için sonuç tahmin edilmesi amaçlanmaktadır.\n",
    "\n",
    "Tanımlayıcı Modeller : Tanımlayıcı modellerde, veri kümesinde bulunan gizli örüntülerin\n",
    "(olayların ve nesnelerin ortaya çıkardığı davranış değişikliklerinin desenleri) tanımlanması\n",
    "amaçlanmaktadır. "
   ]
  },
  {
   "cell_type": "markdown",
   "metadata": {},
   "source": [
    " #### Veri madenciliği süreci dört aşama ile tanımlanabilir.\n",
    " \n",
    "• İlk aşamada problem tanımlanarak veri kaynakları değerlendirilir.\n",
    "\n",
    "• İkinci aşamada veriler kullanıma uygun hale getirilmek için hazırlanır.\n",
    "\n",
    "• Arkasından model kurulur ve\n",
    "\n",
    "• nihai aşamada model değerlendirilerek kullanıma hazır hale getirilir.\n"
   ]
  },
  {
   "cell_type": "markdown",
   "metadata": {},
   "source": [
    "![Ekran görüntüsü 2024-05-17 031336](https://github.com/ahmettsimsek/Makine-Ogrenmesi-Temelleri/assets/124433579/853c4b06-f8ab-423a-9772-4bc4d19f1eb4)\n"
   ]
  }
 ],
 "metadata": {
  "kernelspec": {
   "display_name": "Python 3",
   "language": "python",
   "name": "python3"
  },
  "language_info": {
   "codemirror_mode": {
    "name": "ipython",
    "version": 3
   },
   "file_extension": ".py",
   "mimetype": "text/x-python",
   "name": "python",
   "nbconvert_exporter": "python",
   "pygments_lexer": "ipython3",
   "version": "3.11.2"
  }
 },
 "nbformat": 4,
 "nbformat_minor": 2
}
