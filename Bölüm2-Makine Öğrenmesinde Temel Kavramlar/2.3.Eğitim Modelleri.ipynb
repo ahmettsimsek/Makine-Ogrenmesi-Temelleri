{
 "cells": [
  {
   "cell_type": "markdown",
   "metadata": {},
   "source": [
    "# EĞİTİM MODELLERİ"
   ]
  },
  {
   "cell_type": "markdown",
   "metadata": {},
   "source": [
    "Veri setlerini tanımlamak için kullanılan farklı matematiksel modeller arasından seçme işlemi “Eğitim Model Seçimi” olarak bilinir. Model seçimi istatistik, makine öğrenimi ve verimadenciliği alanlarına uygulanmaktadır.\n",
    "\n",
    "Makine öğrenmesi modelleri iyi performans gösterebilmeleri için çok fazla veri gerektirir. Bir makine öğrenmesi modeli eğitilirken, temsili veri örneklerinin toplanması gerekir. Eğitim setindeki veriler, bir metin topluluğuna, bir resim koleksiyonuna ve bir hizmetin tek tek kullanıcılarından toplanan verilerine kadar değişebilir.\n",
    "\n",
    "Bir modeli eğitmek, tüm ağırlıklar ve etiketli örneklerden eşik seviye değeri bulabilmek için iyi değerleri öğrenmek (belirlemek) anlamına gelir. Denetimli öğrenmede, bir makine öğrenimi algoritması birçok örneği inceleyerek ve kaybı en aza indiren bir model bulmaya çalışarak bir model oluşturur; bu sürece ampirik risk minimizasyonu denir.\n",
    "\n",
    "Makine öğrenmesinde kayıp, kötü bir tahminin cezasıdır. Kayıp, modelin tahmininin ne kadar kötü olduğunu gösteren bir sayıdır. Modelin tahmini mükemmelse, kayıp sıfırdır; aksi takdirde kayıp daha büyüktür. Makine öğrenmesinde bir modeli eğitmenin amacı, tüm örneklerde ortalama olarak düşük kayıplı bir eşik değer bulmaktır."
   ]
  },
  {
   "cell_type": "markdown",
   "metadata": {},
   "source": [
    "TAHMİN İLE GERÇEK HAYATTAKİ DEĞERLER ARASI KAYBA BAKIYORUZ\n",
    "\n",
    "![Ekran görüntüsü 2024-03-26 142652](https://github.com/ahmettsimsek/Makine-Ogrenmesi-Temelleri/assets/124433579/459ad3fd-edee-45f6-ab7d-5e196a8ff93e)\n"
   ]
  },
  {
   "cell_type": "markdown",
   "metadata": {},
   "source": [
    "Doğrusal regresyon modelleri için karesel kayıp adı verilen bir kayıp fonksiyonu kullanır. \n",
    "![Ekran görüntüsü 2024-03-26 143023](https://github.com/ahmettsimsek/Makine-Ogrenmesi-Temelleri/assets/124433579/3d4fe30c-ebba-40e5-8fdf-aeaa7775eb1c)\n"
   ]
  },
  {
   "cell_type": "markdown",
   "metadata": {},
   "source": [
    "Doğrusal Regrasyon ------> Kayıp Fonksiyonu yani ORTALAMA KARELER HATASI (MSE)"
   ]
  },
  {
   "cell_type": "markdown",
   "metadata": {},
   "source": [
    "#### TOPLU ÖĞRENME"
   ]
  },
  {
   "cell_type": "markdown",
   "metadata": {},
   "source": [
    "Toplu öğrenme:\n",
    "Belirli bir hesaplama programını çözmek için sınıflandırıcılar veya uzmanlar gibi birden çok model stratejik olarak oluşturulur ve birleştirilir. Bu süreç toplu öğrenme olarak bilinir. Toplu öğrenme, bir modelin sınıflandırmasını, tahminini, işlev yaklaşımını geliştirmek için kullanılır.\n",
    "\n",
    "Toplu yöntemler:\n",
    "Topluluk yöntemlerinin iki paradigması şunlardır:\n",
    "-  Sıralı topluluk yöntemleri\n",
    "-  Paralel topluluk yöntemleri"
   ]
  }
 ],
 "metadata": {
  "kernelspec": {
   "display_name": "Python 3",
   "language": "python",
   "name": "python3"
  },
  "language_info": {
   "codemirror_mode": {
    "name": "ipython",
    "version": 3
   },
   "file_extension": ".py",
   "mimetype": "text/x-python",
   "name": "python",
   "nbconvert_exporter": "python",
   "pygments_lexer": "ipython3",
   "version": "3.11.2"
  }
 },
 "nbformat": 4,
 "nbformat_minor": 2
}
