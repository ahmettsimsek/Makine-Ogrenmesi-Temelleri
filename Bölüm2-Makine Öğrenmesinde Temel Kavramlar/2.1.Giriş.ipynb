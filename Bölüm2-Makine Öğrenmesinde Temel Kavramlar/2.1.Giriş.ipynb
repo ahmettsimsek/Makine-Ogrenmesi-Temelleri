{
 "cells": [
  {
   "cell_type": "markdown",
   "metadata": {},
   "source": [
    "# Makine Öğrenmesinde Temel Kavramlar"
   ]
  },
  {
   "cell_type": "markdown",
   "metadata": {},
   "source": [
    "Bilgi toplama gibi öğrenme, kesin olarak tanımlanması zor olan çok çeşitli süreçleri kapsar. Öğrenmenin sözlük anlamı, bilgi edinmek, çalışmak, deneyimlemek suretiyle anlama, beceri kazanma gibi ifadelerin ve deneyimle davranışsal eğilimlerin değiştirilmesini içerir.\n",
    "\n",
    "##### Makine Öğrenmesi Tanımlar:\n",
    "- Makine öğrenimi, deneyimle otomatik olarak öğrenmek ve gelişmek için sistem programlamayla ilgilenen bir bilgisayar bilimi dalıdır.\n",
    "\n",
    "-  Makine Öğrenmesi: veri yığınından öğrenen ve otonom davranış sergileyen algoritmaların ve matematiksel modellerin oluşturulmasıdır.\n",
    "\n",
    "-  Veri yığınından tahmin etmeye ya da karar vermeye yönelik otonom davranış paternleri geliştiren algoritmalar ve matematiksel modellerin oluşturulmasıdır.\n",
    "\n",
    "-  Veri yığınından kendi kendine öğrenen matematiksel modeller ve algoritmalar ile insandan bağımsız otonom davranış geliştirilmesidir.\n",
    "\n",
    "-  Yapısal işlev olarak veri yığınından öğrenebilen ve veriler üzerinden karar vermeye yönelik tahmin yapabilen algoritmaların çalışma ve inşalarını araştıran bir sistemdir."
   ]
  },
  {
   "cell_type": "markdown",
   "metadata": {},
   "source": [
    "- Makine öğrenmesi, bilgisayarları açıkça programlanmaksızın görevleri nasıl gerçekleştirebileceklerini keşfetmeyi içerir. Belirli görevleri yerine getirmeleri için verilerden öğrenen algoritmaları içerir. \n",
    "\n",
    "- Makine Öğrenmesi uygulamasında, programcıların gereken her adımı belirtmesinden ziyade makinenin kendisinin algoritmaları geliştirmesine yardımcı olmaktadır.\n",
    "\n",
    "\n",
    "#### Makine öğrenmesinin omurgasını oluşturan disiplinler:\n",
    "- Matematiksel optimizasyon\n",
    "- Veri madenciliği\n",
    "-  Uygulamalı Matematik\n",
    "- Bilgisayar sistemleri ve yazılımlar\n",
    "\n"
   ]
  },
  {
   "cell_type": "markdown",
   "metadata": {},
   "source": [
    "\n",
    "Makine öğrenmesi (ML), yapay zekanın bir alt kümesi olarak görülür."
   ]
  },
  {
   "cell_type": "markdown",
   "metadata": {},
   "source": [
    "![gorsel] (gorseller-02.jpg)"
   ]
  }
 ],
 "metadata": {
  "kernelspec": {
   "display_name": "Python 3",
   "language": "python",
   "name": "python3"
  },
  "language_info": {
   "codemirror_mode": {
    "name": "ipython",
    "version": 3
   },
   "file_extension": ".py",
   "mimetype": "text/x-python",
   "name": "python",
   "nbconvert_exporter": "python",
   "pygments_lexer": "ipython3",
   "version": "3.11.2"
  }
 },
 "nbformat": 4,
 "nbformat_minor": 2
}
