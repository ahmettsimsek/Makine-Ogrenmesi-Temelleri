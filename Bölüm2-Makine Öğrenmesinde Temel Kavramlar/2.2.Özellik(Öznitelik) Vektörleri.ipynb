{
 "cells": [
  {
   "cell_type": "markdown",
   "metadata": {},
   "source": [
    "#  Özellik (Öznitelik) Vektörleri"
   ]
  },
  {
   "cell_type": "markdown",
   "metadata": {},
   "source": [
    "Makine öğrenmesinde, özellik vektörleri, bir nesnenin özellikler adı verilen sayısal veya sembolik özelliklerini matematiksel olarak, kolayca analiz edilebilir bir şekilde temsil etmek için kullanılır. "
   ]
  },
  {
   "cell_type": "markdown",
   "metadata": {},
   "source": [
    "Aşina olabileceğiniz bir özellik vektörüne örnek RGB (kırmızı-yeşil-mavi) renk açıklamalarıdır. Bir renk, içinde ne kadar kırmızı, mavi ve yeşil olduğu ile tanımlanabilir. Bunun için bir özellik vektörü, renk = [R, G, B] olacaktır. Görüntü(pixel değerlerinde) RGB kullanılır.\n"
   ]
  },
  {
   "cell_type": "markdown",
   "metadata": {},
   "source": [
    "Bir vektör, tek sütunlu ancak çok satırlı bir matris gibi, genellikle uzamsal olarak temsil edilebilen bir sayı dizisidir. Bir özellik, bir nesnenin bir yönünün sayısal veya sembolik bir özelliğidir. Özellik vektörü, bir nesne hakkında birden çok öğe içeren bir vektördür. Nesneler için özellik vektörlerini bir araya getirmek bir özellik alanı oluşturabilir."
   ]
  },
  {
   "cell_type": "markdown",
   "metadata": {},
   "source": [
    "- Öklid Mesafesi   \n",
    "Özellik vektörleri, birçok analiz türüne yardımcı olmak için nesneleri sayısal bir şekilde temsil etmenin etkinliği ve pratikliği nedeniyle makine öğreniminde yaygın olarak kullanılmaktadır. Analiz için iyidirler çünkü öznitelik vektörlerini karşılaştırmak için birçok teknik vardır. İki nesnenin özellik vektörlerini karşılaştırmanın basit bir yolu Öklid mesafesini almaktır.\n",
    "Örneğin, kedi ile köpeğin feauterları(öznitelikleri) alınıyor. Kedi türündense Öklid Mesafesi 0 çıkıyıor, bu mesafe büyüdükçe diyoruz ki ikisi farklı öznitelik, kıyaslayınca bu köpek diyoruz."
   ]
  },
  {
   "cell_type": "markdown",
   "metadata": {},
   "source": [
    "- Görüntü işleme    \n",
    "Görüntü işlemede, özellikler gradyan büyüklüğü, renk, gri tonlama yoğunluğu, kenarlar,alanlar ve daha fazlası olabilir.\n",
    "karşılaştırılabilmesinin uygun yolu nedeniyle özellikle görüntü işlemedeki analizler için popülerdir.\n",
    "1) Konuşma tanımada özellikler ses uzunlukları, gürültü seviyesi, gürültü oranları ve daha\n",
    "fazlası olabilir.\n",
    "\n",
    "2) İstenmeyen e-postayla mücadele girişimlerinde özellikler bol miktarda bulunur. IP konumu,\n",
    "metin yapısı, belirli kelimelerin sıklığı veya belirli e-posta başlıkları olabilir."
   ]
  },
  {
   "cell_type": "markdown",
   "metadata": {},
   "source": [
    "Özellik vektörleri, makine öğrenmesinde sınıflandırma problemlerinde, yapay sinir ağlarında ve k en yakın komşu algoritmalarında kullanılır.\n",
    "Örüntü tanıma süreçlerinde, özellik vektörleri, veri toplama ve verileri anlamlandırma arasında kullanılan araçlardır. Yani öznitelik vektörlerinde, vektörleri alarak sınıflandırıcıya input olarak veriyoruz sinir ağlarında(makine öğrenmesi)."
   ]
  },
  {
   "cell_type": "markdown",
   "metadata": {},
   "source": [
    "Özellik(Öznitelik) vektörüne örnek olarak, kedinin farklı özellikleri vardır, köpeğin farklı özellikleri vardır. İkisinin de 4 ayağı olsa da göz yapısı, kulak yapısı vs. bunlar farklıdır ve bunlara feauture diyoruz. Bir zebra, desenlidir bu şekilde katırdan farklıdır. İşte bunlara özellik olarak bakıyoruz.\n",
    "Görüntü olarak bakarsak oradaki RGB(Kırmızı, Yeşil, Mavi) değerleri bizim için birer özelliktir. İşte biz bunlara feauture vektörü yani öznitelik vektörü diyoruz."
   ]
  }
 ],
 "metadata": {
  "kernelspec": {
   "display_name": "Python 3",
   "language": "python",
   "name": "python3"
  },
  "language_info": {
   "codemirror_mode": {
    "name": "ipython",
    "version": 3
   },
   "file_extension": ".py",
   "mimetype": "text/x-python",
   "name": "python",
   "nbconvert_exporter": "python",
   "pygments_lexer": "ipython3",
   "version": "3.11.2"
  }
 },
 "nbformat": 4,
 "nbformat_minor": 2
}
