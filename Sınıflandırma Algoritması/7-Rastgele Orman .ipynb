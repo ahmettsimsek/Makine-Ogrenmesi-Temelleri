{
 "cells": [
  {
   "cell_type": "markdown",
   "metadata": {},
   "source": [
    "# Rastgele Orman "
   ]
  },
  {
   "cell_type": "markdown",
   "metadata": {},
   "source": [
    "Genel olarak Farklı karar ağaçlarının sonuçlarının ortalamasını alarak veya birleştirerek aşırı uyum sorununun üstesinden gelir. Rastgele ormanlar, çok çeşitli veri öğeleri için tek bir karar ağacından daha iyi çalışır."
   ]
  },
  {
   "cell_type": "markdown",
   "metadata": {},
   "source": [
    "#### Rastgele Orman algoritmasının çalışmasını aşağıdaki adımların yardımıyla anlayabiliriz -\n",
    "\n",
    "##### Step 1 - İlk olarak, belirli bir veri kümesinden rastgele örneklerin seçilmesiyle başlayın.\n",
    "\n",
    "##### Step 2- Daha sonra, bu algoritma her örnek için bir karar ağacı oluşturacaktır. Daha sonra her karar ağacından tahmin sonucunu alır.\n",
    "\n",
    "##### Step 3 - Bu adımda, tahmin edilen her sonuç için oylama yapılacaktır.\n",
    "\n",
    "##### Step 4 - Sonunda, nihai tahmin sonucu olarak en çok oylanan tahmin sonucunu seçin.\n",
    "\n",
    "Aşağıdaki şema çalışmasını gösterecektir -"
   ]
  },
  {
   "cell_type": "markdown",
   "metadata": {},
   "source": [
    "![image](https://github.com/ahmettsimsek/Makine-Ogrenmesi-Temelleri/assets/124433579/3abea590-2214-401a-943d-70e8a9bfbff6)"
   ]
  },
  {
   "cell_type": "markdown",
   "metadata": {},
   "source": [
    "----"
   ]
  },
  {
   "cell_type": "markdown",
   "metadata": {},
   "source": [
    "### Python'da Uygulama"
   ]
  },
  {
   "cell_type": "markdown",
   "metadata": {},
   "source": [
    "##### İlk olarak, gerekli Python paketlerini içe aktararak başlayın -"
   ]
  },
  {
   "cell_type": "code",
   "execution_count": null,
   "metadata": {},
   "outputs": [],
   "source": [
    "import numpy as np\n",
    "import matplotlib.pyplot as plt\n",
    "import pandas as pd"
   ]
  },
  {
   "cell_type": "markdown",
   "metadata": {},
   "source": [
    "##### Ardından, iris veri kümesini web bağlantısından aşağıdaki şekilde indirin -"
   ]
  },
  {
   "cell_type": "code",
   "execution_count": null,
   "metadata": {},
   "outputs": [],
   "source": [
    "path = \"https://archive.ics.uci.edu/ml/machine-learning-databases/iris/iris.data\""
   ]
  },
  {
   "cell_type": "markdown",
   "metadata": {},
   "source": [
    "##### Ardından, veri kümesine aşağıdaki gibi sütun adları atamamız gerekiyor -"
   ]
  },
  {
   "cell_type": "code",
   "execution_count": null,
   "metadata": {},
   "outputs": [],
   "source": [
    "headernames = ['sepal-length', 'sepal-width', 'petal-length', 'petal-width', 'Class']"
   ]
  },
  {
   "cell_type": "markdown",
   "metadata": {},
   "source": [
    "##### Şimdi, pandas veri çerçevesine aşağıdaki gibi veri setini okumamız gerekiyor -"
   ]
  },
  {
   "cell_type": "code",
   "execution_count": null,
   "metadata": {},
   "outputs": [],
   "source": [
    "dataset = pd.read_csv(path, names=headernames)\n",
    "dataset.head()"
   ]
  },
  {
   "cell_type": "markdown",
   "metadata": {},
   "source": [
    "##### epal uzunlukta\tsepal genişlik\tpetal uzunlukta\tpetal genişliği\tSınıf\n",
    "0\t5.1\t3.5\t1.4\t0.2\tIris-setosa\n",
    "\n",
    "1\t4.9\t3.0\t1.4\t0.2\tIris-setosa\n",
    "\n",
    "2\t4.7\t3.2\t1.3\t0.2\tIris-setosa\n",
    "\n",
    "3\t4.6\t3.1\t1.5\t0.2\tIris-setosa\n",
    "\n",
    "4\t5.0\t3.6\t1.4\t0.2\tIris-setosa\n",
    "\n",
    "Veri Ön İşleme aşağıdaki kod satırlarının yardımıyla yapılacaktır -"
   ]
  },
  {
   "cell_type": "code",
   "execution_count": null,
   "metadata": {},
   "outputs": [],
   "source": [
    "X = dataset.iloc[:, :-1].values\n",
    "y = dataset.iloc[:, 4].values"
   ]
  },
  {
   "cell_type": "markdown",
   "metadata": {},
   "source": [
    "##### Daha sonra, verileri tren ve test bölmesine ayıracağız. Aşağıdaki kod, veri kümesini% 70 eğitim verilerine ve test verilerinin% 30'una böler -"
   ]
  },
  {
   "cell_type": "code",
   "execution_count": null,
   "metadata": {},
   "outputs": [],
   "source": [
    "from sklearn.model_selection import train_test_split\n",
    "X_train, X_test, y_train, y_test = train_test_split(X, y, test_size=0.30)"
   ]
  },
  {
   "cell_type": "markdown",
   "metadata": {},
   "source": [
    "#####Ardından, modeli RandomForestClassifier sklearn sınıfının yardımıyla aşağıdaki gibi eğitin -"
   ]
  },
  {
   "cell_type": "code",
   "execution_count": null,
   "metadata": {},
   "outputs": [],
   "source": [
    "from sklearn.ensemble import RandomForestClassifier\n",
    "classifier = RandomForestClassifier(n_estimators=50)\n",
    "classifier.fit(X_train, y_train)"
   ]
  },
  {
   "cell_type": "markdown",
   "metadata": {},
   "source": [
    "##### Sonunda tahmin yapmamız gerekiyor. Aşağıdaki komut dosyası yardımıyla yapılabilir -"
   ]
  },
  {
   "cell_type": "code",
   "execution_count": null,
   "metadata": {},
   "outputs": [],
   "source": [
    "y_pred = classifier.predict(X_test)"
   ]
  },
  {
   "cell_type": "markdown",
   "metadata": {},
   "source": [
    "##### Ardından, sonuçları aşağıdaki gibi yazdırın -"
   ]
  },
  {
   "cell_type": "code",
   "execution_count": null,
   "metadata": {},
   "outputs": [],
   "source": [
    "from sklearn.metrics import classification_report, confusion_matrix, accuracy_score\n",
    "result = confusion_matrix(y_test, y_pred)\n",
    "print(\"Confusion Matrix:\")\n",
    "print(result)\n",
    "result1 = classification_report(y_test, y_pred)\n",
    "print(\"Classification Report:\",)\n",
    "print (result1)\n",
    "result2 = accuracy_score(y_test,y_pred)\n",
    "print(\"Accuracy:\",result2)"
   ]
  },
  {
   "cell_type": "markdown",
   "metadata": {},
   "source": [
    "#### Çıktı"
   ]
  },
  {
   "cell_type": "code",
   "execution_count": null,
   "metadata": {},
   "outputs": [],
   "source": [
    "Confusion Matrix:\n",
    "[\n",
    "   [14 0 0]\n",
    "   [ 0 18 1]\n",
    "   [ 0 0 12]\n",
    "]\n",
    "Classification Report:\n",
    "               precision       recall     f1-score       support\n",
    "Iris-setosa        1.00         1.00        1.00         14\n",
    "Iris-versicolor    1.00         0.95        0.97         19\n",
    "Iris-virginica     0.92         1.00        0.96         12\n",
    "micro avg          0.98         0.98        0.98         45\n",
    "macro avg          0.97         0.98        0.98         45\n",
    "weighted avg       0.98         0.98        0.98         45\n",
    "\n",
    "Accuracy: 0.9777777777777777"
   ]
  },
  {
   "cell_type": "markdown",
   "metadata": {},
   "source": [
    "---"
   ]
  },
  {
   "cell_type": "markdown",
   "metadata": {},
   "source": [
    "Rastgele Orman konusunda daha fazla detaya ulaşmak için, benim de örnek için Yararlandığım  sayfaya aşağıdaki linkten ulaşabilirsiniz:"
   ]
  },
  {
   "cell_type": "markdown",
   "metadata": {},
   "source": [
    "https://post.nghiatu.com/tr/tutorial/machine-learning-with-python/classification-algorithms-random-forest/siniflandirma-algoritmalari-rastgele-orman"
   ]
  }
 ],
 "metadata": {
  "kernelspec": {
   "display_name": "Python 3",
   "language": "python",
   "name": "python3"
  },
  "language_info": {
   "codemirror_mode": {
    "name": "ipython",
    "version": 3
   },
   "file_extension": ".py",
   "mimetype": "text/x-python",
   "name": "python",
   "nbconvert_exporter": "python",
   "pygments_lexer": "ipython3",
   "version": "3.11.2"
  }
 },
 "nbformat": 4,
 "nbformat_minor": 2
}
