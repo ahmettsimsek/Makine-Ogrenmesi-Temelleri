{
 "cells": [
  {
   "cell_type": "markdown",
   "metadata": {},
   "source": [
    "# Destek Vektör Makineleri(SVM)"
   ]
  },
  {
   "cell_type": "markdown",
   "metadata": {},
   "source": [
    "##### Destek Vektör Makinesi, farklı sınıfları ayırmak ve sınır marjını en üst düzeye çıkarmak için karar sınırlarını bulmaktan sorumludur. Farklı sınıfların sınırları arasındaki boşluklar, çizgi ile çizgiye en yakın noktalar arasındaki (dik) mesafelerdir. DVM’de sınıflar arasındaki sınırlar çok önemlidir.\n",
    "\n",
    "##### SVM, sınıflandırma için kullanılan denetimli algoritmalar sınıfında yer alır. 2 sınıf bir örnekle başlayalım: Verilen X1 ve X2 sınıfları için, 2 sınıfı en iyi, yani minimum hata ile ayıran karar sınırını bulmak istiyoruz. SVM bunu bir \"Hiperplane\" ile yapar. Şimdi bu hiperdüzlem 2 boyutlu veri olması durumunda tek bir doğru olabilir ve 3 boyutlu veri olması durumunda bir düzlem olabilir."
   ]
  },
  {
   "cell_type": "markdown",
   "metadata": {},
   "source": [
    "![Ekran görüntüsü 2024-05-18 045221](https://github.com/ahmettsimsek/Makine-Ogrenmesi-Temelleri/assets/124433579/78b9781a-cdf9-43df-9bdc-15d0497c50f3)\n"
   ]
  },
  {
   "cell_type": "markdown",
   "metadata": {},
   "source": [
    "##### Destek Vektör Makineleri, hiper düzleme en yakın noktalar olan 'Destek Vektörleri' kavramını kullanır. Yukarıdaki örnekte, kırmızı çizgi, 2 sınıfı (Mavi yıldızlar ve Kırmızı daireler) ayıran karar sınırımızı gösterir ve tireli çizgiler, her iki sınıfın Destek Vektörleri arasında istediğimiz boşluğu, 'Marj'ımızı temsil eder. Sınırlar Önemlidir.\n",
    "\n",
    "##### Marj, Destek Vektörlerinin (dolayısıyla adı) yardımıyla tanımlanır. Örneğimizde, Sarı yıldızlar ve Sarı daireler, Marjı tanımlayan Destek Vektörleridir. Boşluk ne kadar iyi olursa, sınıflandırıcı o kadar iyi çalışır. Bu nedenle destek vektörleri sınıflandırıcının geliştirilmesinde önemli bir rol oynamaktadır. Test verilerindeki her yeni veri noktası bu Marj'a göre sınıflandırılacaktır. Sağ tarafındaysa Kırmızı daire, aksi halde Mavi yıldız olarak sınıflandırılır.\n",
    "\n",
    "##### En iyi yanı, SVM'nin doğrusal olmayan verileri de sınıflandırabilmesidir."
   ]
  },
  {
   "cell_type": "markdown",
   "metadata": {},
   "source": [
    "![Ekran görüntüsü 2024-05-18 045409](https://github.com/ahmettsimsek/Makine-Ogrenmesi-Temelleri/assets/124433579/a0da2bca-dce6-4200-bb6a-501fbe818e49)"
   ]
  },
  {
   "cell_type": "markdown",
   "metadata": {},
   "source": [
    "##### Doğrusal olmayan veriler söz konusu olduğunda işler biraz zorlaşır. Burada SVM 'Çekirdek hilesi' kullanır, doğrusal olmayan verileri daha yüksek boyutlara eşlemek için bir çekirdek işlevi kullanır, böylece doğrusal hale gelir ve orada karar sınırını bulur. Bir Çekirdek işlevi, ister doğrusal ister doğrusal olmayan veri olsun, SVM tarafından her zaman kullanılır, ancak ana işlevi, veriler mevcut haliyle ayrılmaz olduğunda devreye girer. Burada, Çekirdek işlevi, sınıflandırma sorununa boyutlar ekler. Soruna bağlı olarak, farklı türde Çekirdek işlevleri kullanabilirsiniz:\n",
    " Doğrusal\n",
    "\n",
    " Polinom\n",
    "\n",
    " Radyal Temel Fonksiyonu\n",
    "\n",
    " Gauss\n",
    "\n",
    " Laplace\n",
    "\n",
    "… ve daha fazlası. Doğru çekirdek işlevini seçmek, sınıflandırıcıyı oluşturmak için önemlidir. "
   ]
  },
  {
   "cell_type": "markdown",
   "metadata": {},
   "source": [
    "---------"
   ]
  },
  {
   "cell_type": "markdown",
   "metadata": {},
   "source": [
    "#### Destek Vektör Makinesi algoritması oluşturulurken,\n",
    " Sınıflar arasındaki birbirine en yakın ikili seçilir. Bu noktalara destek vektörleri isimleri\n",
    "veriyoruz.\n",
    "\n",
    " Destek vektörlerinden geçecek şekilde doğrular çizilir. Bu doğrulara sınır çizgisi adı\n",
    "verilir.\n",
    "\n",
    " Her doğruya eşit uzakta çizilen doğruya karar doğrusu adı verilir. Karar doğrusuna\n",
    "hiper düzlem de denir."
   ]
  },
  {
   "cell_type": "markdown",
   "metadata": {},
   "source": [
    "![Ekran görüntüsü 2024-05-18 045628](https://github.com/ahmettsimsek/Makine-Ogrenmesi-Temelleri/assets/124433579/382a4ddf-43dc-4643-a810-eee0d9229f24)\n"
   ]
  },
  {
   "cell_type": "markdown",
   "metadata": {},
   "source": [
    " DVM’lerde sınıflar +1 ve -1 olarak etiketlenir. Karar doğrusunun üst kısmında kalan\n",
    "doğru denklemi, wx+b=1 , altında kalan doğru denklemi ise wx+b=-1 olarak belirlenir.\n",
    "Karar doğrusu denklemi ise, wx +b=0 olur."
   ]
  },
  {
   "cell_type": "markdown",
   "metadata": {},
   "source": [
    "![Ekran görüntüsü 2024-05-18 045707](https://github.com/ahmettsimsek/Makine-Ogrenmesi-Temelleri/assets/124433579/afba486c-bc56-4309-9934-0f82eb0ea312)\n",
    "\n"
   ]
  },
  {
   "cell_type": "markdown",
   "metadata": {},
   "source": [
    "#### Doğru hiper düzlemi belirleyin (Senaryo-1):\n",
    " Burada üç hiper düzlemimiz var (A, B ve C). Şimdi yıldızları ve daireleri sınıflandırmak için doğru hiperdüzlemi tanımlayın.\n",
    "\n"
   ]
  },
  {
   "cell_type": "markdown",
   "metadata": {},
   "source": [
    "\n",
    "![Ekran görüntüsü 2024-05-18 045756](https://github.com/ahmettsimsek/Makine-Ogrenmesi-Temelleri/assets/124433579/52a3407b-f7c4-461c-91d4-8c6e3ff80e08)\n"
   ]
  },
  {
   "cell_type": "markdown",
   "metadata": {},
   "source": [
    "##### Doğru hiper-düzlemi tanımlamak için bir başparmak kuralını hatırlamanız gerekir:\n",
    "iki sınıfı daha iyi ayıran hiper düzlem”. Bu senaryoda hiper düzlem “B” bu işi mükemmel bir şekilde yerine getirdi."
   ]
  },
  {
   "cell_type": "markdown",
   "metadata": {},
   "source": [
    "--------"
   ]
  },
  {
   "cell_type": "markdown",
   "metadata": {},
   "source": [
    "#### Doğru hiper-düzlemi belirleyin (Senaryo-2): \n",
    "\n",
    "Burada üç hiper-düzlemimiz var (A, B ve C) ve hepsi sınıfları iyi bir şekilde ayırıyor Şimdi, doğru hiper-düzlemi nasıl tanımlayabiliriz?"
   ]
  },
  {
   "cell_type": "markdown",
   "metadata": {},
   "source": [
    "![Ekran görüntüsü 2024-05-18 050050](https://github.com/ahmettsimsek/Makine-Ogrenmesi-Temelleri/assets/124433579/944bf724-c4b4-475d-8819-549b63b21fd2)\n"
   ]
  },
  {
   "cell_type": "markdown",
   "metadata": {},
   "source": [
    "Burada, en yakın veri noktası (her iki sınıf) ile hiper düzlem arasındaki mesafeleri maksimuma çıkarmak, doğru hiper düzleme karar vermemize yardımcı olacaktır. Bu mesafeye Margin adı verilir. Aşağıdaki anlık görüntüye bakalım:"
   ]
  },
  {
   "cell_type": "markdown",
   "metadata": {},
   "source": [
    "![image](https://github.com/ahmettsimsek/Makine-Ogrenmesi-Temelleri/assets/124433579/93b81052-6109-4dbf-afb7-1ae982ed2c41)"
   ]
  },
  {
   "cell_type": "markdown",
   "metadata": {},
   "source": [
    "Yukarıda, hiper-düzlem C için marjın hem A hem de B ile karşılaştırıldığında yüksek olduğunu görebilirsiniz.\n",
    "Bu nedenle doğru hiper-düzlemi C olarak adlandırıyoruz.\n",
    "Daha yüksek marjlı hiper düzlem sağlamlıktır. Düşük kenar boşluğuna sahip bir hiper düzlem seçersek\n",
    "o zaman yanlış sınıflandırma şansı yüksektir."
   ]
  },
  {
   "cell_type": "markdown",
   "metadata": {},
   "source": [
    "---"
   ]
  },
  {
   "cell_type": "markdown",
   "metadata": {},
   "source": [
    "#### Doğru hiper-düzlemi belirleyin (Senaryo-3):\n",
    "\n",
    "İpucu: Kuralları daha sonra tartışıldığı gibi kullanın. Doğru hiper düzlemi tanımlamak için önceki bölüm gibi."
   ]
  },
  {
   "cell_type": "markdown",
   "metadata": {},
   "source": [
    "![Ekran görüntüsü 2024-05-18 050322](https://github.com/ahmettsimsek/Makine-Ogrenmesi-Temelleri/assets/124433579/1ee1352f-d3a5-4dc8-b555-edd647903a60)\n"
   ]
  },
  {
   "cell_type": "markdown",
   "metadata": {},
   "source": [
    "Bazılarınız hiper-düzlem B'yi daha yüksek kenar boşluğuna sahip olduğu için seçmiş olabilirsiniz.\n",
    "A'ya. Ancak sorun şu ki, SVM sınıfları sınıflandıran hiper düzlemi seçiyor\n",
    "Marjı maksimuma çıkarmadan önce doğru bir şekilde. Burada hiperdüzlem B'nin bir sınıflandırma hatası vardır ve A\n",
    "hepsini doğru bir şekilde sınıflandırmıştır. Bu nedenle sağ hiperdüzlem A'dır."
   ]
  },
  {
   "cell_type": "markdown",
   "metadata": {},
   "source": [
    "--------"
   ]
  },
  {
   "cell_type": "markdown",
   "metadata": {},
   "source": [
    "#### İki sınıfı sınıflandırabilir miyiz (Senaryo-4)?:\n",
    "\n",
    "Aşağıda ikisini ayıramıyorum\n",
    "Yıldızlardan biri diğerinin (dairenin) bölgesinde yer aldığından düz bir çizgi kullanan sınıflar\n",
    "bir aykırı değer olarak sınıf."
   ]
  },
  {
   "cell_type": "markdown",
   "metadata": {},
   "source": [
    "![image](https://github.com/ahmettsimsek/Makine-Ogrenmesi-Temelleri/assets/124433579/664ad551-ac60-41a0-ab12-bebf5d056742)\n",
    "\n"
   ]
  },
  {
   "cell_type": "markdown",
   "metadata": {},
   "source": [
    "Daha önce de belirttiğim gibi, diğer uçtaki bir yıldız, yıldız sınıfı için aykırı değer gibidir. \n",
    "SVM algoritması aykırı değerleri göz ardı etme ve hiper düzlemi bulma özelliğine sahiptir.\n",
    "maksimum marj. Dolayısıyla SVM sınıflandırmasının aykırı değerlere karşı dayanıklı olduğunu söyleyebiliriz."
   ]
  },
  {
   "cell_type": "markdown",
   "metadata": {},
   "source": [
    "![image](https://github.com/ahmettsimsek/Makine-Ogrenmesi-Temelleri/assets/124433579/181c98bb-c915-46bb-a4b9-01f6d05c6398)"
   ]
  },
  {
   "cell_type": "markdown",
   "metadata": {},
   "source": [
    "-----"
   ]
  },
  {
   "cell_type": "markdown",
   "metadata": {},
   "source": [
    "#### Sınıflara ayrılacak hiper-düzlemi bulun (Senaryo-5):\n",
    "\n",
    " Aşağıdaki senaryoda,\n",
    "iki sınıf arasında doğrusal hiperdüzlem olamaz, peki SVM nasıl sınıflandırır?\n",
    "bu iki sınıf? Şu ana kadar sadece doğrusal hiperdüzlemi inceledik."
   ]
  },
  {
   "cell_type": "markdown",
   "metadata": {},
   "source": [
    "![image](https://github.com/ahmettsimsek/Makine-Ogrenmesi-Temelleri/assets/124433579/d834165e-3deb-41fc-990a-403165a5a2e8)"
   ]
  },
  {
   "cell_type": "markdown",
   "metadata": {},
   "source": [
    "SVM bu sorunu çözebilir. Kolayca! Ek özellikler sunarak bu sorunu çözer\n",
    "özellik. Burada yeni bir z=x^2+y^2 özelliği ekleyeceğiz. Şimdi veri noktalarını çizelim\n",
    "x ve z ekseninde:"
   ]
  },
  {
   "cell_type": "markdown",
   "metadata": {},
   "source": [
    "![image](https://github.com/ahmettsimsek/Makine-Ogrenmesi-Temelleri/assets/124433579/2f9d0085-56e7-4bc3-bc65-0e8256fc4f05)"
   ]
  },
  {
   "cell_type": "markdown",
   "metadata": {},
   "source": [
    "##### Yukarıdaki grafikte dikkate alınması gereken noktalar şunlardır:\n",
    "\n",
    "o z'nin tüm değerleri her zaman pozitif olacaktır çünkü z her ikisinin karesi toplamıdır x ve y\n",
    "\n",
    "o Orijinal grafikte x ve y eksenlerinin orijinlerine yakın kırmızı daireler görünüyor, z'nin ve yıldızın daha düşük değerinin orijin sonucundan nispeten uzakta olmasına yol açar z'nin daha yüksek değerine."
   ]
  },
  {
   "cell_type": "markdown",
   "metadata": {},
   "source": [
    "##### Son olarak, Orijinal girdi uzayında hiper düzleme baktığımızda bir daireye benzer"
   ]
  },
  {
   "cell_type": "markdown",
   "metadata": {},
   "source": [
    "![image](https://github.com/ahmettsimsek/Makine-Ogrenmesi-Temelleri/assets/124433579/95fa7de2-3a76-433b-b845-5f1e05154eca)"
   ]
  },
  {
   "cell_type": "markdown",
   "metadata": {},
   "source": [
    "------"
   ]
  },
  {
   "cell_type": "markdown",
   "metadata": {},
   "source": [
    "### Python'da SVM'yi Uygulama"
   ]
  },
  {
   "cell_type": "markdown",
   "metadata": {},
   "source": [
    "##### SVM'yi Python'da uygulamak için, aşağıdaki gibi standart kitaplık içe aktarmasıyla başlayacağız -"
   ]
  },
  {
   "cell_type": "code",
   "execution_count": null,
   "metadata": {},
   "outputs": [],
   "source": [
    "import numpy as np\n",
    "import matplotlib.pyplot as plt\n",
    "from scipy import stats\n",
    "import seaborn as sns; sns.set()"
   ]
  },
  {
   "cell_type": "markdown",
   "metadata": {},
   "source": [
    "##### Daha sonra, SVM kullanarak sınıflandırma için sklearn.dataset.sample_generator'dan doğrusal olarak ayrılabilir verilere sahip örnek bir veri kümesi oluşturuyoruz -"
   ]
  },
  {
   "cell_type": "code",
   "execution_count": null,
   "metadata": {},
   "outputs": [],
   "source": [
    "from sklearn.datasets.samples_generator import make_blobs\n",
    "X, y = make_blobs(n_samples=100, centers=2, random_state=0, cluster_std=0.50)\n",
    "plt.scatter(X[:, 0], X[:, 1], c=y, s=50, cmap='summer');"
   ]
  },
  {
   "cell_type": "markdown",
   "metadata": {},
   "source": [
    "##### Aşağıdakiler, 100 örnek ve 2 küme içeren örnek veri kümesi oluşturulduktan sonra çıktı olacaktır -\n",
    "\n"
   ]
  },
  {
   "cell_type": "markdown",
   "metadata": {},
   "source": [
    "![image](https://github.com/ahmettsimsek/Makine-Ogrenmesi-Temelleri/assets/124433579/dfd2cf48-6f4b-4164-aaa3-d24d88eb8759)"
   ]
  },
  {
   "cell_type": "markdown",
   "metadata": {},
   "source": [
    "##### SVM'nin ayrımcı sınıflandırmayı desteklediğini biliyoruz. iki boyut olması durumunda bir çizgi veya birden fazla boyut olması durumunda çok katlı bir çizgi bularak sınıfları birbirinden ayırır. Yukarıdaki veri kümesinde aşağıdaki şekilde uygulanır -"
   ]
  },
  {
   "cell_type": "code",
   "execution_count": null,
   "metadata": {},
   "outputs": [],
   "source": [
    "xfit = np.linspace(-1, 3.5)\n",
    "plt.scatter(X[:, 0], X[:, 1], c=y, s=50, cmap='summer')\n",
    "plt.plot([0.6], [2.1], 'x', color='black', markeredgewidth=4, markersize=12)\n",
    "for m, b in [(1, 0.65), (0.5, 1.6), (-0.2, 2.9)]:\n",
    "   plt.plot(xfit, m * xfit + b, '-k')\n",
    "plt.xlim(-1, 3.5);"
   ]
  },
  {
   "cell_type": "markdown",
   "metadata": {},
   "source": [
    "##### Çıktı aşağıdaki gibidir -"
   ]
  },
  {
   "cell_type": "markdown",
   "metadata": {},
   "source": [
    "\n",
    "![image](https://github.com/ahmettsimsek/Makine-Ogrenmesi-Temelleri/assets/124433579/74514385-132e-4b70-abfc-b8838fd9c402)"
   ]
  },
  {
   "cell_type": "markdown",
   "metadata": {},
   "source": [
    "##### Yukarıdaki çıktıdan, yukarıdaki örnekleri mükemmel şekilde ayırt eden üç farklı ayırıcı olduğunu görebiliriz. Tartışıldığı gibi, SVM'nin ana amacı, bir maksimum marjinal hiper düzlem (MMH) bulmak için veri setlerini sınıflara bölmektir, dolayısıyla sınıflar arasında sıfır çizgisi çizmek yerine, her çizginin etrafına en yakın noktaya kadar bir genişlikte bir kenar boşluğu çizebiliriz. Aşağıdaki gibi yapılabilir -"
   ]
  },
  {
   "cell_type": "code",
   "execution_count": null,
   "metadata": {},
   "outputs": [],
   "source": [
    "xfit = np.linspace(-1, 3.5)\n",
    "plt.scatter(X[:, 0], X[:, 1], c=y, s=50, cmap='summer')\n",
    "   for m, b, d in [(1, 0.65, 0.33), (0.5, 1.6, 0.55), (-0.2, 2.9, 0.2)]:\n",
    "   yfit = m * xfit + b\n",
    "   plt.plot(xfit, yfit, '-k')\n",
    "   plt.fill_between(xfit, yfit - d, yfit + d, edgecolor='none',\n",
    "         color='#AAAAAA', alpha=0.4)\n",
    "plt.xlim(-1, 3.5);"
   ]
  },
  {
   "cell_type": "markdown",
   "metadata": {},
   "source": [
    "![image](https://github.com/ahmettsimsek/Makine-Ogrenmesi-Temelleri/assets/124433579/b8fb485f-7070-4a4a-a722-520d46058c5a)"
   ]
  },
  {
   "cell_type": "markdown",
   "metadata": {},
   "source": [
    "##### Çıktıdaki yukarıdaki görüntüden, ayırt edici sınıflandırıcılar içindeki \"marjları\" kolayca gözlemleyebiliriz. SVM, marjı maksimize eden çizgiyi seçecektir. Daha sonra, bu veriler üzerinde bir SVM modeli eğitmek için Scikit-Learn'ün destek vektör sınıflandırıcısını kullanacağız. Burada, SVM'ye uyması için aşağıdaki gibi doğrusal çekirdek kullanıyoruz -"
   ]
  },
  {
   "cell_type": "code",
   "execution_count": null,
   "metadata": {},
   "outputs": [],
   "source": [
    "from sklearn.svm import SVC # \"Support vector classifier\"\n",
    "model = SVC(kernel='linear', C=1E10)\n",
    "model.fit(X, y)"
   ]
  },
  {
   "cell_type": "markdown",
   "metadata": {},
   "source": [
    "##### Çıktı aşağıdaki gibidir -"
   ]
  },
  {
   "cell_type": "code",
   "execution_count": null,
   "metadata": {},
   "outputs": [],
   "source": [
    "SVC(C=10000000000.0, cache_size=200, class_weight=None, coef0=0.0,\n",
    "decision_function_shape='ovr', degree=3, gamma='auto_deprecated',\n",
    "kernel='linear', max_iter=-1, probability=False, random_state=None,\n",
    "shrinking=True, tol=0.001, verbose=False)"
   ]
  },
  {
   "cell_type": "markdown",
   "metadata": {},
   "source": [
    "##### Şimdi, daha iyi bir anlayış için, aşağıdakiler 2D SVC için karar işlevlerini çizecektir -"
   ]
  },
  {
   "cell_type": "code",
   "execution_count": null,
   "metadata": {},
   "outputs": [],
   "source": [
    "def decision_function(model, ax=None, plot_support=True):\n",
    "   if ax is None:\n",
    "      ax = plt.gca()\n",
    "   xlim = ax.get_xlim()\n",
    "   ylim = ax.get_ylim()"
   ]
  },
  {
   "cell_type": "markdown",
   "metadata": {},
   "source": [
    "##### Modeli değerlendirmek için aşağıdaki gibi grid oluşturmamız gerekiyor -"
   ]
  },
  {
   "cell_type": "code",
   "execution_count": null,
   "metadata": {},
   "outputs": [],
   "source": [
    "x = np.linspace(xlim[0], xlim[1], 30)\n",
    "y = np.linspace(ylim[0], ylim[1], 30)\n",
    "Y, X = np.meshgrid(y, x)\n",
    "xy = np.vstack([X.ravel(), Y.ravel()]).T\n",
    "P = model.decision_function(xy).reshape(X.shape)"
   ]
  },
  {
   "cell_type": "markdown",
   "metadata": {},
   "source": [
    "##### Ardından, karar sınırlarını ve marjlarını aşağıdaki gibi çizmemiz gerekiyor -"
   ]
  },
  {
   "cell_type": "code",
   "execution_count": null,
   "metadata": {},
   "outputs": [],
   "source": [
    "ax.contour(X, Y, P, colors='k',\n",
    "   levels=[-1, 0, 1], alpha=0.5,\n",
    "   linestyles=['--', '-', '--'])"
   ]
  },
  {
   "cell_type": "markdown",
   "metadata": {},
   "source": [
    "##### Şimdi, benzer şekilde destek vektörlerini aşağıdaki gibi çizin -"
   ]
  },
  {
   "cell_type": "code",
   "execution_count": null,
   "metadata": {},
   "outputs": [],
   "source": [
    "if plot_support:\n",
    "   ax.scatter(model.support_vectors_[:, 0],\n",
    "      model.support_vectors_[:, 1],\n",
    "      s=300, linewidth=1, facecolors='none');\n",
    "ax.set_xlim(xlim)\n",
    "ax.set_ylim(ylim)"
   ]
  },
  {
   "cell_type": "markdown",
   "metadata": {},
   "source": [
    "##### Şimdi, modellerimizi aşağıdaki gibi uydurmak için bu işlevi kullanın -"
   ]
  },
  {
   "cell_type": "code",
   "execution_count": null,
   "metadata": {},
   "outputs": [],
   "source": [
    "plt.scatter(X[:, 0], X[:, 1], c=y, s=50, cmap='summer')\n",
    "decision_function(model);"
   ]
  },
  {
   "cell_type": "markdown",
   "metadata": {},
   "source": [
    "![image](https://github.com/ahmettsimsek/Makine-Ogrenmesi-Temelleri/assets/124433579/66c2af0a-05eb-4b70-818c-ec1ddc69d88f)"
   ]
  },
  {
   "cell_type": "markdown",
   "metadata": {},
   "source": [
    "##### Yukarıdaki çıktıdan, bir SVM sınıflandırıcısının verilere kenar boşluklarıyla, yani kesikli çizgilerle ve destek vektörleriyle, bu uyumun temel öğeleri, kesikli çizgiye dokunarak sığdığını gözlemleyebiliriz. Bu destek vektör noktaları, sınıflandırıcının support_vectors_ özniteliğinde aşağıdaki gibi saklanır -"
   ]
  },
  {
   "cell_type": "code",
   "execution_count": null,
   "metadata": {},
   "outputs": [],
   "source": [
    "model.support_vectors_"
   ]
  },
  {
   "cell_type": "markdown",
   "metadata": {},
   "source": [
    "##### Çıktı aşağıdaki gibidir -"
   ]
  },
  {
   "cell_type": "code",
   "execution_count": null,
   "metadata": {},
   "outputs": [],
   "source": [
    "array([[0.5323772 , 3.31338909],\n",
    "   [2.11114739, 3.57660449],\n",
    "   [1.46870582, 1.86947425]])"
   ]
  },
  {
   "cell_type": "markdown",
   "metadata": {},
   "source": [
    "--------"
   ]
  },
  {
   "cell_type": "markdown",
   "metadata": {},
   "source": [
    "Destek Vektör Makineleri(SVM) Bulma konusunda daha fazla detaya ulaşmak için, benim de örnek için Yararlandığım  sayfaya aşağıdaki linkten ulaşabilirsiniz:"
   ]
  },
  {
   "cell_type": "markdown",
   "metadata": {},
   "source": [
    "https://post.nghiatu.com/tr/tutorial/machine-learning-with-python/classification-algorithms-support-vector-machine/destek-vektor-makinesi-svm"
   ]
  }
 ],
 "metadata": {
  "kernelspec": {
   "display_name": "Python 3",
   "language": "python",
   "name": "python3"
  },
  "language_info": {
   "codemirror_mode": {
    "name": "ipython",
    "version": 3
   },
   "file_extension": ".py",
   "mimetype": "text/x-python",
   "name": "python",
   "nbconvert_exporter": "python",
   "pygments_lexer": "ipython3",
   "version": "3.11.2"
  }
 },
 "nbformat": 4,
 "nbformat_minor": 2
}
