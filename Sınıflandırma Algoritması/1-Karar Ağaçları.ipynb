{
 "cells": [
  {
   "cell_type": "markdown",
   "metadata": {},
   "source": [
    "# 1-Karar Ağaçları"
   ]
  },
  {
   "cell_type": "markdown",
   "metadata": {},
   "source": [
    "##### Karar ağacı algoritması, denetimli öğrenme kategorisine girer. Hem regresyon hem de sınıflandırma problemlerini çözmek için kullanılılar. Karar ağacı, her yaprak düğümün bir sınıf etiketine karşılık geldiği ve özniteliklerin ağacın iç düğümünde temsil edildiği sorunu çözmek için ağaç temsilini kullanır. Karar ağacını kullanarak herhangi bir boole fonksiyonunu ayrık öznitelikler üzerinde temsil edebiliriz."
   ]
  },
  {
   "cell_type": "markdown",
   "metadata": {},
   "source": [
    "##### Karar ağacı öğrenmesi, bir karar ağacını, bir öğeyle ilgili (dallarda temsil edilen) gözlemlerden öğenin hedef değeri (yapraklarda temsil edilen) ile ilgili sonuçlara gitmek için bir tahmin modeli olarak kullanır."
   ]
  },
  {
   "cell_type": "markdown",
   "metadata": {},
   "source": [
    "#### Karar ağaçları metotu, giriş verisinin bir algoritma yardımıyla gruplara bölünerek tüm elemanlarının aynı sınıf etiketine sahip olması için yapılan sınıflama işlemidir.\n",
    "\n",
    "##### Giriş verisinin bir kümeleme algoritması yardımıyla tekrar tekrar gruplara bölünmesine dayanır. Grubun tüm elemanları aynı sınıf etiketine sahip olana kadar kümeleme işlemi derinlemesine devam eder."
   ]
  },
  {
   "cell_type": "markdown",
   "metadata": {},
   "source": [
    "![Ekran görüntüsü 2024-05-17 074538](https://github.com/ahmettsimsek/Makine-Ogrenmesi-Temelleri/assets/124433579/da8f2a90-1282-4878-991e-55219404e72e)\n"
   ]
  },
  {
   "cell_type": "markdown",
   "metadata": {},
   "source": [
    "##### Karar ağacı kullanılırken yapılan bazı varsayımlar aşağıdadır:\n",
    " Başlangıçta, tüm eğitim seti kök olarak kabul edilir.\n",
    "\n",
    " Özellik değerlerinin kategorik olması tercih edilir. Değerler sürekli ise, model\n",
    "\n",
    "oluşturmadan önce ayrıklaştırılırlar.\n",
    "\n",
    " Öznitelik değerleri temelinde, kayıtlar özyinelemeli olarak dağıtılır.\n",
    "\n",
    " Öznitelikleri kök veya dahili düğüm olarak sıralamak için istatistiksel yöntemler\n",
    "kullanılır.\n"
   ]
  },
  {
   "cell_type": "markdown",
   "metadata": {},
   "source": [
    "-----------"
   ]
  },
  {
   "cell_type": "markdown",
   "metadata": {},
   "source": [
    "#### Karar Ağacı Algoritması:\n",
    "\n",
    "##### Karar ağaçları eğiticili öğrenme için çok yaygın bir yöntemdir. Algoritmanın adımları:\n",
    "1) T öğrenme kümesini oluşturulur.\n",
    "\n",
    "2) T kümesindeki örnekleri en iyi ayıran nitelikler belirlenir.\n",
    "\n",
    "3) Seçilen nitelik ile ağacın düğümleri oluşturulur ve herbir düğümde alt düğümler veya\n",
    "ağacın yapraklarını oluşturulur. Alt düğümlere ait alt veri kümesinin örneklerini\n",
    "belirlenir\n",
    "\n",
    "4) 3. adımda oluşturulan her alt veri kümesi için;\n",
    "-  Örneklerin hepsi aynı sınıfa aitse\n",
    "-  Örnekleri bölecek nitelik kalmamışsa\n",
    "-  Kalan niteliklerin değerini taşıyan örnek yoksa işlemi sonlandır. Diğer\n",
    "durumda alt veri kümesini ayırmak için 2. adımdan devam edilir"
   ]
  },
  {
   "cell_type": "markdown",
   "metadata": {},
   "source": [
    "![Ekran görüntüsü 2024-05-17 075050](https://github.com/ahmettsimsek/Makine-Ogrenmesi-Temelleri/assets/124433579/5fb3ecf0-cc45-44e1-ae33-6b5d04e2be74)\n"
   ]
  },
  {
   "cell_type": "markdown",
   "metadata": {},
   "source": [
    "----------"
   ]
  },
  {
   "cell_type": "markdown",
   "metadata": {},
   "source": [
    "#### Ezber (Overfitting: Aşırı Uyum):\n",
    "\n",
    "• Tüm makine öğrenmesi yöntemlerinde verinin ana hatlarının modellenmesi esas\n",
    "alındığı için öğrenme modelinde ezberden (overfitting) kaçınılmalıdır.\n",
    "\n",
    "• Tüm karar ağaçları önlem alınmazsa ezber yapar. Bu yüzden ağaç olusturulurken\n",
    "veya olusturulduktan sonra budama yapılmalıdır.\n",
    "\n",
    "#### Ağaç Budama:\n",
    "\n",
    "Budama, sınıflandırmaya katkısı olmayan bölümlerin karar ağacından çıkarılması islemidir.\n",
    "Bu sayede karar ağacı hem sade hem de anlaşılabilir hale gelir. İki çesit budama yöntemi\n",
    "vardır;\n",
    "\n",
    "- 1- Ön budama\n",
    "- 2- Sonradan budama\n",
    "##### Ön budama islemi;\n",
    "Ağaç oluşturulurken yapılır. Bölünen nitelikler, değerleri belli bir esik değerinin (hata toleransının) üstünde değilse o noktada ağaç bölümleme islemi durdurulur ve o an elde bulunan kümedeki baskın sınıf etiketi, yaprak olarak olusturulur.\n",
    "\n",
    "##### Sonradan Budama;\n",
    "Sonradan budama islemi ağaç olusturulduktan sonra devreye girer. Alt ağaçları silerek yaprak olusturma, alt ağaçları yükseltme, dal kesme seklinde yapılabilir."
   ]
  },
  {
   "cell_type": "markdown",
   "metadata": {},
   "source": [
    "##### Aşırı uyumu önlemek için ağacı büyütmeyi durdurabiliriz, ancak durdurma kriteri miyop olma eğilimindedir. "
   ]
  },
  {
   "cell_type": "markdown",
   "metadata": {},
   "source": [
    "##### Spesifik olarak, ana düğüm için ağırlıklı yanlış sınıflandırma oranının, sol ve sağ alt düğümlerin ağırlıklı yanlış sınıflandırma oranlarının toplamından daha büyük veya buna eşit olacaktır. Yeniden ikame hata oranını en aza indirirsek, her zaman daha büyük bir ağacı tercih edeceğimiz anlamına gelir. Aşırı uyuma karşı hiçbir savunma yoktur. Aşırı büyümüş ağaç er ya da geç budanacaktır. "
   ]
  },
  {
   "cell_type": "markdown",
   "metadata": {},
   "source": [
    "![Ekran görüntüsü 2024-05-17 075454](https://github.com/ahmettsimsek/Makine-Ogrenmesi-Temelleri/assets/124433579/0062257e-db6f-4e6b-94dc-c560ed0f8a93)\n"
   ]
  },
  {
   "cell_type": "markdown",
   "metadata": {},
   "source": [
    "Bölme işlemi entropi/bilgi kazancı ile yapılmaktadır."
   ]
  },
  {
   "cell_type": "markdown",
   "metadata": {},
   "source": [
    "![Ekran görüntüsü 2024-05-17 075528](https://github.com/ahmettsimsek/Makine-Ogrenmesi-Temelleri/assets/124433579/5472417c-d97c-4770-937a-537e14b945ec)\n"
   ]
  },
  {
   "cell_type": "markdown",
   "metadata": {},
   "source": [
    "------------"
   ]
  },
  {
   "cell_type": "markdown",
   "metadata": {},
   "source": [
    "##### Karar Ağacında en büyük zorluk, her seviyede kök düğüm için özniteliğin tanımlanmasıdır. Bu işlem öznitelik seçimi olarak bilinir. İki popüler öznitelik seçim ölçüsü bulunmaktadır:(ağacın bölünmesinin ne zaman duracağını belirlemek için)\n",
    "\n",
    "1) Bilgi Kazancı\n",
    "2) Gini İndeksi"
   ]
  },
  {
   "cell_type": "markdown",
   "metadata": {},
   "source": [
    "##### ID3 Algoritması:\n",
    "Sadece kategorik veri ile çalısan bir yöntemdir. Her iterasyonun ilk adımında veri örneklerine ait sınıf bilgilerini tasıyan vektörün entropisi belirlenir."
   ]
  },
  {
   "cell_type": "markdown",
   "metadata": {},
   "source": [
    "![Ekran görüntüsü 2024-05-17 075901](https://github.com/ahmettsimsek/Makine-Ogrenmesi-Temelleri/assets/124433579/8f6db819-fd49-44a7-b567-7cca6e4a0ab8)\n"
   ]
  },
  {
   "cell_type": "markdown",
   "metadata": {},
   "source": [
    "##### C4.5 Algoritması:\n",
    "\n",
    "ID3 algoritmasının nümerik özellik içeren veriye uygulanabilen seklidir. ID3’ten tek farkı\n",
    "nümerik özelliklerin kategorik hale getirilebilmesini sağlayan bir esikleme yöntemini\n",
    "içermesidir"
   ]
  },
  {
   "cell_type": "markdown",
   "metadata": {},
   "source": [
    "----------------------------"
   ]
  },
  {
   "cell_type": "markdown",
   "metadata": {},
   "source": [
    "Aşağıdaki örnekte, Karar Ağacı sınıflandırıcısını Pima Indian Diabetes üzerinde uygulayacağız -\n",
    "\n",
    "İlk olarak, gerekli python paketlerini içe aktararak başlayın -"
   ]
  },
  {
   "cell_type": "code",
   "execution_count": null,
   "metadata": {},
   "outputs": [],
   "source": [
    "import pandas as pd\n",
    "from sklearn.tree import DecisionTreeClassifier\n",
    "from sklearn.model_selection import train_test_split"
   ]
  },
  {
   "cell_type": "markdown",
   "metadata": {},
   "source": [
    "Ardından, iris veri kümesini web bağlantısından aşağıdaki şekilde indirin -"
   ]
  },
  {
   "cell_type": "code",
   "execution_count": null,
   "metadata": {},
   "outputs": [],
   "source": [
    "col_names = ['pregnant', 'glucose', 'bp', 'skin', 'insulin', 'bmi', 'pedigree', 'age', 'label']\n",
    "pima = pd.read_csv(r\"C:\\pima-indians-diabetes.csv\", header=None, names=col_names)\n",
    "pima.head()"
   ]
  },
  {
   "cell_type": "code",
   "execution_count": null,
   "metadata": {},
   "outputs": [],
   "source": [
    "pregnant    glucose  bp    skin  insulin  bmi   pedigree    age   label\n",
    "0       6         148      72    35     0       33.6    0.627     50      1\n",
    "1       1         85       66    29     0       26.6    0.351     31      0\n",
    "2       8         183      64     0     0       23.3    0.672     32      1\n",
    "3       1         89       66    23     94      28.1    0.167     21      0\n",
    "4       0         137      40    35     168     43.1    2.288     33      1"
   ]
  },
  {
   "cell_type": "markdown",
   "metadata": {},
   "source": [
    "Şimdi, veri kümesini özelliklere ve hedef değişkene aşağıdaki gibi bölün -"
   ]
  },
  {
   "cell_type": "code",
   "execution_count": null,
   "metadata": {},
   "outputs": [],
   "source": [
    "feature_cols = ['pregnant', 'insulin', 'bmi', 'age','glucose','bp','pedigree']\n",
    "X = pima[feature_cols] # Features\n",
    "y = pima.label # Target variable"
   ]
  },
  {
   "cell_type": "markdown",
   "metadata": {},
   "source": [
    "Daha sonra, verileri tren ve test bölmesine ayıracağız. Aşağıdaki kod, veri kümesini% 70 eğitim verilerine ve test verilerinin% 30'una böler -"
   ]
  },
  {
   "cell_type": "code",
   "execution_count": null,
   "metadata": {},
   "outputs": [],
   "source": [
    "X_train, X_test, y_train, y_test = train_test_split(X, y, test_size=0.3, random_state=1)"
   ]
  },
  {
   "cell_type": "markdown",
   "metadata": {},
   "source": [
    "Ardından, modeli DecisionTreeClassifier sklearn sınıfının yardımıyla aşağıdaki gibi eğitin -"
   ]
  },
  {
   "cell_type": "code",
   "execution_count": null,
   "metadata": {},
   "outputs": [],
   "source": [
    "clf = DecisionTreeClassifier()\n",
    "clf = clf.fit(X_train,y_train)"
   ]
  },
  {
   "cell_type": "markdown",
   "metadata": {},
   "source": [
    "Sonunda tahminde bulunmamız gerekiyor. Aşağıdaki komut dosyası yardımıyla yapılabilir -"
   ]
  },
  {
   "cell_type": "code",
   "execution_count": null,
   "metadata": {},
   "outputs": [],
   "source": [
    "y_pred = clf.predict(X_test)"
   ]
  },
  {
   "cell_type": "markdown",
   "metadata": {},
   "source": [
    "Ardından, doğruluk puanını, karışıklık matrisini ve sınıflandırma raporunu aşağıdaki gibi alabiliriz -"
   ]
  },
  {
   "cell_type": "code",
   "execution_count": null,
   "metadata": {},
   "outputs": [],
   "source": [
    "from sklearn.metrics import classification_report, confusion_matrix, accuracy_score\n",
    "result = confusion_matrix(y_test, y_pred)\n",
    "print(\"Confusion Matrix:\")\n",
    "print(result)\n",
    "result1 = classification_report(y_test, y_pred)\n",
    "print(\"Classification Report:\",)\n",
    "print (result1)\n",
    "result2 = accuracy_score(y_test,y_pred)\n",
    "print(\"Accuracy:\",result2)"
   ]
  },
  {
   "cell_type": "markdown",
   "metadata": {},
   "source": [
    "Çıktı"
   ]
  },
  {
   "cell_type": "code",
   "execution_count": null,
   "metadata": {},
   "outputs": [],
   "source": [
    "Confusion Matrix:\n",
    "[[116 30]\n",
    "[ 46 39]]\n",
    "Classification Report:\n",
    "            precision   recall   f1-score    support\n",
    "      0       0.72      0.79       0.75     146\n",
    "      1       0.57      0.46       0.51     85\n",
    "micro avg     0.67      0.67       0.67     231\n",
    "macro avg     0.64      0.63       0.63     231\n",
    "weighted avg  0.66      0.67       0.66     231\n",
    "\n",
    "Accuracy: 0.670995670995671"
   ]
  },
  {
   "cell_type": "markdown",
   "metadata": {},
   "source": [
    "----------------------"
   ]
  },
  {
   "cell_type": "markdown",
   "metadata": {},
   "source": [
    "#### Karar Ağacını Görselleştirme"
   ]
  },
  {
   "cell_type": "markdown",
   "metadata": {},
   "source": [
    "Yukarıdaki karar ağacı aşağıdaki kod yardımıyla görselleştirilebilir -"
   ]
  },
  {
   "cell_type": "code",
   "execution_count": null,
   "metadata": {},
   "outputs": [],
   "source": [
    "from sklearn.tree import export_graphviz\n",
    "from sklearn.externals.six import StringIO\n",
    "from IPython.display import Image\n",
    "import pydotplus\n",
    "\n",
    "dot_data = StringIO()\n",
    "export_graphviz(clf, out_file=dot_data,\n",
    "      filled=True, rounded=True,\n",
    "      special_characters=True,feature_names = feature_cols,class_names=['0','1'])\n",
    "graph = pydotplus.graph_from_dot_data(dot_data.getvalue())\n",
    "graph.write_png('Pima_diabetes_Tree.png')\n",
    "Image(graph.create_png())"
   ]
  },
  {
   "cell_type": "markdown",
   "metadata": {},
   "source": [
    "![Ekran görüntüsü 2024-05-17 080357](https://github.com/ahmettsimsek/Makine-Ogrenmesi-Temelleri/assets/124433579/53ccd595-3412-41ff-b7fe-f0f5f4626596)\n"
   ]
  }
 ],
 "metadata": {
  "kernelspec": {
   "display_name": "Python 3",
   "language": "python",
   "name": "python3"
  },
  "language_info": {
   "codemirror_mode": {
    "name": "ipython",
    "version": 3
   },
   "file_extension": ".py",
   "mimetype": "text/x-python",
   "name": "python",
   "nbconvert_exporter": "python",
   "pygments_lexer": "ipython3",
   "version": "3.11.2"
  }
 },
 "nbformat": 4,
 "nbformat_minor": 2
}
