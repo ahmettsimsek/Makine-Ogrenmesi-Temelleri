{
 "cells": [
  {
   "cell_type": "markdown",
   "metadata": {},
   "source": [
    "# Sınıflandırma Algoritması"
   ]
  },
  {
   "cell_type": "markdown",
   "metadata": {},
   "source": [
    "##### Bir Makine Öğrenimindeki bir sınıflandırıcı, ayrık veya sürekli özellik değerlerinin bir vektörünü giren ve tek bir ayrık değer olan sınıfı çıkaran bir sistemdir. Bir dizi öğenin sınıfını veya kategorisini tahmin etmek için sınıflandırma algoritmaları kullanılır."
   ]
  },
  {
   "cell_type": "markdown",
   "metadata": {},
   "source": [
    "##### Sınıflandırma algoritmaları bazıları aşağıda verilmiştir:\n",
    " K-En Yakın Komşu Algoritması (K-Nearest Neighbour Algorithm)\n",
    "\n",
    " Lojistik Regresyon (Logistic Regression)\n",
    "\n",
    " Destek Vektör Makineleri (Support Vector Machines)\n",
    "\n",
    " Karar Ağaçları (Decision Tree)\n",
    "\n",
    " Rasgele Orman Kümeleri (Random Forests)\n",
    "\n",
    " Yapay Sinir Ağları (Artifical Neural Networks)\n",
    "\n",
    " Naive Bay"
   ]
  }
 ],
 "metadata": {
  "kernelspec": {
   "display_name": "Python 3",
   "language": "python",
   "name": "python3"
  },
  "language_info": {
   "codemirror_mode": {
    "name": "ipython",
    "version": 3
   },
   "file_extension": ".py",
   "mimetype": "text/x-python",
   "name": "python",
   "nbconvert_exporter": "python",
   "pygments_lexer": "ipython3",
   "version": "3.11.2"
  }
 },
 "nbformat": 4,
 "nbformat_minor": 2
}
