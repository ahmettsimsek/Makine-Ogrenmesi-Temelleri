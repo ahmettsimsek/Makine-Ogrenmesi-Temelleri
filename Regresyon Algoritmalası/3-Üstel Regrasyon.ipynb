{
 "cells": [
  {
   "cell_type": "markdown",
   "metadata": {},
   "source": [
    "# Üstel Regrasyon"
   ]
  },
  {
   "cell_type": "markdown",
   "metadata": {},
   "source": [
    "##### Üstel regresyon, aşağıdaki durumları modellemek için kullanılabilecek bir regresyon türüdür:"
   ]
  },
  {
   "cell_type": "markdown",
   "metadata": {},
   "source": [
    "#### 1. Üstel Büyüme:\n",
    " Büyüme yavaş başlar, daha sonra hızlı ve sınırsız bir şekilde hızlanır."
   ]
  },
  {
   "cell_type": "markdown",
   "metadata": {},
   "source": [
    "![image](https://github.com/ahmettsimsek/Makine-Ogrenmesi-Temelleri/assets/124433579/f8a5f4c3-5cf8-44d0-b7dc-5a47577230b2)"
   ]
  },
  {
   "cell_type": "markdown",
   "metadata": {},
   "source": [
    "#### 2. Üstel bozunma: \n",
    "Bozunma hızla başlar ve sonra yavaşlayarak sıfıra yaklaşır."
   ]
  },
  {
   "cell_type": "markdown",
   "metadata": {},
   "source": [
    "![image](https://github.com/ahmettsimsek/Makine-Ogrenmesi-Temelleri/assets/124433579/706ed225-bd7c-4261-9e39-e52b3626769d)"
   ]
  },
  {
   "cell_type": "markdown",
   "metadata": {},
   "source": [
    "-------------------"
   ]
  },
  {
   "cell_type": "markdown",
   "metadata": {},
   "source": [
    "##### Üstel regresyon modelinin denklemi aşağıdaki formu alır:\n",
    "\n",
    "y = ab x\n",
    "\n",
    "Altın:\n",
    "\n",
    "y: yanıt değişkeni\n",
    "x: tahmin değişkeni\n",
    "a, b: x ve y arasındaki ilişkiyi tanımlayan regresyon katsayıları\n",
    "Aşağıdaki adım adım örnek, Python’da üstel regresyonun nasıl gerçekleştirileceğini gösterir."
   ]
  },
  {
   "cell_type": "markdown",
   "metadata": {},
   "source": [
    "----------"
   ]
  },
  {
   "cell_type": "markdown",
   "metadata": {},
   "source": [
    "### 1. Adım: Verileri oluşturun"
   ]
  },
  {
   "cell_type": "code",
   "execution_count": null,
   "metadata": {},
   "outputs": [],
   "source": [
    "import numpy as np\n",
    "\n",
    "x = np. arange (1, 21, 1)\n",
    "y = np. array ([1, 3, 5, 7, 9, 12, 15, 19, 23, 28,\n",
    "              33, 38, 44, 50, 56, 64, 73, 84, 97, 113])"
   ]
  },
  {
   "cell_type": "markdown",
   "metadata": {},
   "source": [
    "### 2. Adım: Verileri görselleştirin"
   ]
  },
  {
   "cell_type": "code",
   "execution_count": null,
   "metadata": {},
   "outputs": [],
   "source": [
    "import matplotlib. pyplot as plt\n",
    "\n",
    "plt. scatter (x,y)\n",
    "plt. show () "
   ]
  },
  {
   "cell_type": "markdown",
   "metadata": {},
   "source": [
    "![image](https://github.com/ahmettsimsek/Makine-Ogrenmesi-Temelleri/assets/124433579/7d4ed426-c1e0-411d-912f-029a2e1ad459)"
   ]
  },
  {
   "cell_type": "markdown",
   "metadata": {},
   "source": [
    "### Adım 3: Üstel regresyon modelini yerleştirin"
   ]
  },
  {
   "cell_type": "code",
   "execution_count": null,
   "metadata": {},
   "outputs": [],
   "source": [
    "#fit the model\n",
    "fit = np. polyfit (x, np. log (y), 1)\n",
    "\n",
    "#view the output of the model\n",
    "print(fit)\n",
    "\n",
    "[0.2041002 0.98165772]"
   ]
  },
  {
   "cell_type": "markdown",
   "metadata": {},
   "source": [
    "##### Sonuca göre uygun üstel regresyon denklemi aşağıdaki gibi yazılabilir:\n",
    "\n",
    "ln(y) = 0,9817 + 0,2041(x)\n",
    "\n",
    "##### Her iki tarafa da e uygulandığında denklemi aşağıdaki gibi yeniden yazabiliriz:\n",
    "\n",
    "y = 2,6689 * 1,2264x\n",
    "\n",
    "##### Bu denklemi, tahmin değişkeni x’in değerine dayanarak yanıt değişkeni y’yi tahmin etmek için kullanabiliriz. Örneğin, x = 12 ise y’nin 30,897 olacağını tahmin ederiz:\n",
    "\n",
    "y = 2,6689 * 1,2264 12 = 30,897"
   ]
  },
  {
   "cell_type": "markdown",
   "metadata": {},
   "source": [
    "----------"
   ]
  },
  {
   "cell_type": "markdown",
   "metadata": {},
   "source": [
    "Üstel Regrasyon konusunda daha fazla detaya ulaşmak için, benim de örnek için Yararlandığım  sayfaya aşağıdaki linkten ulaşabilirsiniz:"
   ]
  },
  {
   "cell_type": "markdown",
   "metadata": {},
   "source": [
    "https://statorials.org/tr/ustel-regresyon-pitonu/"
   ]
  }
 ],
 "metadata": {
  "kernelspec": {
   "display_name": "Python 3",
   "language": "python",
   "name": "python3"
  },
  "language_info": {
   "codemirror_mode": {
    "name": "ipython",
    "version": 3
   },
   "file_extension": ".py",
   "mimetype": "text/x-python",
   "name": "python",
   "nbconvert_exporter": "python",
   "pygments_lexer": "ipython3",
   "version": "3.11.2"
  }
 },
 "nbformat": 4,
 "nbformat_minor": 2
}
