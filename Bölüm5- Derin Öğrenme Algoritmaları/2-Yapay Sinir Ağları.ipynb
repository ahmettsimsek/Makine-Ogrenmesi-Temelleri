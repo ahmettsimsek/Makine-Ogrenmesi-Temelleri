{
 "cells": [
  {
   "cell_type": "markdown",
   "metadata": {},
   "source": [
    "# 2- Yapay Sinir Ağları\n"
   ]
  },
  {
   "cell_type": "markdown",
   "metadata": {},
   "source": [
    "##### İnsan beyni:\n",
    "\n",
    "İnsan beyninin nasıl çalıştığını daha yeni anlamaya başladık ; daha yolun başındayız. Akıllı\n",
    "makineler yapmanın bir yolu, insan beynini özellikle organizasyonel prensiplerini taklit\n",
    "etmeye çalışmaktır.\n",
    "\n",
    "Beyin son derece karmaşık, doğrusal olmayan ve paralel bir bilgisayardır ve yoğun şekilde bağlı 1011 nörondan oluşur (nöron başına ~ 104\n",
    "bağlantı). Bir nöron, silikon mantık geçidine(10-9sn) kıyasla çok daha yavaştır (10-3 sn), doğrudur, nöronlar arasındaki muazzam bağlantı, nispeten yavaş hızı oluşturur. Ancak, karmaşık algısal kararlara çok hızlı bir şekilde ulaşılır (birkaç yüz milisaniye içinde) 100 Adım kuralı: Bireysel nöronlar birkaç milisaniye içinde çalıştığından, hesaplamalar yaklaşık 100'den fazla seri adım içermez ve bir nörondan diğerine gönderilen bilgi çok\n",
    "küçüktür (birkaç bit)\n",
    "\n",
    "##### Plastisite:\n",
    "Beynin nöral yapısının bir kısmı doğumda bulunurken, diğer kısımları çevreye\n",
    "uyum sağlamak için özellikle yaşamın erken dönemlerinde öğrenme yoluyla geliştirilir (yeni\n",
    "girdiler). Biyolojik Nöronlarda, farklı dallanma yapılarına sahip çeşitli farklı nöronlar (motor\n",
    "nöron, merkez üstü çevresel olmayan görsel hücreler…) mevcuttur. Ağın bağlantıları ve tek\n",
    "tek sinapsların güçleri ağın işlevini oluşturur.\n"
   ]
  },
  {
   "cell_type": "markdown",
   "metadata": {},
   "source": [
    "#### Beyindeki Biyolojik Nöronlar:\n",
    "İnsan beyni yaklaşık 100 milyar nörondan oluşur.\n",
    "\n",
    "##### dendritler: hücrelere elektrik sinyalleri taşıyan sinir lifleri\n",
    "\n",
    "##### hücre gövdesi: girdilerinin doğrusal olmayan bir işlevini hesaplar.\n",
    "\n",
    "##### akson: elektrik sinyalini hücre gövdesinden diğer nöronlara taşıyan tek uzun lif. Nöronun aksonu, diğer birçok nöronun dendritlerine bağlıdır. Nöronlar, dendritlerden elektrik sinyalleri alır ve bunları aksona gönderir.\n",
    "\n",
    "##### sinaps: gücü hücreye girişi etkileyen kimyasal bir bağlantıyı düzenleyen, bir hücrenin aksonu ile diğerinin dendriti arasındaki temas noktası."
   ]
  },
  {
   "cell_type": "markdown",
   "metadata": {},
   "source": [
    "------------"
   ]
  },
  {
   "cell_type": "markdown",
   "metadata": {},
   "source": [
    "![image](https://github.com/ahmettsimsek/Makine-Ogrenmesi-Temelleri/assets/124433579/b7b32c40-f150-403b-8868-ee1c24e8e93a)"
   ]
  },
  {
   "cell_type": "markdown",
   "metadata": {},
   "source": [
    "#### Beyin ve Yapay Sinir Ağları:\n",
    "##### Benzerlikler:\n",
    "- Nöronlar, nöronlar arasındaki bağlantılar\n",
    "- Öğrenme = bağlantıların değişmesi, nöronların değişmesi değil\n",
    "- Büyük paralel işleme\n",
    "Ancak yapay sinir ağları çok daha basit:\n",
    "- nöron içindeki hesaplama büyük ölçüde basitleştirildi\n",
    "- ayrık zaman adımları\n",
    "- tipik olarak çok sayıda uyaran içeren bir tür denetimli öğrenim\n",
    "Bir sinir ağı, basit işlem birimlerinden (yapay nöronlar) oluşan büyük ölçüde paralel,\n",
    "dağıtılmış bir işlemcidir. Beyne iki açıdan benziyor:\n",
    "- Bilgi, ağ tarafından bir öğrenme süreci aracılığıyla çevresinden edinilir\n",
    "- Edinilen bilgiyi depolamak için nöronlar arasındaki sinaptik bağlantı güçleri kullanılır"
   ]
  },
  {
   "cell_type": "markdown",
   "metadata": {},
   "source": [
    "--------------"
   ]
  },
  {
   "cell_type": "markdown",
   "metadata": {},
   "source": [
    "##### Yapay sinir ağları (YSA) veya bağlantı sistemi, hayvan beyinlerini oluşturan biyolojik sinir ağlarından belirsiz bir şekilde esinlenen bilgisayar sistemleridir. Bu tür sistemler, genellikle herhangi bir göreve özgü kural ile programlanmadan, örnekleri dikkate alarak görevleri yerine getirmeyi \"öğrenir\"."
   ]
  },
  {
   "cell_type": "markdown",
   "metadata": {},
   "source": [
    "##### YSA, biyolojik bir beyindeki nöronları gevşek bir şekilde modelleyen \"yapay nöronlar\" adı verilen bağlı birimler veya düğümler koleksiyonuna dayanan bir modeldir. Her bağlantı, biyolojik bir beyindeki sinapslar gibi, bir yapay nörondan diğerine bilgi, bir \"sinyal\" iletebilir. Bir sinyal alan yapay bir nöron, onu işleyebilir ve daha sonra ona bağlı ek yapay nöronları işaret edebilir. Ortak YSA uygulamalarında, yapay nöronlar arasındaki bağlantıdaki sinyal gerçek bir sayıdır ve her bir yapay nöronun çıkışı, girdilerinin toplamının doğrusal olmayan bir fonksiyonu tarafından hesaplanır. Yapay nöronlar arasındaki bağlantılara \"kenarlar\" denir. Yapay nöronlar ve kenarlar tipik olarak öğrenme ilerledikçe ayarlanan bir ağırlığa sahiptir. Ağırlık, bir bağlantıdaki sinyalin gücünü arttırır veya azaltır. Yapay nöronlar, sadece toplam sinyal bu eşiği geçtiğinde sinyalin gönderileceği bir eşik değerine sahip olabilir. Tipik olarak, yapay nöronlar katmanlar halinde toplanır. Farklı katmanlar, girdilerinde farklı türde dönüşümler gerçekleştirebilir. Sinyaller, muhtemelen katmanları birden çok kez geçtikten sonra, ilk katmandan (giriş katmanı) son katmana (çıkış katmanı) gider"
   ]
  },
  {
   "cell_type": "markdown",
   "metadata": {},
   "source": [
    "##### YSA yaklaşımının asıl amacı, problemleri bir insan beyninde olduğu gibi çözmekti. Bununla birlikte, zamanla dikkat, belirli görevlerin yerine getirilmesine ve biyolojiden sapmalara yol açtı. Yapay sinir ağları, bilgisayar görme, konuşma tanıma, makine çevirisi, sosyal ağ filtreleme, oyun tahtası ve video oyunları ve tıbbi teşhis gibi çeşitli görevlerde kullanılmıştır."
   ]
  },
  {
   "cell_type": "markdown",
   "metadata": {},
   "source": [
    "##### Derin öğrenme yapay bir sinir ağında birden fazla gizli katmandan oluşur. Bu yaklaşım, insan beyninin ışığı ve sesi görme ve işitme biçimini modellemeye çalışır. Derin öğrenmenin bazı başarılı uygulamaları bilgisayarla görme ve konuşma tanımadır."
   ]
  },
  {
   "cell_type": "markdown",
   "metadata": {},
   "source": [
    "![image](https://github.com/ahmettsimsek/Makine-Ogrenmesi-Temelleri/assets/124433579/feb6c434-11d9-4034-9ad5-27bcc5842027)"
   ]
  },
  {
   "cell_type": "markdown",
   "metadata": {},
   "source": [
    "##### Yapay bir sinir ağı, bir beyindeki geniş nöron ağına benzer şekilde birbirine bağlı bir düğüm grubudur. Burada, her dairesel düğüm bir yapay nöronu temsil eder ve bir ok, bir yapay nöronun çıkışından diğerinin girişine bir bağlantıyı temsil eder."
   ]
  },
  {
   "cell_type": "markdown",
   "metadata": {},
   "source": [
    "![image](https://github.com/ahmettsimsek/Makine-Ogrenmesi-Temelleri/assets/124433579/7478c31b-6e90-40fc-8f45-ba482bd281bc)"
   ]
  },
  {
   "cell_type": "markdown",
   "metadata": {},
   "source": [
    "-------------"
   ]
  },
  {
   "cell_type": "markdown",
   "metadata": {},
   "source": [
    "#### Yapay Sinir Ağları (YSA) Unsurları:\n",
    "• İşleme öğesi (Processing element - PE)\n",
    "\n",
    "• Ağ Mimarisi\n",
    "\n",
    "- Gömülü Katmanlar\n",
    "\n",
    "-  Paralel İşlem\n",
    "\n",
    "• Ağ Bilgisi İşleme\n",
    "\n",
    "- Girişler\n",
    "\n",
    "- Çıkışlar\n",
    "\n",
    "- Bağlantı Ağırlıkları (Connection weights )\n",
    "\n",
    "- Toplama İşlevi (Summation function)"
   ]
  },
  {
   "cell_type": "markdown",
   "metadata": {},
   "source": [
    "![image](https://github.com/ahmettsimsek/Makine-Ogrenmesi-Temelleri/assets/124433579/9f7521bf-2bca-4e98-a0d3-1c66ecd2222c)"
   ]
  },
  {
   "cell_type": "markdown",
   "metadata": {},
   "source": [
    "-------"
   ]
  },
  {
   "cell_type": "markdown",
   "metadata": {},
   "source": [
    "#### Transformation (Transfer) Function:\n",
    "- Linear function\n",
    "\n",
    "- Sigmoid (logical activation) function [0 1]\n",
    "\n",
    "- Tangent Hyperbolic function [-1 1]"
   ]
  },
  {
   "cell_type": "markdown",
   "metadata": {},
   "source": [
    "![image](https://github.com/ahmettsimsek/Makine-Ogrenmesi-Temelleri/assets/124433579/1d7cd563-9c3e-45af-9a79-1b8ce281d84f)"
   ]
  },
  {
   "cell_type": "markdown",
   "metadata": {},
   "source": [
    "-----------"
   ]
  },
  {
   "cell_type": "markdown",
   "metadata": {},
   "source": [
    "### Farklı Ağ Topolojileri:"
   ]
  },
  {
   "cell_type": "markdown",
   "metadata": {},
   "source": [
    "#### 1- Tek katmanlı ileri beslemeli ağlar:\n",
    " Çıktı katmanına yansıyan girdi katmanı.\n"
   ]
  },
  {
   "cell_type": "markdown",
   "metadata": {},
   "source": [
    "![image](https://github.com/ahmettsimsek/Makine-Ogrenmesi-Temelleri/assets/124433579/64326b9f-3fa4-46c8-ad8d-7e84c30f27f9)"
   ]
  },
  {
   "cell_type": "markdown",
   "metadata": {},
   "source": [
    "#### 2-Çok katmanlı ileri beslemeli ağlar: \n",
    "Bir veya daha fazla gömülü katman. Girdi projeleri yalnızca önceki katmanlardan bir katmana yansıtılır. Tipik olarak, yalnızca bir katmandan diğerine bağlanırlar.\n"
   ]
  },
  {
   "cell_type": "markdown",
   "metadata": {},
   "source": [
    "![image](https://github.com/ahmettsimsek/Makine-Ogrenmesi-Temelleri/assets/124433579/9a4eafaf-b22c-4942-a936-109f29345c9b)"
   ]
  },
  {
   "cell_type": "markdown",
   "metadata": {},
   "source": [
    "#### 3- Tekrarlayan ağlar: \n",
    "Bazı girişlerinin bazı çıkışlarına (ayrık zaman) bağlı olduğu geri beslemeli bir ağ."
   ]
  },
  {
   "cell_type": "markdown",
   "metadata": {},
   "source": [
    "![image](https://github.com/ahmettsimsek/Makine-Ogrenmesi-Temelleri/assets/124433579/c01b9a12-9297-40d3-a568-48721b93e8f4)"
   ]
  },
  {
   "cell_type": "markdown",
   "metadata": {},
   "source": [
    "-----------"
   ]
  },
  {
   "cell_type": "markdown",
   "metadata": {},
   "source": [
    "### Aktivasyon fonksiyonları:\n"
   ]
  },
  {
   "cell_type": "markdown",
   "metadata": {},
   "source": [
    "![image](https://github.com/ahmettsimsek/Makine-Ogrenmesi-Temelleri/assets/124433579/6a0ee86b-9316-4da3-8cb2-e95f3508f27d)"
   ]
  },
  {
   "cell_type": "markdown",
   "metadata": {},
   "source": [
    "![image](https://github.com/ahmettsimsek/Makine-Ogrenmesi-Temelleri/assets/124433579/584f9e64-ecaa-4df0-8857-88d4b9cef893)"
   ]
  },
  {
   "cell_type": "markdown",
   "metadata": {},
   "source": [
    "![image](https://github.com/ahmettsimsek/Makine-Ogrenmesi-Temelleri/assets/124433579/07711040-9d32-4e23-96a8-4b2a4ec3d201)"
   ]
  },
  {
   "cell_type": "markdown",
   "metadata": {},
   "source": [
    "![image](https://github.com/ahmettsimsek/Makine-Ogrenmesi-Temelleri/assets/124433579/47eaa9b9-4f23-45b9-b70e-cf8c45606603)"
   ]
  },
  {
   "cell_type": "markdown",
   "metadata": {},
   "source": [
    "----"
   ]
  },
  {
   "cell_type": "markdown",
   "metadata": {},
   "source": [
    "### Python ile Yapay Sinir Ağı Oluşturma Adımları"
   ]
  },
  {
   "cell_type": "markdown",
   "metadata": {},
   "source": [
    "#### 1-Kullanılacak Kütüphanelerin İçe Aktarılması"
   ]
  },
  {
   "cell_type": "markdown",
   "metadata": {},
   "source": [
    "Bu örnekte, Keras kütüphanesi kullanılacaktır. Keras, kullanımı kolay bir arayüz sağlayarak, YSA modellerinin kolayca oluşturulmasını sağlar.\n",
    "\n",
    " "
   ]
  },
  {
   "cell_type": "code",
   "execution_count": null,
   "metadata": {},
   "outputs": [],
   "source": [
    "import numpy as np\n",
    "from keras.models import Sequential\n",
    "from keras.layers import Dense"
   ]
  },
  {
   "cell_type": "markdown",
   "metadata": {},
   "source": [
    "#### 2-Verilerin Hazırlanması"
   ]
  },
  {
   "cell_type": "markdown",
   "metadata": {},
   "source": [
    "Yapay sinir ağı modeli oluşturulmadan önce, kullanılacak verilerin hazırlanması gerekir. Bu adımda, veriler yüklenir ve modelin öğrenmesi için kullanılacak şekilde işlenir."
   ]
  },
  {
   "cell_type": "code",
   "execution_count": null,
   "metadata": {},
   "outputs": [],
   "source": [
    "23.4, 34.5, 45.6, 56.7, 67.8\n",
    "12.3, 43.2, 54.3, 76.5, 87.6\n",
    "54.3, 65.4, 76.5, 87.6, 98.7"
   ]
  },
  {
   "cell_type": "code",
   "execution_count": null,
   "metadata": {},
   "outputs": [],
   "source": [
    "# Veri setinin yüklenmesi\n",
    "dataset = np.loadtxt(\"veriler.txt\", delimiter=\",\")\n",
    "\n",
    "# Verilerin giriş ve çıkış özelliklerinin ayrılması\n",
    "X = dataset[:, 0:8]\n",
    "y = dataset[:, 8]"
   ]
  },
  {
   "cell_type": "markdown",
   "metadata": {},
   "source": [
    "#### 3-Modelin Oluşturulması"
   ]
  },
  {
   "cell_type": "markdown",
   "metadata": {},
   "source": [
    "Yapay sinir ağı modeli, Sequential sınıfı kullanılarak oluşturulur. Bu sınıf, YSA katmanlarının sırasını belirlemek için kullanılır."
   ]
  },
  {
   "cell_type": "code",
   "execution_count": null,
   "metadata": {},
   "outputs": [],
   "source": [
    "# Yapay sinir ağı modelinin oluşturulması\n",
    "model = Sequential()\n",
    "model.add(Dense(12, input_dim=8, activation='relu'))\n",
    "model.add(Dense(8, activation='relu'))\n",
    "model.add(Dense(1, activation='sigmoid'))"
   ]
  },
  {
   "cell_type": "markdown",
   "metadata": {},
   "source": [
    "Bu kod bloğunda, Dense sınıfı kullanılarak YSA katmanları tanımlanmıştır. İlk katman 12 nörona sahip, giriş özellikleri ise 8 adettir. İkinci katman 8 nörona sahip ve aktivasyon fonksiyonu relu olarak belirlenmiştir. Son katman ise 1 nörona sahip ve aktivasyon fonksiyonu sigmoid olarak belirlenmiştir.\n",
    "\n"
   ]
  },
  {
   "cell_type": "markdown",
   "metadata": {},
   "source": [
    "#### 4-Modelin Derlenmesi\n"
   ]
  },
  {
   "cell_type": "markdown",
   "metadata": {},
   "source": [
    "YSA modeli, derleme adımında öğrenme süreci için gerekli parametrelerin belirlenmesiyle hazırlanır."
   ]
  },
  {
   "cell_type": "code",
   "execution_count": null,
   "metadata": {},
   "outputs": [],
   "source": [
    "# Modelin derlenmesi\n",
    "model.compile(loss='binary_crossentropy', optimizer='adam', metrics=['accuracy'])"
   ]
  },
  {
   "cell_type": "markdown",
   "metadata": {},
   "source": [
    "Bu örnekte, binary_crossentropy kayıp fonksiyonu kullanılmıştır. Bu fonksiyon, ikili sınıflandırma için kullanılır. Ayrıca, adam optimizasyon algoritması kullanılmıştır. metrics parametresi, modelin performansını ölçmek için kullanılan ölçütleri belirler."
   ]
  },
  {
   "cell_type": "markdown",
   "metadata": {},
   "source": [
    "#### 5-Modelin Eğitilmesi"
   ]
  },
  {
   "cell_type": "markdown",
   "metadata": {},
   "source": [
    "Model, fit fonksiyonu kullanılarak eğitilir. Bu fonksiyon, girdi ve çıktı verileri ile birlikte, eğitim için kullanılacak toplam epoch (dönem) sayısı ve mini batch boyutu gibi parametreleri alır."
   ]
  },
  {
   "cell_type": "code",
   "execution_count": null,
   "metadata": {},
   "outputs": [],
   "source": [
    "# Modelin eğitilmesi\n",
    "model.fit(X, y, epochs=150, batch_size=10)"
   ]
  },
  {
   "cell_type": "markdown",
   "metadata": {},
   "source": [
    "#### 6-Modelin Değerlendirilmesi"
   ]
  },
  {
   "cell_type": "markdown",
   "metadata": {},
   "source": [
    "Modelin performansı, evaluate fonksiyonu kullanılarak değerlendirilir. Bu fonksiyon, girdi ve çıktı verileriyle birlikte, modelin kaybı (loss) ve doğruluk (accuracy) değerlerini döndürür.\n",
    "\n"
   ]
  },
  {
   "cell_type": "code",
   "execution_count": null,
   "metadata": {},
   "outputs": [],
   "source": [
    "# Modelin performansının değerlendirilmesi\n",
    "_, accuracy = model.evaluate(X, y)\n",
    "print('Accuracy: %.2f' % (accuracy*100))"
   ]
  },
  {
   "cell_type": "markdown",
   "metadata": {},
   "source": [
    "#### 7-Tahmin Yapılması"
   ]
  },
  {
   "cell_type": "markdown",
   "metadata": {},
   "source": [
    "Eğitilen model, predict fonksiyonu kullanılarak yeni verilerle tahmin yapmak için kullanılabilir."
   ]
  },
  {
   "cell_type": "code",
   "execution_count": null,
   "metadata": {},
   "outputs": [],
   "source": [
    "# Yeni verilerle tahmin yapılması\n",
    "predictions = model.predict(X)"
   ]
  },
  {
   "cell_type": "markdown",
   "metadata": {},
   "source": [
    "Bu örnekte, predict fonksiyonu, girdi verileriyle birlikte kullanılmıştır. Fonksiyon, her bir girdi için bir tahmin değeri döndürür."
   ]
  },
  {
   "cell_type": "markdown",
   "metadata": {},
   "source": [
    "#### Sonuç"
   ]
  },
  {
   "cell_type": "markdown",
   "metadata": {},
   "source": [
    "Python kullanarak yapay sinir ağı oluşturmak oldukça kolaydır. Bu adımları izleyerek YSA modelinizi oluşturabilir, eğitebilir ve tahmin yapabilirsiniz. Yapay sinir ağları, birçok uygulama alanında kullanılabileceğinden, bu konu hakkında detaylı bilgi sahibi olmak, kariyeriniz için önemli bir adım olabilir."
   ]
  },
  {
   "cell_type": "markdown",
   "metadata": {},
   "source": [
    "------------"
   ]
  },
  {
   "cell_type": "markdown",
   "metadata": {},
   "source": [
    "Yapay Sinir Ağları algoritması konusunda daha fazla detaya ulaşmak için, benim de örnek için Yararlandığım  sayfaya aşağıdaki linkten ulaşabilirsiniz:"
   ]
  },
  {
   "cell_type": "markdown",
   "metadata": {},
   "source": [
    "https://www.codingtxt.com/blog/detail/python-ile-yapay-sinir-aglari-olusturma-ve-egitme-adim-adim-rehber-51bcaa08-29c4-4c"
   ]
  }
 ],
 "metadata": {
  "kernelspec": {
   "display_name": "Python 3",
   "language": "python",
   "name": "python3"
  },
  "language_info": {
   "codemirror_mode": {
    "name": "ipython",
    "version": 3
   },
   "file_extension": ".py",
   "mimetype": "text/x-python",
   "name": "python",
   "nbconvert_exporter": "python",
   "pygments_lexer": "ipython3",
   "version": "3.11.2"
  }
 },
 "nbformat": 4,
 "nbformat_minor": 2
}
