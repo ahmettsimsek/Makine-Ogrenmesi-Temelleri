{
 "cells": [
  {
   "cell_type": "markdown",
   "metadata": {},
   "source": [
    "# Derin Öğrenme Algoritmaları"
   ]
  },
  {
   "cell_type": "markdown",
   "metadata": {},
   "source": [
    "Derin öğrenme (aynı zamanda derin yapılandırılmış öğrenme, hiyerarşik öğrenme ya da\n",
    "derin makine öğrenmesi) bir veya daha fazla gizli katman içeren yapay sinir ağları ve benzeri\n",
    "makine öğrenme algoritmalarını kapsayan çalışma alanıdır. Yani en az bir adet yapay sinir\n",
    "ağının (YSA) kullanıldığı ve birçok algoritma ile, bilgisayarın eldeki verilerden yeni veriler elde\n",
    "etmesidir. Derin öğrenme gözetimli, yarı gözetimli veya gözetimsiz olarak gerçekleştirilebilir.\n",
    "Derin yapay sinir ağları pekiştirmeli öğrenme yaklaşımıyla da başarılı sonuçlar vermiştir.\n",
    "Derin öğrenme, Yüksek bilgi işleme gücü ve büyük veri kümeleriyle birlikte katmanlı yapay\n",
    "sinir ağlarının güçlü matematiksel modelleri oluşturabildiği bir makine öğrenimi alt\n",
    "kümesidir."
   ]
  },
  {
   "cell_type": "markdown",
   "metadata": {},
   "source": [
    "##### Verinin yapısına göre hangi parametrelere ne ağırlık verileceğini kendisi keşfetmektedir. "
   ]
  },
  {
   "cell_type": "markdown",
   "metadata": {},
   "source": [
    "Modern derin öğrenme modellerinin çoğu, yapay sinir ağlarına, özellikle de Konvolüsyonel\n",
    "Sinir Ağlarına (CNN - Convolutional Neural Networks) dayanmaktadır, ancak aynı zamanda\n",
    "derin düşünce ağları ve derin düğümler gibi derin üretken modellerde katmansal olarak\n",
    "düzenlenmiş öneri formülleri veya gizli değişkenleri de içerebilirler. Yapay sinir ağları (YSA)\n",
    "biyolojik sistemlerde bilgi işleme ve dağıtılmış iletişim düğümlerinden esinlenmiştir. YSA'ların\n",
    "biyolojik beyinlerden çeşitli farklılıkları vardır. Özellikle, sinir ağları statik ve sembolik olma\n",
    "eğilimindeyken, çoğu canlı organizmanın biyolojik beyni dinamik (plastik) ve analogdur.\n",
    "\n",
    "Derin öğrenme, her seviye girdi verilerini biraz daha soyut ve bileşik bir temsile\n",
    "dönüştürmeyi öğrenir. Bir görüntü tanıma uygulamasında, ham girdi bir piksel matrisi\n",
    "olabilir; birinci temsili katman pikselleri soyutlayabilir ve kenarları kodlayabilir; ikinci katman\n",
    "kenar düzenlemelerini oluşturabilir ve kodlayabilir; üçüncü katman bir burnu ve gözleri\n",
    "kodlayabilir; ve dördüncü katman görüntünün bir yüz içerdiğini tanıyabilir. Daha da önemlisi,\n",
    "derin bir öğrenme süreci hangi özelliklerin hangi seviyeye en uygun şekilde yerleştirileceğini\n",
    "öğrenebilir. Elbette bu, elle ayarlama ihtiyacını tamamen ortadan kaldırmaz; örneğin,\n",
    "değişen sayıda katman ve katman boyutu farklı derecelerde soyutlama sağlayabilir.\n",
    "\n",
    "Derin öğrenme, Yapay Zekada (AI) Makine Öğreniminin bir alt kümesidir. Bir yapay zeka,\n",
    "verileri işlemek, kalıplar oluşturmak ve kararlar almak için insan beynini taklit ettiğinde, bu\n",
    "Derin Öğrenmedir. Ham girdiden aşamalı olarak üst düzey özellikleri çıkarmak için birden çok\n",
    "katman kullanır. \"Derin öğrenmedeki\" \"derin\" kelimesi, verilerin dönüştürüldüğü katman\n",
    "sayısını ifade eder. Bu sayede yapılandırılmamış ve etiketsiz verilerden örüntüler öğrenmek\n",
    "mümkündür. Derin öğrenme algoritması, deneyimlerden nasıl öğrendiğimize benzer şekilde,\n",
    "her seferinde sonucunu iyileştiren bir görevi tekrar tekrar gerçekleştirir.\n",
    "\n",
    "Arama motorlarında, sosyal medyada, e-ticaret platformlarında her saniye yaratılan\n",
    "muazzam miktarda veri, derin öğrenmeyi büyük bir potansiyele dönüştürdü. Buna ek olarak,\n",
    "bugün mevcut olan güçlü bilgi işlem gücü, derin öğrenmede kullanılan algoritmalar üzerinde\n",
    "büyük bir etki yarattı. Dahası, kendi kendine giden arabalar, AlphaGo, sesli asistanlar gibi\n",
    "yapay zekadaki atılımlar, derin öğrenme sayesinde mümkün.\n",
    "\n",
    "Derin öğrenmede, her seviye girdi verilerini biraz daha soyut ve bileşik bir temsile\n",
    "dönüştürmeyi öğrenir. Bir görüntü tanıma uygulamasında, ham girdi bir piksel matrisi\n",
    "olabilir; birinci temsil katmanı pikselleri soyutlayabilir ve kenarları kodlayabilir; ikinci\n",
    "katman, kenar düzenlemelerini oluşturabilir ve kodlayabilir; üçüncü katman bir burnu ve\n",
    "gözleri kodlayabilir; ve dördüncü katman, görüntünün bir yüz içerdiğini fark edebilir. Daha\n",
    "da önemlisi, derin öğrenme süreci hangi özelliklerin hangi seviyeye en uygun şekilde\n",
    "yerleştirileceğini kendi başına öğrenebilir. (Elbette bu, elle ayarlama ihtiyacını tamamen\n",
    "ortadan kaldırmaz; örneğin, değişen sayıda katman ve katman boyutu, farklı soyutlama\n",
    "dereceleri sağlayabilir.)"
   ]
  },
  {
   "cell_type": "markdown",
   "metadata": {},
   "source": [
    "![image](https://github.com/ahmettsimsek/Makine-Ogrenmesi-Temelleri/assets/124433579/aef8f846-b6fc-4f0f-a38a-0b9bb91dd1c0)"
   ]
  },
  {
   "cell_type": "markdown",
   "metadata": {},
   "source": [
    "-------------"
   ]
  },
  {
   "cell_type": "markdown",
   "metadata": {},
   "source": [
    "### Derin Öğrenme Algoritmaları:\n",
    "- Gözetimli öğrenme \n",
    "\n",
    "- Kümeleme\n",
    "\n",
    "- Boyut indirgeme\n",
    "\n",
    "- Yapılandırılmış tahmin\n",
    "\n",
    "- Anomali tespiti\n",
    "\n",
    "- Sinir ağları\n",
    "\n",
    "- Pekiştirmeli öğrenme"
   ]
  }
 ],
 "metadata": {
  "kernelspec": {
   "display_name": "Python 3",
   "language": "python",
   "name": "python3"
  },
  "language_info": {
   "codemirror_mode": {
    "name": "ipython",
    "version": 3
   },
   "file_extension": ".py",
   "mimetype": "text/x-python",
   "name": "python",
   "nbconvert_exporter": "python",
   "pygments_lexer": "ipython3",
   "version": "3.11.2"
  }
 },
 "nbformat": 4,
 "nbformat_minor": 2
}
