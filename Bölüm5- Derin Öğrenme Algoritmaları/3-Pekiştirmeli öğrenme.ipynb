{
 "cells": [
  {
   "cell_type": "markdown",
   "metadata": {},
   "source": [
    "# 3-Pekiştirmeli öğrenme\n"
   ]
  },
  {
   "cell_type": "markdown",
   "metadata": {},
   "source": [
    "Pekiştirmeli öğrenme, davranışçılıktan esinlenen, öznelerin bir ortamda en yüksek ödül\n",
    "miktarına ulaşabilmesi için hangi eylemleri yapması gerektiğiyle ilgilenen bir makine\n",
    "öğrenmesi yaklaşımıdır. Bu problem, genelliğinden ötürü oyun kuramı, kontrol kuramı,\n",
    "yöneylem araştırması, bilgi kuramı, benzetim tabanlı eniyileme ve istatistik gibi birçok diğer\n",
    "dalda da çalışılmaktadır.\n",
    "\n",
    "Makine öğrenmesinde, ortam genellikle bir Markov karar süreci (MKS) olarak modellenir, bu\n",
    "bağlamda birçok pekiştirmeli öğrenme algoritması dinamik programlama tekniklerini\n",
    "kullanır. Pekiştirmeli öğrenme algoritmalarının klasik tekniklerden farkı, MKS hakkında ön\n",
    "bilgiye ihtiyaç duymamaları ve kesin yöntemlerin verimsiz kaldığı büyük MKS'ler için\n",
    "kullanılmalarıdır.\n",
    "\n",
    "Pekiştirmeli öğrenme, doğru girdi/çıktı eşleşmelerinin verilmemesi ve optimal olmayan\n",
    "eylemlerin dışarıdan düzeltilmemesi yönleriyle gözetimli öğrenmeden ayrışır. Dahası,\n",
    "pekiştirmeli öğrenmede bilinmeyen uzayda keşif (İngilizce: exploration) ile mevcut bilgiden\n",
    "istifade (İngilizce: exploitation) arasında bir denge kurma söz konusudur."
   ]
  },
  {
   "cell_type": "markdown",
   "metadata": {},
   "source": [
    "##### Derin Öğrenmede Kullanılan Algoritmalar, İşte en popüler 10 derin öğrenme algoritmasının listesi:\n",
    "1. Evrişimsel Sinir Ağları (CNN'ler)\n",
    "2. Uzun Kısa Süreli Bellek Ağları (LSTM'ler)\n",
    "3. Tekrarlayan Sinir Ağları (RNN'ler)\n",
    "4. Üretken Rekabet Ağları (GAN'lar)\n",
    "5. Radyal Temel Fonksiyon Ağları (RBFN'ler)\n",
    "6. Çok Katmanlı Algılayıcılar (MLP'ler)\n",
    "7. Kendi Kendini Düzenleyen Haritalar (SOM'lar)\n",
    "8. Derin İnanç Ağları (DBN'ler)\n",
    "9. Kısıtlı Boltzmann Makineleri (RBM'ler)\n",
    "10. Otomatik kodlayıcılar\n",
    "\n",
    "Derin öğrenme algoritmaları hemen hemen her türlü veriyle çalışır ve büyük miktarda veri gerektirir. Karmaşık sorunları çözmek için bilgi işlem gücü ve bilgi. Şimdi derinlemesine En iyi 10 derin öğrenme algoritmasını inceleyelim\n"
   ]
  },
  {
   "cell_type": "markdown",
   "metadata": {},
   "source": [
    "--------"
   ]
  },
  {
   "cell_type": "markdown",
   "metadata": {},
   "source": [
    "### 1. Evrişimsel Sinir Ağları (CNN'ler)"
   ]
  },
  {
   "cell_type": "markdown",
   "metadata": {},
   "source": [
    "#### CNN'ler verilerden özellikler işleyen ve çıkaran birden fazla katmana sahiptir:\n",
    "\n",
    "##### Evrişim Katmanı\n",
    "- CNN, evrişimi gerçekleştirmek için çeşitli filtrelere sahip bir evrişim katmanına sahiptir.\n",
    "operasyon.\n",
    "##### Düzeltilmiş Doğrusal Birim (ReLU)\n",
    "- CNN'ler, öğeler üzerinde işlemler gerçekleştirmek için bir ReLU katmanına sahiptir. Çıktı düzeltilmiş\n",
    "özellik haritası.\n",
    "##### Havuzlama Katmanı\n",
    "- Düzeltilen özellik haritası daha sonra bir havuz katmanına beslenir. Havuzlama bir alt örneklemedir\n",
    "özellik haritasının boyutlarını azaltan işlem.\n",
    "\n",
    "- Havuzlama katmanı daha sonra elde edilen iki boyutlu dizileri\n",
    "havuzlanmış özellik haritasını düzleştirerek tek, uzun, sürekli, doğrusal bir vektöre dönüştürebilirsiniz.\n",
    "##### Tamamen Bağlı Katman\n",
    "- Havuzlama katmanından düzleştirilmiş matris beslendiğinde tamamen bağlı bir katman oluşur\n",
    "görüntüleri sınıflandıran ve tanımlayan bir girdi olarak. Aşağıda CNN aracılığıyla işlenmiş bir görüntünün örneği bulunmaktadır."
   ]
  },
  {
   "cell_type": "markdown",
   "metadata": {},
   "source": [
    "![image](https://github.com/ahmettsimsek/Makine-Ogrenmesi-Temelleri/assets/124433579/2d81972f-2cbb-4c53-ae8e-0418de91ce73)"
   ]
  },
  {
   "cell_type": "markdown",
   "metadata": {},
   "source": [
    "-------"
   ]
  },
  {
   "cell_type": "markdown",
   "metadata": {},
   "source": [
    "### 2. Uzun Kısa Süreli Bellek Ağları (LSTM'ler)"
   ]
  },
  {
   "cell_type": "markdown",
   "metadata": {},
   "source": [
    "LSTM'ler, uzun vadeli bağımlılıkları öğrenebilen ve ezberleyebilen bir tür Tekrarlayan Sinir Ağıdır (RNN). Geçmişteki bilgilerin uzun süre hatırlanması varsayılan davranıştır.\n",
    "\n",
    "LSTM'ler bilgileri zaman içinde korur. Zaman serisi tahmininde faydalıdırlar çünkü önceki girişleri hatırlayın. LSTM'ler etkileşimli dört katmanın bulunduğu zincir benzeri bir yapıya sahiptir. benzersiz bir şekilde iletişim kurun. Zaman serisi tahminlerinin yanı sıra, LSTM'ler genellikle aşağıdaki amaçlar için kullanılır: konuşma tanıma, müzik kompozisyonu ve farmasötik geliştirme.\n",
    "\n",
    "##### LSTM'ler Nasıl Çalışır?\n",
    "- Öncelikle önceki durumun ilgisiz kısımlarını unuturlar\n",
    "\n",
    "- Daha sonra hücre durumu değerlerini seçici olarak güncellerler.\n",
    "\n",
    "- Son olarak hücre durumunun belirli bölümlerinin çıktısı\n",
    "\n",
    "Aşağıda LSTM'lerin nasıl çalıştığını gösteren bir şema bulunmaktadır:"
   ]
  },
  {
   "cell_type": "markdown",
   "metadata": {},
   "source": [
    "![image](https://github.com/ahmettsimsek/Makine-Ogrenmesi-Temelleri/assets/124433579/25a2825e-a767-480f-ab3a-a77e9f7dc51b)"
   ]
  },
  {
   "cell_type": "markdown",
   "metadata": {},
   "source": [
    "-----"
   ]
  },
  {
   "cell_type": "markdown",
   "metadata": {},
   "source": [
    "### 3. Tekrarlayan Sinir Ağları (RNN'ler)\n"
   ]
  },
  {
   "cell_type": "markdown",
   "metadata": {},
   "source": [
    "RNN'ler, LSTM'den gelen çıktıların birbirine bağlanmasını sağlayan yönlendirilmiş döngüler oluşturan bağlantılara sahiptir. mevcut faza girdi olarak beslenecektir. LSTM'den gelen çıktı, mevcut fazın girdisi haline gelir ve hafızaya alınabilir. Dahili belleği nedeniyle önceki girişler. RNN'ler genellikle görsellere altyazı eklemek için kullanılır. zaman serisi analizi, doğal dil işleme, el yazısı tanıma ve makine tercüme.\n",
    "\n",
    "Açılmamış bir RNN şuna benzer:"
   ]
  },
  {
   "cell_type": "markdown",
   "metadata": {},
   "source": [
    "![image](https://github.com/ahmettsimsek/Makine-Ogrenmesi-Temelleri/assets/124433579/0ea36948-32fb-4ab7-ab71-3a2184ba3f65)"
   ]
  },
  {
   "cell_type": "markdown",
   "metadata": {},
   "source": [
    "#### RNN'ler nasıl çalışır?\n",
    "- t-1 anındaki çıktı, t anındaki girdiye beslenir.\n",
    "\n",
    "- Benzer şekilde, t zamanındaki çıktı, t+1 zamanındaki girdiye beslenir.\n",
    "\n",
    "- RNN'ler herhangi bir uzunluktaki girdileri işleyebilir.\n",
    "\n",
    "- Hesaplama geçmiş bilgileri hesaba katar ve model boyutu dikkate alınmaz. Giriş boyutuyla birlikte artar.\n",
    "\n",
    "Google'ın otomatik tamamlama özelliğinin nasıl çalıştığına dair bir örnek:"
   ]
  },
  {
   "cell_type": "markdown",
   "metadata": {},
   "source": [
    "![image](https://github.com/ahmettsimsek/Makine-Ogrenmesi-Temelleri/assets/124433579/e62090cb-0cee-4400-9f36-1690e9d308bc)"
   ]
  },
  {
   "cell_type": "markdown",
   "metadata": {},
   "source": [
    "-----"
   ]
  },
  {
   "cell_type": "markdown",
   "metadata": {},
   "source": [
    "### 4. Üretken Rekabet Ağları (GAN'lar)"
   ]
  },
  {
   "cell_type": "markdown",
   "metadata": {},
   "source": [
    "GAN'lar, benzer yeni veri örnekleri oluşturan üretken derin öğrenme algoritmalarıdır.\n",
    "eğitim verileri. GAN'ın iki bileşeni vardır: sahte ürünler üretmeyi öğrenen bir jeneratör\n",
    "veriler ve bu yanlış bilgilerden öğrenen bir ayırıcı.\n",
    "\n",
    "GAN'ların kullanımı bir süre içinde arttı. İyileştirmek için kullanılabilirler\n",
    "astronomik görüntüler ve karanlık madde araştırmaları için yerçekimsel merceklemeyi simüle edin. Video\n",
    "oyun geliştiricileri eski video oyunlarındaki düşük çözünürlüklü, 2 boyutlu dokuları yükseltmek için GAN'ları kullanıyor.\n",
    "görüntü eğitimi yoluyla bunları 4K veya daha yüksek çözünürlüklerde yeniden oluşturmak.\n",
    "\n",
    "#### GAN'lar nasıl çalışır?\n",
    "- Ayırıcı, jeneratörün sahte verileri ile sahte veriler arasında ayrım yapmayı öğrenir.\n",
    "gerçek örnek veriler.\n",
    "\n",
    "- Başlangıç eğitimi sırasında jeneratör sahte veriler üretir ve ayrıştırıcı bunun yanlış olduğunu söylemeyi çabuk öğrenir.\n",
    "\n",
    "- GAN, sonuçları güncellemek için jeneratöre ve ayırıcıya gönderir.\n",
    "\n",
    "Aşağıda GAN'ların nasıl çalıştığını gösteren bir şema bulunmaktadır:"
   ]
  },
  {
   "cell_type": "markdown",
   "metadata": {},
   "source": [
    "![image](https://github.com/ahmettsimsek/Makine-Ogrenmesi-Temelleri/assets/124433579/d3898095-6b84-4a47-a999-45a871578387)"
   ]
  },
  {
   "cell_type": "markdown",
   "metadata": {},
   "source": [
    "------"
   ]
  },
  {
   "cell_type": "markdown",
   "metadata": {},
   "source": [
    "### 5. Radyal Temel Fonksiyon Ağları (RBFN'ler)\n",
    "\n",
    "RBFN'ler, radyal temel işlevleri kullanan ileri beslemeli sinir ağlarının özel türleridir.\n",
    "\n",
    "#### RBFN'ler Nasıl Çalışır?\n",
    "- RBFN'ler, girdinin örneklere olan benzerliğini ölçerek sınıflandırma gerçekleştirir.\n",
    "\n",
    "- RBFN'ler, giriş katmanını besleyen bir giriş vektörüne sahiptir. Bir RBF katmanı var\n",
    "\n",
    "- Fonksiyon, girdilerin ağırlıklı toplamını bulur ve çıktı katmanında bir tane bulunur. kategori veya veri sınıfı başına göre düğüm.\n",
    "\n",
    "- Gizli katmandaki nöronlar Gauss transfer fonksiyonlarını içerir. Çıktılar nöronun merkezine olan uzaklıkla ters orantılıdır.\n",
    "\n",
    "- Ağın çıkışı, girişin radyal tabanlı fonksiyonlarının doğrusal bir birleşimidir\n",
    "\n",
    "Bu RBFN örneğine bakalım:"
   ]
  },
  {
   "cell_type": "markdown",
   "metadata": {},
   "source": [
    "![image](https://github.com/ahmettsimsek/Makine-Ogrenmesi-Temelleri/assets/124433579/159121cf-be1a-48da-8644-b860975399a7)"
   ]
  },
  {
   "cell_type": "markdown",
   "metadata": {},
   "source": [
    "------------"
   ]
  },
  {
   "cell_type": "markdown",
   "metadata": {},
   "source": [
    "### 6. Çok Katmanlı Algılayıcılar (MLP'ler)\n",
    "\n",
    "MLP'ler derin öğrenme teknolojisini öğrenmeye başlamak için mükemmel bir yerdir.\n",
    "\n",
    "MLP'ler, çoklu katmanlara sahip ileri beslemeli sinir ağları sınıfına aittir.\n",
    "\n",
    "Aktivasyon fonksiyonlarına sahip algılayıcılar. MLP'ler bir giriş katmanı ve bir çıkış katmanından oluşur. Aynı sayıda giriş ve çıkış katmanına sahiptirler ancak birden fazla gizli katmana sahip olabilir ve konuşma tanıma, görüntü tanıma ve makine çevirisi yazılımı oluşturmak için kullanılabilir.\n",
    "\n",
    "#### MLP'ler Nasıl Çalışır?\n",
    "- MLP'ler verileri ağın giriş katmanına besler. Nöron katmanları birbirine bağlanır ve bir grafikte sinyalin tek yönde geçmesini sağlar.\n",
    "\n",
    "- MLP'ler girdiyi, girdi katmanı ile girdi katmanı arasındaki ağırlıklarla hesaplar.\n",
    "\n",
    "- MLP'ler hangi düğümlerin ateşleneceğini belirlemek için etkinleştirme işlevlerini kullanır. Aktivasyon fonksiyonları ReLU'ları, sigmoid fonksiyonlarını ve tanh'ı içerir.\n",
    "\n",
    "- MLP'ler modeli korelasyonu anlamak ve bağımlılıkları öğrenmek için eğitir\n",
    "\n",
    "Aşağıda bir MLP örneği verilmiştir. Diyagram ağırlıkları ve sapmayı hesaplar ve uygulanırkedi ve köpek görsellerini sınıflandırmak için uygun aktivasyon fonksiyonu gösterilmiştir."
   ]
  },
  {
   "cell_type": "markdown",
   "metadata": {},
   "source": [
    "![image](https://github.com/ahmettsimsek/Makine-Ogrenmesi-Temelleri/assets/124433579/af690da6-2bf8-4fc5-baf8-2cc23f3edd91)"
   ]
  },
  {
   "cell_type": "markdown",
   "metadata": {},
   "source": [
    "------"
   ]
  },
  {
   "cell_type": "markdown",
   "metadata": {},
   "source": [
    "### 7. Kendi Kendini Düzenleyen Haritalar (SOM'lar)\n",
    "\n",
    "Profesör Teuvo Kohonen, veri görselleştirmeyi mümkün kılan SOM'ları icat etti. Kendi kendini organize eden yapay sinir ağları aracılığıyla verilerin, Veri görselleştirme, insanların yüksek boyutlu verileri kolayca görselleştirememesi sorununu çözmeye çalışır. SOM'lar, kullanıcıların bu yüksek boyutlu durumu anlamalarına yardımcı olmak için oluşturulmuştur.\n",
    "\n",
    "#### SOM'lar Nasıl Çalışır?\n",
    "- SOM'lar her düğüm için ağırlıkları başlatır ve bunlardan rastgele bir vektör seçer.\n",
    "\n",
    "- SOM'lar hangi ağırlıkların en olası girdi vektörü olduğunu bulmak için her düğümü inceler. Kazanan düğüme En İyi Eşleşen Birim (BMU) adı verilir.\n",
    "\n",
    "- SOM'lar BMU'nun mahallesini keşfeder ve komşuların sayısı azalır\n",
    "\n",
    "- SOM'lar örnek vektöre kazanan bir ağırlık verir. Bir düğüm BMU'ya ne kadar yakınsa, ağırlığı değiştikçe..\n",
    "\n",
    "- Komşu BMU'dan ne kadar uzaksa o kadar az öğrenir. SOM'lar ikinci adımı tekrarlıyor N yineleme için.\n",
    "\n",
    "Aşağıda farklı renklerdeki bir giriş vektörünün diyagramına bakın. Bu veriler bir SOM'a beslenir ve daha sonra verileri 2D RGB değerlerine dönüştürür. Son olarak renkleri farklı olanları ayırır ve sınıflandırır.\n"
   ]
  },
  {
   "cell_type": "markdown",
   "metadata": {},
   "source": [
    "![image](https://github.com/ahmettsimsek/Makine-Ogrenmesi-Temelleri/assets/124433579/137e9217-2425-4511-8cb6-710eba79437c)"
   ]
  },
  {
   "cell_type": "markdown",
   "metadata": {},
   "source": [
    "----"
   ]
  },
  {
   "cell_type": "markdown",
   "metadata": {},
   "source": [
    "### 8. Derin İnanç Ağları (DBN'ler)\n",
    "\n",
    "DBN'ler birden fazla stokastik, gizli değişken katmanından oluşan üretken modellerdir. Gizli değişkenler ikili değerlere sahiptir ve genellikle gizli birimler olarak adlandırılır.\n",
    "\n",
    "DBN'ler, katmanlar arasındaki bağlantılara sahip bir Boltzmann Makineleri yığınıdır ve her biri RBM katmanı hem önceki hem de sonraki katmanlarla iletişim kurar. Derin İnanç Ağlar (DBN'ler) görüntü tanıma, video tanıma ve hareket yakalama için kullanılır.\n",
    "\n",
    "#### DBN'ler Nasıl Çalışır?\n",
    "- Açgözlü öğrenme algoritmaları DBN'leri eğitir. Açgözlü öğrenme algoritması yukarıdan aşağıya, üretken ağırlıkları öğrenmek için katman katman bir yaklaşım kullanır.\n",
    "\n",
    "- DBN'ler, Gibbs örneklemesinin adımlarını en üstteki iki gizli katmanda çalıştırır. Bu aşama çizilir üstteki iki gizli katman tarafından tanımlanan RBM'den bir örnek.\n",
    "\n",
    "- DBN'ler, tek bir ata örnekleme geçişini kullanarak görünür birimlerden bir örnek alır, modelin geri kalanı boyunca.\n",
    "\n",
    "- DBN'ler, her katmandaki gizli değişkenlerin değerlerini aşağıdan yukarıya geçiş.\n",
    "\n",
    "Aşağıda DBN mimarisinin bir örneği verilmiştir:"
   ]
  },
  {
   "cell_type": "markdown",
   "metadata": {},
   "source": [
    "![image](https://github.com/ahmettsimsek/Makine-Ogrenmesi-Temelleri/assets/124433579/8f248f78-8271-46f0-bff5-ef3b611e7b0b)"
   ]
  },
  {
   "cell_type": "markdown",
   "metadata": {},
   "source": [
    "--------"
   ]
  },
  {
   "cell_type": "markdown",
   "metadata": {},
   "source": [
    "### 9. Kısıtlı Boltzmann Makineleri (RBM'ler)\n",
    "\n",
    "Geoffrey Hinton tarafından geliştirilen RBM'ler, bir veriden öğrenebilen stokastik sinir ağlarıdır. Bir dizi girdi üzerinde olasılık dağılımı. Bu derin öğrenme algoritması boyut azaltma, sınıflandırma, regresyon için kullanılır. işbirlikçi filtreleme, özellik öğrenme ve konu modelleme. \n",
    "\n",
    "RBM'ler binayı oluşturur\n",
    "\n",
    "DBN blokları.\n",
    "\n",
    "#### RBM'ler iki katmandan oluşur:\n",
    " Görünür birimler\n",
    "\n",
    " Gizli birimler\n",
    "\n",
    "Görünen her birim, tüm gizli birimlere bağlıdır. RBM'ler, bağlı bir öngerilim birimine sahiptir. tüm görünür birimler ve gizli birimler vardır ve bunların çıkış düğümleri yoktur.\n",
    "\n",
    "#### RBM'ler Nasıl Çalışır?\n",
    "RBM'lerin iki aşaması vardır: ileri pas ve geri pas.\n",
    "\n",
    "- RBM'ler girdileri kabul eder ve bunları, kodu kodlayan bir dizi sayıya çevirir.\n",
    "\n",
    "- RBM'ler her girdiyi bireysel ağırlık ve genel bir önyargı ile birleştirir. Algoritma çıktıyı gizli katmana iletir.\n",
    "\n",
    "- Geriye doğru geçişte, RBM'ler bu sayı kümesini alır ve bunları yeniden yapılandırılmış girdiler\n",
    "\n",
    "- RBM'ler her aktivasyonu bireysel ağırlık ve genel önyargı ile birleştirir ve yeniden yapılandırma için görünür katmana çıktı.\n",
    "\n",
    "- Görünür katmanda RBM, yeniden yapılanmayı orijinal girdiyle karşılaştırır.\n",
    "\n",
    "Aşağıda RBM'lerin nasıl çalıştığını gösteren bir şema bulunmaktadır:"
   ]
  },
  {
   "cell_type": "markdown",
   "metadata": {},
   "source": [
    "![image](https://github.com/ahmettsimsek/Makine-Ogrenmesi-Temelleri/assets/124433579/5776bc0e-9f94-4088-8eb1-bfedfd2ba87d)"
   ]
  },
  {
   "cell_type": "markdown",
   "metadata": {},
   "source": [
    "------------"
   ]
  },
  {
   "cell_type": "markdown",
   "metadata": {},
   "source": [
    "### 10. Otomatik kodlayıcılar\n",
    "\n",
    "Otomatik kodlayıcılar, giriş ve çıkışların gerçekleştiği özel bir ileri beslemeli sinir ağı türüdür.  Geoffrey Hinton 1980'lerde bu sorunları çözmek için otomatik kodlayıcılar tasarladı. denetimsiz öğrenme sorunları Verileri kopyalayan eğitimli sinir ağlarıdır. Giriş katmanından çıkış katmanına doğrudur.\n",
    "\n",
    "#### Otomatik kodlayıcılar aşağıdaki amaçlarla kullanılır:\n",
    "farmasötik keşif, popülerlik tahmini ve görüntü işleme.\n",
    "\n",
    "#### Otomatik Kodlayıcılar Nasıl Çalışır?\n",
    "Bir otomatik kodlayıcı üç ana bileşenden oluşur: kodlayıcı, kod ve kod çözücü.\n",
    "\n",
    "- Otomatik kodlayıcılar bir girdiyi alıp onu farklı bir girdiye dönüştürecek şekilde yapılandırılmıştır. Daha sonra orijinal girdiyi olabildiğince doğru bir şekilde yeniden oluşturmaya çalışırlar.\n",
    "\n",
    "- Bir rakamın görüntüsü açıkça görülemediğinde, otomatik kodlayıcı sinir sistemine beslenir.\n",
    "\n",
    "- Otomatik kodlayıcılar önce görüntüyü kodlar, ardından girişin boyutunu küçültür.\n",
    "\n",
    "- Son olarak, otomatik kodlayıcı, yeniden yapılandırılmış görüntüyü oluşturmak için görüntünün kodunu çözer.\n",
    "\n",
    "Aşağıdaki resimde otomatik kodlayıcıların nasıl çalıştığı gösterilmektedir:"
   ]
  },
  {
   "cell_type": "markdown",
   "metadata": {},
   "source": [
    "![image](https://github.com/ahmettsimsek/Makine-Ogrenmesi-Temelleri/assets/124433579/f50b3550-a0a0-4a4a-bf71-6ab5393f6dac)"
   ]
  }
 ],
 "metadata": {
  "kernelspec": {
   "display_name": "Python 3",
   "language": "python",
   "name": "python3"
  },
  "language_info": {
   "codemirror_mode": {
    "name": "ipython",
    "version": 3
   },
   "file_extension": ".py",
   "mimetype": "text/x-python",
   "name": "python",
   "nbconvert_exporter": "python",
   "pygments_lexer": "ipython3",
   "version": "3.11.2"
  }
 },
 "nbformat": 4,
 "nbformat_minor": 2
}
