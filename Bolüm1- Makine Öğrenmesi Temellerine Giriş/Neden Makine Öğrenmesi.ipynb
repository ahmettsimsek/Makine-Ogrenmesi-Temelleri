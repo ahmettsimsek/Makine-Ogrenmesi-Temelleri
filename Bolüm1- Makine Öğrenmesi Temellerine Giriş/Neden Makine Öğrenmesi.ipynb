{
 "cells": [
  {
   "cell_type": "markdown",
   "metadata": {},
   "source": [
    "# NEDEN MAKİNE ÖĞRENMESİ?"
   ]
  },
  {
   "cell_type": "markdown",
   "metadata": {},
   "source": [
    " - Makine öğrenimi: Örnek verileri veya geçmiş deneyimleri kullanarak bir performans kriterini\n",
    "optimize etmek için bilgisayarları programlamaktır. İyi olasılıklı modeller oluşturarak bir veri\n",
    "kütlesinden faydalı bilgilerin otomatik olarak çıkarılması. Genel bir teorinin olmadığı\n",
    "durumlarda çok fazla veriye sahip alanlar için idealdir."
   ]
  },
  {
   "cell_type": "markdown",
   "metadata": {},
   "source": [
    "- Makine Öğrenimi çalışması: Deneyimle bazı görevlerde performanslarını artıran\n",
    "algoritmaların geliştirilmesidir. Bir çıkarım süreci, model uydurma veya örneklerden\n",
    "öğrenme yoluyla, verilerden teoriyi otomatik olarak öğrenmek.\n",
    " 1) Örnekler dışında bazı görevler iyi tanımlanamaz (örneğin yüzlerin veya insanların\n",
    "tanınması).\n",
    "  2) Büyük miktarda verinin gizli ilişkileri ve korelasyonları(büyük verilerde hangileri önemli öne getirir) olabilir. Bunları yalnızca\n",
    "otomatik yaklaşımlar tespit edebilir.\n",
    " 3) Belirli bir sorun / görev hakkındaki bilgi miktarı, insanlar tarafından açık kodlama için\n",
    "çok büyük olabilir (örneğin, tıbbi teşhislerde)\n",
    " 4) Ortamlar zamanla değişir ve sürekli olarak yeni bilgiler keşfedilir. Sistemlerin \"elle\"\n",
    "sürekli olarak yeniden tasarlanması zor olabilir.\n"
   ]
  },
  {
   "cell_type": "markdown",
   "metadata": {},
   "source": [
    "Makine öğreniminin yaptığı şey, verileri farklı algoritmalarla işlemektir ve bize bunun bir kedi mi yoksa köpek mi\n",
    "olduğunu belirlemede hangi özelliğin daha önemli ve etkin olduğunu söyler. O halde\n",
    "sonuca etkisi fazla olan paremetrelerin belirlenmesi çok daha önemsenmelidir."
   ]
  },
  {
   "cell_type": "markdown",
   "metadata": {},
   "source": [
    "-----------------------------------------------------------------------------------------------------------------------------------------------------------"
   ]
  },
  {
   "cell_type": "markdown",
   "metadata": {},
   "source": [
    "# BÜYÜK VERİ"
   ]
  },
  {
   "cell_type": "markdown",
   "metadata": {},
   "source": [
    "Yapay zekâ teknolojisinin altında büyük veri (big data) yatıyor. Verinin gerçek zamanlı işlenebilmesi, bu datanın farklı kanallardan gelmesi, kendi kendine öğrenen teknolojilere sahip uygun ürünlere ulaşabilmesini sağlamak önemlidir. Artık kural bazlı statik teknolojiler yetmiyor. Yapay zekâyı bu yüzden teknoloji açısından değer yaratacak şekilde kullanıyoruz.\n",
    "\n",
    "Diğer bir anlatımla, kendi kendine öğrenen matematiksel modeller ve algoritmalar ile insandan bağımsız davranış geliştirmesi gerekmektedir. \n",
    "\n",
    "Nesnelerin İnterneti, hem bireylerin hem de şirketlerin hayatında geniş bir kullanım alanı\n",
    "bulmaktadır.\n",
    "M2M sistemleri, günümüzde neredeyse herhangi bir donanımın çeşitli uygulamalar veya cihazlarla birbirine kolayca bağlanabildiği Nesnelerin İnterneti (IoT), Her şeyin İnterneti (IoE), Nesnelerin Ağı (WoT) ve Her şeyin Ağı (WoE) gibi ortamlara evrilmiştir. "
   ]
  },
  {
   "cell_type": "markdown",
   "metadata": {},
   "source": [
    "---------------------------------------------------------------------------------------------------------------------"
   ]
  },
  {
   "cell_type": "markdown",
   "metadata": {},
   "source": [
    "# YAPAY ZEKA"
   ]
  },
  {
   "cell_type": "markdown",
   "metadata": {},
   "source": [
    "Başlıca olarak uzman sistemler, genetik algoritmalar, bulanık mantık, yapay sinir ağları,makine öğrenmesi gibi teknikler, genel olarak yapay zeka teknolojileri olarak adlandırılmaktadır.\n",
    "\n",
    "Yapay zeka, bilgisayar kontrolündeki bir makineye kendisinden beklenen işlevleri canlılara benzer şekilde yerine getirme yeteneği kazandırılmasıdır. Yapay zeka çalışmaları genellikle canlıların bir işlevi yerine getirken geliştirdikleri davranış yöntemleri analiz edilerek, matematiksel modellerinin geliştirtirilmesine yöneliktir. Yapay zeka araştırmacıları, insan gibi düşünebilen sistemleri araştırmaya devam ederken, rasyonel karar alan sistemler (Uzman sistemler) üzerine yoğunlaşan çalışmalar da hız kazanmıştır.\n",
    "\n",
    " Bilgiyi sayısallaştırıp veriye dönüştüren, toplayan, sınıflandıran, birleştiren ve kıyaslama yapan algılayıcıların ortak değerlendirme ile doğru karar vermesinin nasıl yapılacağının iyi anlaşılması için, insan ve hayvanların bu işlevleri nasıl yaptığının çok iyi araştırılması gerekmektedir. “Algılamak\n",
    "öğrenmektir.” Karar vermek; risk satın alarak seçim yapmaktır. \n",
    "\n",
    "Alt dalları:\n",
    "-  Makine Zekâsı (Sembolik Yapay Zekâ)\n",
    "- Yapay Sinir Ağları (Sibernetik Yapay Zekâ)\n",
    "- Doğal Dil işleme (Dil ile düşünme)\n",
    "- Konuşma Sentezi (Yapay Konuşma)\n",
    "- Konuşma Anlama (Konuşma Analizi)\n",
    "- Uzman sistemler\n",
    "- Örüntü Tanıma\n",
    "- Genetik Algoritmalar\n",
    "- Genetik Programlama\n",
    "- Bulanık Mantık\n",
    "- Çoklu Örnekle Öğrenme(Multiple Instance Learning)"
   ]
  },
  {
   "cell_type": "markdown",
   "metadata": {},
   "source": [
    "--------------------------------------------------------------------------------------------------------------------------------------"
   ]
  },
  {
   "cell_type": "markdown",
   "metadata": {},
   "source": [
    "# Yapay Zeka, Makine Öğrenmesi ve Derin Öğrenme Arasındaki Temel Farklar "
   ]
  },
  {
   "cell_type": "markdown",
   "metadata": {},
   "source": [
    "Yapay zekâ, ister makine öğrenmesi kullansın ister kullanmasın herhangi bir tahmin veya karar işlemini gerçekleştiren teknolojilerin genel adıdır. \n",
    "\n",
    "Makine öğrenmesinde algoritmalar tamamen veriden öğrenilir. \n",
    "\n",
    "Derin öğrenme modeli, verinin yapısına göre hangi parametrelere ne ağırlık verileceğini kendisi keşfetmektedir. Derin öğrenme algoritması da veriye dayalı öğrenme gerçekleştirmekle birlikte, öğrenme süreci standart makine öğrenmesi algoritmalarında olduğu gibi tek bir matematiksel modele değil sinirsel ağ(neural network) olarak ifade edilen ağ diyagramlarına benzeyen yapıda geliştirilen hesaplamalarla çalışmaktadır.\n",
    "\n",
    "*Sinir ağı(derin ağı) öğrenmek için önce yapay ağı(yapay sinir ağını) öğrenip daha sonra derin öğrenmeyi anlamak lazım.\n",
    "\n",
    "*derin öğrenme algoritması bir makine öğrenmesi algoritmasıdır çünkü verilerden öğrenme gerçekleştirmektedir. Ancak her makine öğrenmesi algoritması derin öğrenme algoritması değildir;\n",
    "\n",
    "Derin Öğrenme algoritmalarının standart makine öğrenmesi algoritmalarına göre en büyük üstünlüğü feature engineering(öznitelik mühendisliği) adı verilen süreci gerektirmemesidir.\n",
    "\n",
    "Derin öğrenme modeli, verinin yapısına göre hangi parametrelere ne ağırlık verileceğini kendisi keşfetmektedir.\n",
    "\n",
    "Derin öğrenme algoritmalarının makine öğrenmesi algoritmalarına göre dezavantajı ise ihtiyaç duyulan donanım ve veri kapasitesidir. Makine Öğrenmesinde featureleri sınıflandırıcıya vererek bunun bir araba olup olmadığını anlamaya çalışıyoruz, buna \"Feature Engineering\" denir. Derin Öğrenmede ise buna gerek yok çünkü kendi kendine öğrenme durumu mevcut.\n",
    "\n",
    "- Yapay Zeka > Makine Öğrenmesi > Derin Öğrenme şeklinde:   \n",
    " yapay zeka hem makine öğrenmesi hem de derin öğrenme kümelerini içeriyor."
   ]
  }
 ],
 "metadata": {
  "kernelspec": {
   "display_name": "Python 3",
   "language": "python",
   "name": "python3"
  },
  "language_info": {
   "codemirror_mode": {
    "name": "ipython",
    "version": 3
   },
   "file_extension": ".py",
   "mimetype": "text/x-python",
   "name": "python",
   "nbconvert_exporter": "python",
   "pygments_lexer": "ipython3",
   "version": "3.11.2"
  }
 },
 "nbformat": 4,
 "nbformat_minor": 2
}
