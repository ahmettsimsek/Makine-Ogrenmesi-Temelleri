{
 "cells": [
  {
   "cell_type": "markdown",
   "metadata": {},
   "source": [
    "# NEDEN MAKİNE ÖĞRENMESİ?"
   ]
  },
  {
   "cell_type": "markdown",
   "metadata": {},
   "source": [
    " - Makine öğrenimi: Örnek verileri veya geçmiş deneyimleri kullanarak bir performans kriterini\n",
    "optimize etmek için bilgisayarları programlamaktır. İyi olasılıklı modeller oluşturarak bir veri\n",
    "kütlesinden faydalı bilgilerin otomatik olarak çıkarılması. Genel bir teorinin olmadığı\n",
    "durumlarda çok fazla veriye sahip alanlar için idealdir."
   ]
  },
  {
   "cell_type": "markdown",
   "metadata": {},
   "source": [
    "- Makine Öğrenimi çalışması: Deneyimle bazı görevlerde performanslarını artıran\n",
    "algoritmaların geliştirilmesidir. Bir çıkarım süreci, model uydurma veya örneklerden\n",
    "öğrenme yoluyla, verilerden teoriyi otomatik olarak öğrenmek.\n",
    " 1) Örnekler dışında bazı görevler iyi tanımlanamaz (örneğin yüzlerin veya insanların\n",
    "tanınması).\n",
    "  2) Büyük miktarda verinin gizli ilişkileri ve korelasyonları(büyük verilerde hangileri önemli öne getirir) olabilir. Bunları yalnızca\n",
    "otomatik yaklaşımlar tespit edebilir.\n",
    " 3) Belirli bir sorun / görev hakkındaki bilgi miktarı, insanlar tarafından açık kodlama için\n",
    "çok büyük olabilir (örneğin, tıbbi teşhislerde)\n",
    " 4) Ortamlar zamanla değişir ve sürekli olarak yeni bilgiler keşfedilir. Sistemlerin \"elle\"\n",
    "sürekli olarak yeniden tasarlanması zor olabilir.\n"
   ]
  },
  {
   "cell_type": "markdown",
   "metadata": {},
   "source": []
  },
  {
   "cell_type": "markdown",
   "metadata": {},
   "source": [
    "Makine öğreniminin yaptığı şey, verileri farklı algoritmalarla işlemektir ve bize bunun bir kedi mi yoksa köpek mi\n",
    "olduğunu belirlemede hangi özelliğin daha önemli ve etkin olduğunu söyler. O halde\n",
    "sonuca etkisi fazla olan paremetrelerin belirlenmesi çok daha önemsenmelidir."
   ]
  },
  {
   "cell_type": "markdown",
   "metadata": {},
   "source": [
    "# BÜYÜK VERİ"
   ]
  }
 ],
 "metadata": {
  "kernelspec": {
   "display_name": "Python 3",
   "language": "python",
   "name": "python3"
  },
  "language_info": {
   "codemirror_mode": {
    "name": "ipython",
    "version": 3
   },
   "file_extension": ".py",
   "mimetype": "text/x-python",
   "name": "python",
   "nbconvert_exporter": "python",
   "pygments_lexer": "ipython3",
   "version": "3.11.2"
  }
 },
 "nbformat": 4,
 "nbformat_minor": 2
}
