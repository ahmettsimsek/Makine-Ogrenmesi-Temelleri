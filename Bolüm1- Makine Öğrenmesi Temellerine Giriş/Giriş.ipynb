{
 "cells": [
  {
   "cell_type": "markdown",
   "metadata": {},
   "source": [
    "# ÖZET"
   ]
  },
  {
   "cell_type": "markdown",
   "metadata": {},
   "source": [
    "Makine Öğrenimi, veri bilimi uygulamaları için büyük bir potansiyel açmıştır. Makine Öğrenimi, bigisayar bilimi, matematik ve istatistikleri birleştirir. İstatistikler, verilerden çıkarımlar yapmak için gereklidir. Matematik, makine öğrenimi modelleri geliştirmek için yararlıdır ve son olarak, algoritmaları uygulamak için bilgisayar bilimi kullanır."
   ]
  },
  {
   "cell_type": "markdown",
   "metadata": {},
   "source": [
    "# GİRİŞ\n"
   ]
  },
  {
   "cell_type": "markdown",
   "metadata": {},
   "source": [
    "Bilgiyi sayısallaştırıp veriye dönüştüren, toplayan, sınıflandıran, birleştiren ve kıyaslama yapan algılayıcıların ortak değerlendirme ile doğru karar vermesinin nasıl yapılacağının iyi anlaşılması için, insan ve hayvanların bu işlevleri nasıl yaptığının çok iyi araştırılması gereklidir.\n",
    "\n",
    "\n",
    "Makine Öğrenimi(ML - Machine Learning), anormallik algılama, tahmin, sınıflandırma, kümeleme, ilişkilendirme, boyut azaltma, desen bulma, eğilim ya da yön bulma ve öngörücü bakım gibi kulanım durumları için LoT(Nesnelerin İnterneti) uygulamalarında giderek daha yaygın hale geliyor.\n",
    "\n",
    "Makine Öğrenimi çok çeştili heycan verici bir alandır ve onu tanımanın bir çok yolu vardır:\n",
    "1) Yapay Zeka Görünümü: Öğrenme, insan bilgisi ve zekanın merkezinde yer alır ve aynı şekilde akıllı makineler inşa etmek için gereklidir.\n",
    "\n",
    "2) Yazılım Mühendisliği Görünümü: Makine Öğrenimi, bilgileri örnekleyerek programlamamıza olanak tanır.\n",
    "\n",
    "3) İstatik Görünümü: Makine Öğrenimi, bilgisayar bilimi ve istatiğin birleşimidir. Hesaplama teknikleri istatiksel problemlere uygulanır."
   ]
  },
  {
   "cell_type": "markdown",
   "metadata": {},
   "source": [
    "   # 1. GENEL KAVRAMLAR"
   ]
  },
  {
   "cell_type": "markdown",
   "metadata": {},
   "source": [
    "a) Sistem: Amaç doğrultusunda çıkış sinyalleri üretmek için giriş sinyallerini işleyen, giriş sinyalini başka birime çeviren birimlerdir.\n",
    "\n",
    "b) Zeka: İnsanın düşünme, akıl yürütme, algılama, kavrama, yargılama ve sonuç çıkarma yeteneklerinin tümüdür.\n",
    "\n",
    "c) Akıl: Düşünme, kavrama, anlama yetisidir. Doğru ve yanlışı, yalan ve gerçeği ayırt edebilme yetisidir.\n",
    "\n",
    "d) Sinyal: Genellikle zaman içinde üretilen değerler dizisidir, bilgi taşırlar ve matematiksel olarak değişkenlerin fonksiyonu biçiminde gösterilir.\n",
    "\n",
    "e) Veri (Data): Bilgisayarın belleğine aktarılan sinyaller, resimler, görüntüler, şekiller, rakamlar, metinler ve ses gibi sembollerdir.\n",
    "\n",
    "f) Bilgi (Information): İşlenmiş, düzenlenmiş, anlamlandırılmış verilerdir. Bilgi, organize, anlamlı ve yararlı verilerdir. \n",
    "\n",
    "g) Yetenek - Tecrübe (Knowledge): Karar vermede, kestirim yapmada, doğruyu aramada performansı yükseltmektir.\n",
    "\n",
    "ğ) Bilinç (Understand): Anlayarak, kavrayarak, hissederek anlamaktır.\n",
    "\n",
    "h) Wisdom (Bilgelik): Değerlendirilmiş anlayıştır. Sorgulayarak, kestirim yaparak karar vermede ve yorumlamada etkindir.\n",
    "\n",
    "ı) veri gürültüsü: Makine öğrenimi algoritmasının amacıyla alakalı olmayan herhangi bir veridir.\n",
    "\n",
    "i) Örüntü (Pattern): Bir nesnenin ya da olayın davranışının iki veya üç boyutlu, uzaysal ve geometriksel gösterildiği desenlerdir. \n",
    "\n",
    "j) Olgu: Doğruluğu ispatlanmış önerme veya beklenen eylem.\n",
    "\n",
    "k) Olay: Vakadır. Yağmur yağacak olması olgu, bunun yağması olaydır.\n",
    "\n",
    "l) Hipotez: Bir problemin çözümünün ya da doğruluğunun araştırılmasına yön veren temel düşünceler, varsayımlar ve önermelerdir.\n",
    "\n",
    "m) Öznitelik: Bir olgunun anlaşılır, ayırt edici ve bağımsız ölçülebilir özelliklerine öznitelik denir.\n",
    "\n",
    "n) Öznitelikler vektörü: Sayısal öznitelikler kümesinin matematiksel tanımlanmasında öznitelik vektörü kullanılır. \n",
    "\n",
    "o) Hesaplamalı düşünme: bilgisayar yoluyla problemlere yaklaşmanın yeni bir yolu Soyutlama, ayrıştırma, modülerlik, ...\n",
    "\n",
    "ö) Veri bilimi: veri açısından zengin sorunları çözmek için disiplinler arası bir yaklaşım Makine öğrenimi, büyük ölçekli bilgi işlem, semantik meta veriler, iş akışları.\n",
    "\n",
    "p) Kesikli (Süreksiz) Değişken: Tanımlı olduğu aralıklarda ayrık değerler alan değişkenlerdir. \n",
    "\n",
    "r) Sürekli Değişken: Tanımlı olduğu aralıkta tüm değerleri (sonsuz sayıda) alabilen\n",
    "değişkenlerdir.\n",
    "s) Nicel (Kantitatif) Değişkenler: Ölçüm sonucu değerleri saptanan sayısal özelliklerini belirten değişkenlerdir. Sayılabilir veya ölçülebilir büyüklüklerdir.\n",
    "\n",
    "ş) Nitel (Kalitatif) Değişkenler: Karakteristik özelliklerini, durumlarını ve pozisyonlarını belirten değişkenlerdir. \n",
    "\n",
    "t) Sıklık (Frekans) Dağılımı: Verilerin gösterdiği dağılıma sıklık (frekans) dağılımı denir. Aynı peryoda sahip sinyalin bütün içerisinde kaç kez tekrar etmesidir.\n",
    "u) Sınıf: Eşit ya da birbirine yakın değerli deneklerin oluşturduğu her bir gruba sınıf denir.\n",
    "\n",
    "ü)Eşik seviye değeri (Bias): Bir fikir veya şey lehine veya aleyhine orantısız bir ağırlıktır.\n"
   ]
  }
 ],
 "metadata": {
  "kernelspec": {
   "display_name": "Python 3",
   "language": "python",
   "name": "python3"
  },
  "language_info": {
   "codemirror_mode": {
    "name": "ipython",
    "version": 3
   },
   "file_extension": ".py",
   "mimetype": "text/x-python",
   "name": "python",
   "nbconvert_exporter": "python",
   "pygments_lexer": "ipython3",
   "version": "3.11.2"
  }
 },
 "nbformat": 4,
 "nbformat_minor": 2
}
